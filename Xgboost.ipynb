{
 "cells": [
  {
   "cell_type": "code",
   "execution_count": 1,
   "id": "c3152117",
   "metadata": {},
   "outputs": [
    {
     "name": "stdout",
     "output_type": "stream",
     "text": [
      "        Unnamed: 0  CUST_RK  EVENT  EVENT_TYPE1    EVENT_DT  \\\n",
      "0                0       31      2           63  2019-12-24   \n",
      "1                1       48      2           74  2019-05-28   \n",
      "2                2       55      5            6  2020-03-17   \n",
      "3                3       59      5           23  2019-10-01   \n",
      "4                4       59      5           16  2020-11-16   \n",
      "...            ...      ...    ...          ...         ...   \n",
      "272497       75731    75328      2           41  2020-09-21   \n",
      "272498       75732    75328      2           65  2020-09-21   \n",
      "272499       75733    75328      2           43  2020-09-28   \n",
      "272500       75734    75328      2           65  2020-09-28   \n",
      "272501       75735    75328      2           35  2020-10-06   \n",
      "\n",
      "        MONTH_SINCE_LAST_BUY  \n",
      "0                         -1  \n",
      "1                         -1  \n",
      "2                         -1  \n",
      "3                         -1  \n",
      "4                         -1  \n",
      "...                      ...  \n",
      "272497                     3  \n",
      "272498                     3  \n",
      "272499                    -1  \n",
      "272500                    -1  \n",
      "272501                    -1  \n",
      "\n",
      "[272502 rows x 6 columns]\n"
     ]
    }
   ],
   "source": [
    "import numpy as np\n",
    "import pandas as pd\n",
    "from sklearn.model_selection import train_test_split\n",
    "from sklearn.ensemble import GradientBoostingRegressor  \n",
    "from sklearn.metrics import mean_squared_error\n",
    "import matplotlib.pyplot as plt\n",
    "df  = pd.read_csv('C:\\A1\\journey_df_train.csv')\n",
    "print(df)\n",
    "\n",
    "c = df['EVENT']\n"
   ]
  },
  {
   "cell_type": "code",
   "execution_count": 2,
   "id": "24172256",
   "metadata": {},
   "outputs": [
    {
     "name": "stderr",
     "output_type": "stream",
     "text": [
      "C:\\Users\\linnn\\anaconda3\\lib\\site-packages\\sklearn\\utils\\validation.py:63: DataConversionWarning: A column-vector y was passed when a 1d array was expected. Please change the shape of y to (n_samples, ), for example using ravel().\n",
      "  return f(*args, **kwargs)\n"
     ]
    },
    {
     "data": {
      "text/plain": [
       "GradientBoostingRegressor(random_state=1)"
      ]
     },
     "execution_count": 2,
     "metadata": {},
     "output_type": "execute_result"
    }
   ],
   "source": [
    "X = np.array(c)   #建立特徵集\n",
    "\n",
    "y = np.array(df.MONTH_SINCE_LAST_BUY) \n",
    "\n",
    "X = X.reshape((len(X),1))\n",
    "y = y.reshape((len(y),1))\n",
    "\n",
    "X_train, X_test, y_train, y_test = train_test_split(X,y,test_size=0.2, random_state=0)\n",
    "\n",
    "gb = GradientBoostingRegressor(random_state=1)\n",
    "\n",
    "gb.fit(X_train, y_train)"
   ]
  },
  {
   "cell_type": "code",
   "execution_count": 3,
   "id": "0b123baf",
   "metadata": {},
   "outputs": [
    {
     "name": "stdout",
     "output_type": "stream",
     "text": [
      "MSE training: 23.092, MSE testing: 22.619\n",
      "RMSE training: 4.805, RMSE testing: 4.756\n"
     ]
    }
   ],
   "source": [
    "y_test_predict = gb.predict(X_test)\n",
    "y_train_predict = gb.predict(X_train)\n",
    "\n",
    "train_mse = mean_squared_error(y_train, y_train_predict)\n",
    "test_mse = mean_squared_error(y_test, y_test_predict)\n",
    "print('MSE training: %.3f, MSE testing: %.3f' % (\n",
    "      (train_mse), (test_mse)))\n",
    "print('RMSE training: %.3f, RMSE testing: %.3f' % (\n",
    "      (train_mse**0.5), (test_mse**0.5)))\n"
   ]
  },
  {
   "cell_type": "code",
   "execution_count": null,
   "id": "a0abbe38",
   "metadata": {},
   "outputs": [],
   "source": []
  }
 ],
 "metadata": {
  "kernelspec": {
   "display_name": "Python 3",
   "language": "python",
   "name": "python3"
  },
  "language_info": {
   "codemirror_mode": {
    "name": "ipython",
    "version": 3
   },
   "file_extension": ".py",
   "mimetype": "text/x-python",
   "name": "python",
   "nbconvert_exporter": "python",
   "pygments_lexer": "ipython3",
   "version": "3.8.8"
  }
 },
 "nbformat": 4,
 "nbformat_minor": 5
}
