{
  "nbformat": 4,
  "nbformat_minor": 0,
  "metadata": {
    "colab": {
      "name": "keras0721.ipynb",
      "provenance": []
    },
    "kernelspec": {
      "name": "python3",
      "display_name": "Python 3"
    },
    "language_info": {
      "name": "python"
    },
    "accelerator": "GPU",
    "gpuClass": "standard"
  },
  "cells": [
    {
      "cell_type": "code",
      "execution_count": 1,
      "metadata": {
        "colab": {
          "base_uri": "https://localhost:8080/",
          "height": 206
        },
        "id": "xFvTzPr2sHY6",
        "outputId": "cb4bbb3e-7a43-4078-b2d6-b14c614b86fc"
      },
      "outputs": [
        {
          "output_type": "execute_result",
          "data": {
            "text/plain": [
              "              Name  Gender  Age     City  Tenure  ProductsNo  HasCard  \\\n",
              "0         Kan Jian  Female   40  Beijing       9           2        0   \n",
              "1      Xue Baochai    Male   69  Beijing       6           2        0   \n",
              "2           Mao Xi  Female   32  Beijing       9           1        1   \n",
              "3  Zheng Nengliang  Female   37  Tianjin       0           2        1   \n",
              "4          Zhi Fen    Male   55  Tianjin       4           3        1   \n",
              "\n",
              "   ActiveMember  Credit  AccountBal       Salary  Exited  \n",
              "0             1     516     6360.66       0.0000       0  \n",
              "1             1     682    28605.00       0.0000       0  \n",
              "2             1     803    10378.09  236311.0932       1  \n",
              "3             1     778    25564.01  129909.8079       1  \n",
              "4             0     547     3235.61  136976.1948       1  "
            ],
            "text/html": [
              "\n",
              "  <div id=\"df-90b0f5ff-0501-4a9b-8ccd-9c999aec9e1a\">\n",
              "    <div class=\"colab-df-container\">\n",
              "      <div>\n",
              "<style scoped>\n",
              "    .dataframe tbody tr th:only-of-type {\n",
              "        vertical-align: middle;\n",
              "    }\n",
              "\n",
              "    .dataframe tbody tr th {\n",
              "        vertical-align: top;\n",
              "    }\n",
              "\n",
              "    .dataframe thead th {\n",
              "        text-align: right;\n",
              "    }\n",
              "</style>\n",
              "<table border=\"1\" class=\"dataframe\">\n",
              "  <thead>\n",
              "    <tr style=\"text-align: right;\">\n",
              "      <th></th>\n",
              "      <th>Name</th>\n",
              "      <th>Gender</th>\n",
              "      <th>Age</th>\n",
              "      <th>City</th>\n",
              "      <th>Tenure</th>\n",
              "      <th>ProductsNo</th>\n",
              "      <th>HasCard</th>\n",
              "      <th>ActiveMember</th>\n",
              "      <th>Credit</th>\n",
              "      <th>AccountBal</th>\n",
              "      <th>Salary</th>\n",
              "      <th>Exited</th>\n",
              "    </tr>\n",
              "  </thead>\n",
              "  <tbody>\n",
              "    <tr>\n",
              "      <th>0</th>\n",
              "      <td>Kan Jian</td>\n",
              "      <td>Female</td>\n",
              "      <td>40</td>\n",
              "      <td>Beijing</td>\n",
              "      <td>9</td>\n",
              "      <td>2</td>\n",
              "      <td>0</td>\n",
              "      <td>1</td>\n",
              "      <td>516</td>\n",
              "      <td>6360.66</td>\n",
              "      <td>0.0000</td>\n",
              "      <td>0</td>\n",
              "    </tr>\n",
              "    <tr>\n",
              "      <th>1</th>\n",
              "      <td>Xue Baochai</td>\n",
              "      <td>Male</td>\n",
              "      <td>69</td>\n",
              "      <td>Beijing</td>\n",
              "      <td>6</td>\n",
              "      <td>2</td>\n",
              "      <td>0</td>\n",
              "      <td>1</td>\n",
              "      <td>682</td>\n",
              "      <td>28605.00</td>\n",
              "      <td>0.0000</td>\n",
              "      <td>0</td>\n",
              "    </tr>\n",
              "    <tr>\n",
              "      <th>2</th>\n",
              "      <td>Mao Xi</td>\n",
              "      <td>Female</td>\n",
              "      <td>32</td>\n",
              "      <td>Beijing</td>\n",
              "      <td>9</td>\n",
              "      <td>1</td>\n",
              "      <td>1</td>\n",
              "      <td>1</td>\n",
              "      <td>803</td>\n",
              "      <td>10378.09</td>\n",
              "      <td>236311.0932</td>\n",
              "      <td>1</td>\n",
              "    </tr>\n",
              "    <tr>\n",
              "      <th>3</th>\n",
              "      <td>Zheng Nengliang</td>\n",
              "      <td>Female</td>\n",
              "      <td>37</td>\n",
              "      <td>Tianjin</td>\n",
              "      <td>0</td>\n",
              "      <td>2</td>\n",
              "      <td>1</td>\n",
              "      <td>1</td>\n",
              "      <td>778</td>\n",
              "      <td>25564.01</td>\n",
              "      <td>129909.8079</td>\n",
              "      <td>1</td>\n",
              "    </tr>\n",
              "    <tr>\n",
              "      <th>4</th>\n",
              "      <td>Zhi Fen</td>\n",
              "      <td>Male</td>\n",
              "      <td>55</td>\n",
              "      <td>Tianjin</td>\n",
              "      <td>4</td>\n",
              "      <td>3</td>\n",
              "      <td>1</td>\n",
              "      <td>0</td>\n",
              "      <td>547</td>\n",
              "      <td>3235.61</td>\n",
              "      <td>136976.1948</td>\n",
              "      <td>1</td>\n",
              "    </tr>\n",
              "  </tbody>\n",
              "</table>\n",
              "</div>\n",
              "      <button class=\"colab-df-convert\" onclick=\"convertToInteractive('df-90b0f5ff-0501-4a9b-8ccd-9c999aec9e1a')\"\n",
              "              title=\"Convert this dataframe to an interactive table.\"\n",
              "              style=\"display:none;\">\n",
              "        \n",
              "  <svg xmlns=\"http://www.w3.org/2000/svg\" height=\"24px\"viewBox=\"0 0 24 24\"\n",
              "       width=\"24px\">\n",
              "    <path d=\"M0 0h24v24H0V0z\" fill=\"none\"/>\n",
              "    <path d=\"M18.56 5.44l.94 2.06.94-2.06 2.06-.94-2.06-.94-.94-2.06-.94 2.06-2.06.94zm-11 1L8.5 8.5l.94-2.06 2.06-.94-2.06-.94L8.5 2.5l-.94 2.06-2.06.94zm10 10l.94 2.06.94-2.06 2.06-.94-2.06-.94-.94-2.06-.94 2.06-2.06.94z\"/><path d=\"M17.41 7.96l-1.37-1.37c-.4-.4-.92-.59-1.43-.59-.52 0-1.04.2-1.43.59L10.3 9.45l-7.72 7.72c-.78.78-.78 2.05 0 2.83L4 21.41c.39.39.9.59 1.41.59.51 0 1.02-.2 1.41-.59l7.78-7.78 2.81-2.81c.8-.78.8-2.07 0-2.86zM5.41 20L4 18.59l7.72-7.72 1.47 1.35L5.41 20z\"/>\n",
              "  </svg>\n",
              "      </button>\n",
              "      \n",
              "  <style>\n",
              "    .colab-df-container {\n",
              "      display:flex;\n",
              "      flex-wrap:wrap;\n",
              "      gap: 12px;\n",
              "    }\n",
              "\n",
              "    .colab-df-convert {\n",
              "      background-color: #E8F0FE;\n",
              "      border: none;\n",
              "      border-radius: 50%;\n",
              "      cursor: pointer;\n",
              "      display: none;\n",
              "      fill: #1967D2;\n",
              "      height: 32px;\n",
              "      padding: 0 0 0 0;\n",
              "      width: 32px;\n",
              "    }\n",
              "\n",
              "    .colab-df-convert:hover {\n",
              "      background-color: #E2EBFA;\n",
              "      box-shadow: 0px 1px 2px rgba(60, 64, 67, 0.3), 0px 1px 3px 1px rgba(60, 64, 67, 0.15);\n",
              "      fill: #174EA6;\n",
              "    }\n",
              "\n",
              "    [theme=dark] .colab-df-convert {\n",
              "      background-color: #3B4455;\n",
              "      fill: #D2E3FC;\n",
              "    }\n",
              "\n",
              "    [theme=dark] .colab-df-convert:hover {\n",
              "      background-color: #434B5C;\n",
              "      box-shadow: 0px 1px 3px 1px rgba(0, 0, 0, 0.15);\n",
              "      filter: drop-shadow(0px 1px 2px rgba(0, 0, 0, 0.3));\n",
              "      fill: #FFFFFF;\n",
              "    }\n",
              "  </style>\n",
              "\n",
              "      <script>\n",
              "        const buttonEl =\n",
              "          document.querySelector('#df-90b0f5ff-0501-4a9b-8ccd-9c999aec9e1a button.colab-df-convert');\n",
              "        buttonEl.style.display =\n",
              "          google.colab.kernel.accessAllowed ? 'block' : 'none';\n",
              "\n",
              "        async function convertToInteractive(key) {\n",
              "          const element = document.querySelector('#df-90b0f5ff-0501-4a9b-8ccd-9c999aec9e1a');\n",
              "          const dataTable =\n",
              "            await google.colab.kernel.invokeFunction('convertToInteractive',\n",
              "                                                     [key], {});\n",
              "          if (!dataTable) return;\n",
              "\n",
              "          const docLinkHtml = 'Like what you see? Visit the ' +\n",
              "            '<a target=\"_blank\" href=https://colab.research.google.com/notebooks/data_table.ipynb>data table notebook</a>'\n",
              "            + ' to learn more about interactive tables.';\n",
              "          element.innerHTML = '';\n",
              "          dataTable['output_type'] = 'display_data';\n",
              "          await google.colab.output.renderOutput(dataTable, element);\n",
              "          const docLink = document.createElement('div');\n",
              "          docLink.innerHTML = docLinkHtml;\n",
              "          element.appendChild(docLink);\n",
              "        }\n",
              "      </script>\n",
              "    </div>\n",
              "  </div>\n",
              "  "
            ]
          },
          "metadata": {},
          "execution_count": 1
        }
      ],
      "source": [
        "import pandas as pd\n",
        "import numpy as np\n",
        "df = pd.read_csv('/content/BankCustomer.csv')\n",
        "df.head()"
      ]
    },
    {
      "cell_type": "code",
      "source": [
        "import matplotlib.pyplot as plt\n",
        "import seaborn as sns\n",
        "features = ['City','Gender','Age','Tenure','ProductsNo','HasCard','ActiveMember','Exited']\n",
        "fig = plt.subplots(figsize=(15,15))\n",
        "for i,j in enumerate(features):       # enumerate() 為列舉法，各別給予編號\n",
        "    plt.subplot(4,2,i+1)              #將大圖切割成四列兩行\n",
        "    plt.subplots_adjust(hspace = 1.0)\n",
        "    sns.countplot(x = j,data = df)   \n",
        "    plt.title(\"No. of costumers\")"
      ],
      "metadata": {
        "colab": {
          "base_uri": "https://localhost:8080/",
          "height": 893
        },
        "id": "eFBmEazKs61a",
        "outputId": "cc1df631-6806-4d02-fa42-6f56d7705acf"
      },
      "execution_count": 2,
      "outputs": [
        {
          "output_type": "display_data",
          "data": {
            "text/plain": [
              "<Figure size 1080x1080 with 8 Axes>"
            ],
            "image/png": "[encoded data removed]"
          },
          "metadata": {
            "needs_background": "light"
          }
        }
      ]
    },
    {
      "cell_type": "code",
      "source": [
        "#將性別用0、1去做分類\n",
        "df['Gender'].replace(\"Female\",0,inplace = True)\n",
        "df['Gender'].replace(\"Male\",1,inplace = True)\n",
        "print('Gender unique values',df['Gender'].unique())\n",
        "#將多元類別轉成多個二元類別的dummy variable，然後當作欄位放入data set中\n",
        "df_city = pd.get_dummies(df['City'],prefix = 'City')    # prefix: String to append DataFrame column name\n",
        "df = [df,df_city]\n",
        "df = pd.concat(df,axis=1)"
      ],
      "metadata": {
        "colab": {
          "base_uri": "https://localhost:8080/"
        },
        "id": "2vhXf-RHs6-D",
        "outputId": "63958844-4841-4ec7-f0cf-3cbc38e3b9b8"
      },
      "execution_count": 3,
      "outputs": [
        {
          "output_type": "stream",
          "name": "stdout",
          "text": [
            "Gender unique values [0 1]\n"
          ]
        }
      ]
    },
    {
      "cell_type": "code",
      "source": [
        "df.head()"
      ],
      "metadata": {
        "colab": {
          "base_uri": "https://localhost:8080/",
          "height": 305
        },
        "id": "ar9osoTbs7A-",
        "outputId": "52623130-935a-4acf-b597-5c9eccf6fead"
      },
      "execution_count": 4,
      "outputs": [
        {
          "output_type": "execute_result",
          "data": {
            "text/plain": [
              "              Name  Gender  Age     City  Tenure  ProductsNo  HasCard  \\\n",
              "0         Kan Jian       0   40  Beijing       9           2        0   \n",
              "1      Xue Baochai       1   69  Beijing       6           2        0   \n",
              "2           Mao Xi       0   32  Beijing       9           1        1   \n",
              "3  Zheng Nengliang       0   37  Tianjin       0           2        1   \n",
              "4          Zhi Fen       1   55  Tianjin       4           3        1   \n",
              "\n",
              "   ActiveMember  Credit  AccountBal       Salary  Exited  City_Beijing  \\\n",
              "0             1     516     6360.66       0.0000       0             1   \n",
              "1             1     682    28605.00       0.0000       0             1   \n",
              "2             1     803    10378.09  236311.0932       1             1   \n",
              "3             1     778    25564.01  129909.8079       1             0   \n",
              "4             0     547     3235.61  136976.1948       1             0   \n",
              "\n",
              "   City_Shanghai  City_Tianjin  \n",
              "0              0             0  \n",
              "1              0             0  \n",
              "2              0             0  \n",
              "3              0             1  \n",
              "4              0             1  "
            ],
            "text/html": [
              "\n",
              "  <div id=\"df-aeb6a6eb-8c77-4bb8-bcb0-83df8ed13998\">\n",
              "    <div class=\"colab-df-container\">\n",
              "      <div>\n",
              "<style scoped>\n",
              "    .dataframe tbody tr th:only-of-type {\n",
              "        vertical-align: middle;\n",
              "    }\n",
              "\n",
              "    .dataframe tbody tr th {\n",
              "        vertical-align: top;\n",
              "    }\n",
              "\n",
              "    .dataframe thead th {\n",
              "        text-align: right;\n",
              "    }\n",
              "</style>\n",
              "<table border=\"1\" class=\"dataframe\">\n",
              "  <thead>\n",
              "    <tr style=\"text-align: right;\">\n",
              "      <th></th>\n",
              "      <th>Name</th>\n",
              "      <th>Gender</th>\n",
              "      <th>Age</th>\n",
              "      <th>City</th>\n",
              "      <th>Tenure</th>\n",
              "      <th>ProductsNo</th>\n",
              "      <th>HasCard</th>\n",
              "      <th>ActiveMember</th>\n",
              "      <th>Credit</th>\n",
              "      <th>AccountBal</th>\n",
              "      <th>Salary</th>\n",
              "      <th>Exited</th>\n",
              "      <th>City_Beijing</th>\n",
              "      <th>City_Shanghai</th>\n",
              "      <th>City_Tianjin</th>\n",
              "    </tr>\n",
              "  </thead>\n",
              "  <tbody>\n",
              "    <tr>\n",
              "      <th>0</th>\n",
              "      <td>Kan Jian</td>\n",
              "      <td>0</td>\n",
              "      <td>40</td>\n",
              "      <td>Beijing</td>\n",
              "      <td>9</td>\n",
              "      <td>2</td>\n",
              "      <td>0</td>\n",
              "      <td>1</td>\n",
              "      <td>516</td>\n",
              "      <td>6360.66</td>\n",
              "      <td>0.0000</td>\n",
              "      <td>0</td>\n",
              "      <td>1</td>\n",
              "      <td>0</td>\n",
              "      <td>0</td>\n",
              "    </tr>\n",
              "    <tr>\n",
              "      <th>1</th>\n",
              "      <td>Xue Baochai</td>\n",
              "      <td>1</td>\n",
              "      <td>69</td>\n",
              "      <td>Beijing</td>\n",
              "      <td>6</td>\n",
              "      <td>2</td>\n",
              "      <td>0</td>\n",
              "      <td>1</td>\n",
              "      <td>682</td>\n",
              "      <td>28605.00</td>\n",
              "      <td>0.0000</td>\n",
              "      <td>0</td>\n",
              "      <td>1</td>\n",
              "      <td>0</td>\n",
              "      <td>0</td>\n",
              "    </tr>\n",
              "    <tr>\n",
              "      <th>2</th>\n",
              "      <td>Mao Xi</td>\n",
              "      <td>0</td>\n",
              "      <td>32</td>\n",
              "      <td>Beijing</td>\n",
              "      <td>9</td>\n",
              "      <td>1</td>\n",
              "      <td>1</td>\n",
              "      <td>1</td>\n",
              "      <td>803</td>\n",
              "      <td>10378.09</td>\n",
              "      <td>236311.0932</td>\n",
              "      <td>1</td>\n",
              "      <td>1</td>\n",
              "      <td>0</td>\n",
              "      <td>0</td>\n",
              "    </tr>\n",
              "    <tr>\n",
              "      <th>3</th>\n",
              "      <td>Zheng Nengliang</td>\n",
              "      <td>0</td>\n",
              "      <td>37</td>\n",
              "      <td>Tianjin</td>\n",
              "      <td>0</td>\n",
              "      <td>2</td>\n",
              "      <td>1</td>\n",
              "      <td>1</td>\n",
              "      <td>778</td>\n",
              "      <td>25564.01</td>\n",
              "      <td>129909.8079</td>\n",
              "      <td>1</td>\n",
              "      <td>0</td>\n",
              "      <td>0</td>\n",
              "      <td>1</td>\n",
              "    </tr>\n",
              "    <tr>\n",
              "      <th>4</th>\n",
              "      <td>Zhi Fen</td>\n",
              "      <td>1</td>\n",
              "      <td>55</td>\n",
              "      <td>Tianjin</td>\n",
              "      <td>4</td>\n",
              "      <td>3</td>\n",
              "      <td>1</td>\n",
              "      <td>0</td>\n",
              "      <td>547</td>\n",
              "      <td>3235.61</td>\n",
              "      <td>136976.1948</td>\n",
              "      <td>1</td>\n",
              "      <td>0</td>\n",
              "      <td>0</td>\n",
              "      <td>1</td>\n",
              "    </tr>\n",
              "  </tbody>\n",
              "</table>\n",
              "</div>\n",
              "      <button class=\"colab-df-convert\" onclick=\"convertToInteractive('df-aeb6a6eb-8c77-4bb8-bcb0-83df8ed13998')\"\n",
              "              title=\"Convert this dataframe to an interactive table.\"\n",
              "              style=\"display:none;\">\n",
              "        \n",
              "  <svg xmlns=\"http://www.w3.org/2000/svg\" height=\"24px\"viewBox=\"0 0 24 24\"\n",
              "       width=\"24px\">\n",
              "    <path d=\"M0 0h24v24H0V0z\" fill=\"none\"/>\n",
              "    <path d=\"M18.56 5.44l.94 2.06.94-2.06 2.06-.94-2.06-.94-.94-2.06-.94 2.06-2.06.94zm-11 1L8.5 8.5l.94-2.06 2.06-.94-2.06-.94L8.5 2.5l-.94 2.06-2.06.94zm10 10l.94 2.06.94-2.06 2.06-.94-2.06-.94-.94-2.06-.94 2.06-2.06.94z\"/><path d=\"M17.41 7.96l-1.37-1.37c-.4-.4-.92-.59-1.43-.59-.52 0-1.04.2-1.43.59L10.3 9.45l-7.72 7.72c-.78.78-.78 2.05 0 2.83L4 21.41c.39.39.9.59 1.41.59.51 0 1.02-.2 1.41-.59l7.78-7.78 2.81-2.81c.8-.78.8-2.07 0-2.86zM5.41 20L4 18.59l7.72-7.72 1.47 1.35L5.41 20z\"/>\n",
              "  </svg>\n",
              "      </button>\n",
              "      \n",
              "  <style>\n",
              "    .colab-df-container {\n",
              "      display:flex;\n",
              "      flex-wrap:wrap;\n",
              "      gap: 12px;\n",
              "    }\n",
              "\n",
              "    .colab-df-convert {\n",
              "      background-color: #E8F0FE;\n",
              "      border: none;\n",
              "      border-radius: 50%;\n",
              "      cursor: pointer;\n",
              "      display: none;\n",
              "      fill: #1967D2;\n",
              "      height: 32px;\n",
              "      padding: 0 0 0 0;\n",
              "      width: 32px;\n",
              "    }\n",
              "\n",
              "    .colab-df-convert:hover {\n",
              "      background-color: #E2EBFA;\n",
              "      box-shadow: 0px 1px 2px rgba(60, 64, 67, 0.3), 0px 1px 3px 1px rgba(60, 64, 67, 0.15);\n",
              "      fill: #174EA6;\n",
              "    }\n",
              "\n",
              "    [theme=dark] .colab-df-convert {\n",
              "      background-color: #3B4455;\n",
              "      fill: #D2E3FC;\n",
              "    }\n",
              "\n",
              "    [theme=dark] .colab-df-convert:hover {\n",
              "      background-color: #434B5C;\n",
              "      box-shadow: 0px 1px 3px 1px rgba(0, 0, 0, 0.15);\n",
              "      filter: drop-shadow(0px 1px 2px rgba(0, 0, 0, 0.3));\n",
              "      fill: #FFFFFF;\n",
              "    }\n",
              "  </style>\n",
              "\n",
              "      <script>\n",
              "        const buttonEl =\n",
              "          document.querySelector('#df-aeb6a6eb-8c77-4bb8-bcb0-83df8ed13998 button.colab-df-convert');\n",
              "        buttonEl.style.display =\n",
              "          google.colab.kernel.accessAllowed ? 'block' : 'none';\n",
              "\n",
              "        async function convertToInteractive(key) {\n",
              "          const element = document.querySelector('#df-aeb6a6eb-8c77-4bb8-bcb0-83df8ed13998');\n",
              "          const dataTable =\n",
              "            await google.colab.kernel.invokeFunction('convertToInteractive',\n",
              "                                                     [key], {});\n",
              "          if (!dataTable) return;\n",
              "\n",
              "          const docLinkHtml = 'Like what you see? Visit the ' +\n",
              "            '<a target=\"_blank\" href=https://colab.research.google.com/notebooks/data_table.ipynb>data table notebook</a>'\n",
              "            + ' to learn more about interactive tables.';\n",
              "          element.innerHTML = '';\n",
              "          dataTable['output_type'] = 'display_data';\n",
              "          await google.colab.output.renderOutput(dataTable, element);\n",
              "          const docLink = document.createElement('div');\n",
              "          docLink.innerHTML = docLinkHtml;\n",
              "          element.appendChild(docLink);\n",
              "        }\n",
              "      </script>\n",
              "    </div>\n",
              "  </div>\n",
              "  "
            ]
          },
          "metadata": {},
          "execution_count": 4
        }
      ]
    },
    {
      "cell_type": "code",
      "source": [
        "y = df['Exited']\n",
        "X = df.drop(['Name','Exited','City'],axis = 1)\n",
        "X.head()"
      ],
      "metadata": {
        "colab": {
          "base_uri": "https://localhost:8080/",
          "height": 250
        },
        "id": "C5-3toJus7EH",
        "outputId": "09dd74d5-6b5b-43c8-8672-ea2f45fb0cdd"
      },
      "execution_count": 5,
      "outputs": [
        {
          "output_type": "execute_result",
          "data": {
            "text/plain": [
              "   Gender  Age  Tenure  ProductsNo  HasCard  ActiveMember  Credit  AccountBal  \\\n",
              "0       0   40       9           2        0             1     516     6360.66   \n",
              "1       1   69       6           2        0             1     682    28605.00   \n",
              "2       0   32       9           1        1             1     803    10378.09   \n",
              "3       0   37       0           2        1             1     778    25564.01   \n",
              "4       1   55       4           3        1             0     547     3235.61   \n",
              "\n",
              "        Salary  City_Beijing  City_Shanghai  City_Tianjin  \n",
              "0       0.0000             1              0             0  \n",
              "1       0.0000             1              0             0  \n",
              "2  236311.0932             1              0             0  \n",
              "3  129909.8079             0              0             1  \n",
              "4  136976.1948             0              0             1  "
            ],
            "text/html": [
              "\n",
              "  <div id=\"df-63f65752-f37c-475f-aa53-29a403f88b6f\">\n",
              "    <div class=\"colab-df-container\">\n",
              "      <div>\n",
              "<style scoped>\n",
              "    .dataframe tbody tr th:only-of-type {\n",
              "        vertical-align: middle;\n",
              "    }\n",
              "\n",
              "    .dataframe tbody tr th {\n",
              "        vertical-align: top;\n",
              "    }\n",
              "\n",
              "    .dataframe thead th {\n",
              "        text-align: right;\n",
              "    }\n",
              "</style>\n",
              "<table border=\"1\" class=\"dataframe\">\n",
              "  <thead>\n",
              "    <tr style=\"text-align: right;\">\n",
              "      <th></th>\n",
              "      <th>Gender</th>\n",
              "      <th>Age</th>\n",
              "      <th>Tenure</th>\n",
              "      <th>ProductsNo</th>\n",
              "      <th>HasCard</th>\n",
              "      <th>ActiveMember</th>\n",
              "      <th>Credit</th>\n",
              "      <th>AccountBal</th>\n",
              "      <th>Salary</th>\n",
              "      <th>City_Beijing</th>\n",
              "      <th>City_Shanghai</th>\n",
              "      <th>City_Tianjin</th>\n",
              "    </tr>\n",
              "  </thead>\n",
              "  <tbody>\n",
              "    <tr>\n",
              "      <th>0</th>\n",
              "      <td>0</td>\n",
              "      <td>40</td>\n",
              "      <td>9</td>\n",
              "      <td>2</td>\n",
              "      <td>0</td>\n",
              "      <td>1</td>\n",
              "      <td>516</td>\n",
              "      <td>6360.66</td>\n",
              "      <td>0.0000</td>\n",
              "      <td>1</td>\n",
              "      <td>0</td>\n",
              "      <td>0</td>\n",
              "    </tr>\n",
              "    <tr>\n",
              "      <th>1</th>\n",
              "      <td>1</td>\n",
              "      <td>69</td>\n",
              "      <td>6</td>\n",
              "      <td>2</td>\n",
              "      <td>0</td>\n",
              "      <td>1</td>\n",
              "      <td>682</td>\n",
              "      <td>28605.00</td>\n",
              "      <td>0.0000</td>\n",
              "      <td>1</td>\n",
              "      <td>0</td>\n",
              "      <td>0</td>\n",
              "    </tr>\n",
              "    <tr>\n",
              "      <th>2</th>\n",
              "      <td>0</td>\n",
              "      <td>32</td>\n",
              "      <td>9</td>\n",
              "      <td>1</td>\n",
              "      <td>1</td>\n",
              "      <td>1</td>\n",
              "      <td>803</td>\n",
              "      <td>10378.09</td>\n",
              "      <td>236311.0932</td>\n",
              "      <td>1</td>\n",
              "      <td>0</td>\n",
              "      <td>0</td>\n",
              "    </tr>\n",
              "    <tr>\n",
              "      <th>3</th>\n",
              "      <td>0</td>\n",
              "      <td>37</td>\n",
              "      <td>0</td>\n",
              "      <td>2</td>\n",
              "      <td>1</td>\n",
              "      <td>1</td>\n",
              "      <td>778</td>\n",
              "      <td>25564.01</td>\n",
              "      <td>129909.8079</td>\n",
              "      <td>0</td>\n",
              "      <td>0</td>\n",
              "      <td>1</td>\n",
              "    </tr>\n",
              "    <tr>\n",
              "      <th>4</th>\n",
              "      <td>1</td>\n",
              "      <td>55</td>\n",
              "      <td>4</td>\n",
              "      <td>3</td>\n",
              "      <td>1</td>\n",
              "      <td>0</td>\n",
              "      <td>547</td>\n",
              "      <td>3235.61</td>\n",
              "      <td>136976.1948</td>\n",
              "      <td>0</td>\n",
              "      <td>0</td>\n",
              "      <td>1</td>\n",
              "    </tr>\n",
              "  </tbody>\n",
              "</table>\n",
              "</div>\n",
              "      <button class=\"colab-df-convert\" onclick=\"convertToInteractive('df-63f65752-f37c-475f-aa53-29a403f88b6f')\"\n",
              "              title=\"Convert this dataframe to an interactive table.\"\n",
              "              style=\"display:none;\">\n",
              "        \n",
              "  <svg xmlns=\"http://www.w3.org/2000/svg\" height=\"24px\"viewBox=\"0 0 24 24\"\n",
              "       width=\"24px\">\n",
              "    <path d=\"M0 0h24v24H0V0z\" fill=\"none\"/>\n",
              "    <path d=\"M18.56 5.44l.94 2.06.94-2.06 2.06-.94-2.06-.94-.94-2.06-.94 2.06-2.06.94zm-11 1L8.5 8.5l.94-2.06 2.06-.94-2.06-.94L8.5 2.5l-.94 2.06-2.06.94zm10 10l.94 2.06.94-2.06 2.06-.94-2.06-.94-.94-2.06-.94 2.06-2.06.94z\"/><path d=\"M17.41 7.96l-1.37-1.37c-.4-.4-.92-.59-1.43-.59-.52 0-1.04.2-1.43.59L10.3 9.45l-7.72 7.72c-.78.78-.78 2.05 0 2.83L4 21.41c.39.39.9.59 1.41.59.51 0 1.02-.2 1.41-.59l7.78-7.78 2.81-2.81c.8-.78.8-2.07 0-2.86zM5.41 20L4 18.59l7.72-7.72 1.47 1.35L5.41 20z\"/>\n",
              "  </svg>\n",
              "      </button>\n",
              "      \n",
              "  <style>\n",
              "    .colab-df-container {\n",
              "      display:flex;\n",
              "      flex-wrap:wrap;\n",
              "      gap: 12px;\n",
              "    }\n",
              "\n",
              "    .colab-df-convert {\n",
              "      background-color: #E8F0FE;\n",
              "      border: none;\n",
              "      border-radius: 50%;\n",
              "      cursor: pointer;\n",
              "      display: none;\n",
              "      fill: #1967D2;\n",
              "      height: 32px;\n",
              "      padding: 0 0 0 0;\n",
              "      width: 32px;\n",
              "    }\n",
              "\n",
              "    .colab-df-convert:hover {\n",
              "      background-color: #E2EBFA;\n",
              "      box-shadow: 0px 1px 2px rgba(60, 64, 67, 0.3), 0px 1px 3px 1px rgba(60, 64, 67, 0.15);\n",
              "      fill: #174EA6;\n",
              "    }\n",
              "\n",
              "    [theme=dark] .colab-df-convert {\n",
              "      background-color: #3B4455;\n",
              "      fill: #D2E3FC;\n",
              "    }\n",
              "\n",
              "    [theme=dark] .colab-df-convert:hover {\n",
              "      background-color: #434B5C;\n",
              "      box-shadow: 0px 1px 3px 1px rgba(0, 0, 0, 0.15);\n",
              "      filter: drop-shadow(0px 1px 2px rgba(0, 0, 0, 0.3));\n",
              "      fill: #FFFFFF;\n",
              "    }\n",
              "  </style>\n",
              "\n",
              "      <script>\n",
              "        const buttonEl =\n",
              "          document.querySelector('#df-63f65752-f37c-475f-aa53-29a403f88b6f button.colab-df-convert');\n",
              "        buttonEl.style.display =\n",
              "          google.colab.kernel.accessAllowed ? 'block' : 'none';\n",
              "\n",
              "        async function convertToInteractive(key) {\n",
              "          const element = document.querySelector('#df-63f65752-f37c-475f-aa53-29a403f88b6f');\n",
              "          const dataTable =\n",
              "            await google.colab.kernel.invokeFunction('convertToInteractive',\n",
              "                                                     [key], {});\n",
              "          if (!dataTable) return;\n",
              "\n",
              "          const docLinkHtml = 'Like what you see? Visit the ' +\n",
              "            '<a target=\"_blank\" href=https://colab.research.google.com/notebooks/data_table.ipynb>data table notebook</a>'\n",
              "            + ' to learn more about interactive tables.';\n",
              "          element.innerHTML = '';\n",
              "          dataTable['output_type'] = 'display_data';\n",
              "          await google.colab.output.renderOutput(dataTable, element);\n",
              "          const docLink = document.createElement('div');\n",
              "          docLink.innerHTML = docLinkHtml;\n",
              "          element.appendChild(docLink);\n",
              "        }\n",
              "      </script>\n",
              "    </div>\n",
              "  </div>\n",
              "  "
            ]
          },
          "metadata": {},
          "execution_count": 5
        }
      ]
    },
    {
      "cell_type": "code",
      "source": [
        "from sklearn.model_selection import train_test_split\n",
        "X_train,X_test,y_train,y_test = train_test_split(X,y,test_size = 0.2,random_state = 0)"
      ],
      "metadata": {
        "id": "E9ldHkpOs7HM"
      },
      "execution_count": 6,
      "outputs": []
    },
    {
      "cell_type": "code",
      "source": [
        "from sklearn.linear_model import LogisticRegression\n",
        "lr = LogisticRegression()\n",
        "history = lr.fit(X_train,y_train)\n",
        "print(\"邏輯回歸預測準確率 {:.2f}%\".format(lr.score(X_test,y_test)*100 ))"
      ],
      "metadata": {
        "colab": {
          "base_uri": "https://localhost:8080/"
        },
        "id": "_8kbNve1s7KE",
        "outputId": "b9a9897e-22f4-45ed-86e3-a8d2ea867c23"
      },
      "execution_count": 7,
      "outputs": [
        {
          "output_type": "stream",
          "name": "stdout",
          "text": [
            "邏輯回歸預測準確率 78.35%\n"
          ]
        }
      ]
    },
    {
      "cell_type": "code",
      "source": [
        "import keras\n",
        "from keras.models import Sequential\n",
        "from keras.layers import Dense\n",
        "\n",
        "ann = Sequential()\n",
        "ann.add(Dense(units=12,input_dim = 12,activation = 'relu'))     #增加輸入層\n",
        "ann.add(Dense(units=24,activation = 'relu'))                    #增加隱藏層\n",
        "ann.add(Dense(units=1,activation = 'sigmoid'))                 #增加輸出層\n",
        "ann.summary()                                  #顯示網路模型"
      ],
      "metadata": {
        "colab": {
          "base_uri": "https://localhost:8080/"
        },
        "id": "T35i2yqLs7Nq",
        "outputId": "4a054567-f8fe-4a05-a13b-a6f87e9fa802"
      },
      "execution_count": 8,
      "outputs": [
        {
          "output_type": "stream",
          "name": "stdout",
          "text": [
            "Model: \"sequential\"\n",
            "_________________________________________________________________\n",
            " Layer (type)                Output Shape              Param #   \n",
            "=================================================================\n",
            " dense (Dense)               (None, 12)                156       \n",
            "                                                                 \n",
            " dense_1 (Dense)             (None, 24)                312       \n",
            "                                                                 \n",
            " dense_2 (Dense)             (None, 1)                 25        \n",
            "                                                                 \n",
            "=================================================================\n",
            "Total params: 493\n",
            "Trainable params: 493\n",
            "Non-trainable params: 0\n",
            "_________________________________________________________________\n"
          ]
        }
      ]
    },
    {
      "cell_type": "code",
      "source": [
        "from IPython.display import SVG\n",
        "from keras.utils.vis_utils import model_to_dot\n",
        "SVG(model_to_dot(ann,show_shapes=True,show_layer_names=True,dpi=65).create(prog='dot',format='svg'))"
      ],
      "metadata": {
        "colab": {
          "base_uri": "https://localhost:8080/",
          "height": 386
        },
        "id": "Fba0Jsacs7QX",
        "outputId": "64cc6edc-6b1b-4a44-cc20-f952422af45e"
      },
      "execution_count": 9,
      "outputs": [
        {
          "output_type": "execute_result",
          "data": {
            "text/plain": [
              "<IPython.core.display.SVG object>"
            ],
            "image/svg+xml": "<svg height=\"274pt\" viewBox=\"0.00 0.00 330.00 304.00\" width=\"298pt\" xmlns=\"http://www.w3.org/2000/svg\" xmlns:xlink=\"http://www.w3.org/1999/xlink\">\n<g class=\"graph\" id=\"graph0\" transform=\"scale(.9028 .9028) rotate(0) translate(4 300)\">\n<title>G</title>\n<polygon fill=\"#ffffff\" points=\"-4,4 -4,-300 326,-300 326,4 -4,4\" stroke=\"transparent\"/>\n<!-- 140429537073168 -->\n<g class=\"node\" id=\"node1\">\n<title>140429537073168</title>\n<polygon fill=\"none\" points=\"0,-249.5 0,-295.5 322,-295.5 322,-249.5 0,-249.5\" stroke=\"#000000\"/>\n<text fill=\"#000000\" font-family=\"Times,serif\" font-size=\"14.00\" text-anchor=\"middle\" x=\"43\" y=\"-280.3\">dense_input</text>\n<polyline fill=\"none\" points=\"0,-272.5 86,-272.5 \" stroke=\"#000000\"/>\n<text fill=\"#000000\" font-family=\"Times,serif\" font-size=\"14.00\" text-anchor=\"middle\" x=\"43\" y=\"-257.3\">InputLayer</text>\n<polyline fill=\"none\" points=\"86,-249.5 86,-295.5 \" stroke=\"#000000\"/>\n<text fill=\"#000000\" font-family=\"Times,serif\" font-size=\"14.00\" text-anchor=\"middle\" x=\"115\" y=\"-280.3\">input:</text>\n<polyline fill=\"none\" points=\"86,-272.5 144,-272.5 \" stroke=\"#000000\"/>\n<text fill=\"#000000\" font-family=\"Times,serif\" font-size=\"14.00\" text-anchor=\"middle\" x=\"115\" y=\"-257.3\">output:</text>\n<polyline fill=\"none\" points=\"144,-249.5 144,-295.5 \" stroke=\"#000000\"/>\n<text fill=\"#000000\" font-family=\"Times,serif\" font-size=\"14.00\" text-anchor=\"middle\" x=\"188.5\" y=\"-268.8\">[(None, 12)]</text>\n<polyline fill=\"none\" points=\"233,-249.5 233,-295.5 \" stroke=\"#000000\"/>\n<text fill=\"#000000\" font-family=\"Times,serif\" font-size=\"14.00\" text-anchor=\"middle\" x=\"277.5\" y=\"-268.8\">[(None, 12)]</text>\n</g>\n<!-- 140431176223056 -->\n<g class=\"node\" id=\"node2\">\n<title>140431176223056</title>\n<polygon fill=\"none\" points=\"26,-166.5 26,-212.5 296,-212.5 296,-166.5 26,-166.5\" stroke=\"#000000\"/>\n<text fill=\"#000000\" font-family=\"Times,serif\" font-size=\"14.00\" text-anchor=\"middle\" x=\"52\" y=\"-197.3\">dense</text>\n<polyline fill=\"none\" points=\"26,-189.5 78,-189.5 \" stroke=\"#000000\"/>\n<text fill=\"#000000\" font-family=\"Times,serif\" font-size=\"14.00\" text-anchor=\"middle\" x=\"52\" y=\"-174.3\">Dense</text>\n<polyline fill=\"none\" points=\"78,-166.5 78,-212.5 \" stroke=\"#000000\"/>\n<text fill=\"#000000\" font-family=\"Times,serif\" font-size=\"14.00\" text-anchor=\"middle\" x=\"107\" y=\"-197.3\">input:</text>\n<polyline fill=\"none\" points=\"78,-189.5 136,-189.5 \" stroke=\"#000000\"/>\n<text fill=\"#000000\" font-family=\"Times,serif\" font-size=\"14.00\" text-anchor=\"middle\" x=\"107\" y=\"-174.3\">output:</text>\n<polyline fill=\"none\" points=\"136,-166.5 136,-212.5 \" stroke=\"#000000\"/>\n<text fill=\"#000000\" font-family=\"Times,serif\" font-size=\"14.00\" text-anchor=\"middle\" x=\"176\" y=\"-185.8\">(None, 12)</text>\n<polyline fill=\"none\" points=\"216,-166.5 216,-212.5 \" stroke=\"#000000\"/>\n<text fill=\"#000000\" font-family=\"Times,serif\" font-size=\"14.00\" text-anchor=\"middle\" x=\"256\" y=\"-185.8\">(None, 12)</text>\n</g>\n<!-- 140429537073168&#45;&gt;140431176223056 -->\n<g class=\"edge\" id=\"edge1\">\n<title>140429537073168-&gt;140431176223056</title>\n<path d=\"M161,-249.3799C161,-241.1745 161,-231.7679 161,-222.8786\" fill=\"none\" stroke=\"#000000\"/>\n<polygon fill=\"#000000\" points=\"164.5001,-222.784 161,-212.784 157.5001,-222.784 164.5001,-222.784\" stroke=\"#000000\"/>\n</g>\n<!-- 140431174882832 -->\n<g class=\"node\" id=\"node3\">\n<title>140431174882832</title>\n<polygon fill=\"none\" points=\"20,-83.5 20,-129.5 302,-129.5 302,-83.5 20,-83.5\" stroke=\"#000000\"/>\n<text fill=\"#000000\" font-family=\"Times,serif\" font-size=\"14.00\" text-anchor=\"middle\" x=\"52\" y=\"-114.3\">dense_1</text>\n<polyline fill=\"none\" points=\"20,-106.5 84,-106.5 \" stroke=\"#000000\"/>\n<text fill=\"#000000\" font-family=\"Times,serif\" font-size=\"14.00\" text-anchor=\"middle\" x=\"52\" y=\"-91.3\">Dense</text>\n<polyline fill=\"none\" points=\"84,-83.5 84,-129.5 \" stroke=\"#000000\"/>\n<text fill=\"#000000\" font-family=\"Times,serif\" font-size=\"14.00\" text-anchor=\"middle\" x=\"113\" y=\"-114.3\">input:</text>\n<polyline fill=\"none\" points=\"84,-106.5 142,-106.5 \" stroke=\"#000000\"/>\n<text fill=\"#000000\" font-family=\"Times,serif\" font-size=\"14.00\" text-anchor=\"middle\" x=\"113\" y=\"-91.3\">output:</text>\n<polyline fill=\"none\" points=\"142,-83.5 142,-129.5 \" stroke=\"#000000\"/>\n<text fill=\"#000000\" font-family=\"Times,serif\" font-size=\"14.00\" text-anchor=\"middle\" x=\"182\" y=\"-102.8\">(None, 12)</text>\n<polyline fill=\"none\" points=\"222,-83.5 222,-129.5 \" stroke=\"#000000\"/>\n<text fill=\"#000000\" font-family=\"Times,serif\" font-size=\"14.00\" text-anchor=\"middle\" x=\"262\" y=\"-102.8\">(None, 24)</text>\n</g>\n<!-- 140431176223056&#45;&gt;140431174882832 -->\n<g class=\"edge\" id=\"edge2\">\n<title>140431176223056-&gt;140431174882832</title>\n<path d=\"M161,-166.3799C161,-158.1745 161,-148.7679 161,-139.8786\" fill=\"none\" stroke=\"#000000\"/>\n<polygon fill=\"#000000\" points=\"164.5001,-139.784 161,-129.784 157.5001,-139.784 164.5001,-139.784\" stroke=\"#000000\"/>\n</g>\n<!-- 140429331846928 -->\n<g class=\"node\" id=\"node4\">\n<title>140429331846928</title>\n<polygon fill=\"none\" points=\"24,-.5 24,-46.5 298,-46.5 298,-.5 24,-.5\" stroke=\"#000000\"/>\n<text fill=\"#000000\" font-family=\"Times,serif\" font-size=\"14.00\" text-anchor=\"middle\" x=\"56\" y=\"-31.3\">dense_2</text>\n<polyline fill=\"none\" points=\"24,-23.5 88,-23.5 \" stroke=\"#000000\"/>\n<text fill=\"#000000\" font-family=\"Times,serif\" font-size=\"14.00\" text-anchor=\"middle\" x=\"56\" y=\"-8.3\">Dense</text>\n<polyline fill=\"none\" points=\"88,-.5 88,-46.5 \" stroke=\"#000000\"/>\n<text fill=\"#000000\" font-family=\"Times,serif\" font-size=\"14.00\" text-anchor=\"middle\" x=\"117\" y=\"-31.3\">input:</text>\n<polyline fill=\"none\" points=\"88,-23.5 146,-23.5 \" stroke=\"#000000\"/>\n<text fill=\"#000000\" font-family=\"Times,serif\" font-size=\"14.00\" text-anchor=\"middle\" x=\"117\" y=\"-8.3\">output:</text>\n<polyline fill=\"none\" points=\"146,-.5 146,-46.5 \" stroke=\"#000000\"/>\n<text fill=\"#000000\" font-family=\"Times,serif\" font-size=\"14.00\" text-anchor=\"middle\" x=\"186\" y=\"-19.8\">(None, 24)</text>\n<polyline fill=\"none\" points=\"226,-.5 226,-46.5 \" stroke=\"#000000\"/>\n<text fill=\"#000000\" font-family=\"Times,serif\" font-size=\"14.00\" text-anchor=\"middle\" x=\"262\" y=\"-19.8\">(None, 1)</text>\n</g>\n<!-- 140431174882832&#45;&gt;140429331846928 -->\n<g class=\"edge\" id=\"edge3\">\n<title>140431174882832-&gt;140429331846928</title>\n<path d=\"M161,-83.3799C161,-75.1745 161,-65.7679 161,-56.8786\" fill=\"none\" stroke=\"#000000\"/>\n<polygon fill=\"#000000\" points=\"164.5001,-56.784 161,-46.784 157.5001,-56.784 164.5001,-56.784\" stroke=\"#000000\"/>\n</g>\n</g>\n</svg>"
          },
          "metadata": {},
          "execution_count": 9
        }
      ]
    },
    {
      "cell_type": "code",
      "source": [
        "ann.compile(optimizer='adam',loss = 'binary_crossentropy',metrics=['acc'])"
      ],
      "metadata": {
        "id": "ogql1WYEtbgN"
      },
      "execution_count": 10,
      "outputs": []
    },
    {
      "cell_type": "code",
      "source": [
        "history = ann.fit(X_train,y_train,epochs=30,batch_size=64,validation_data=(X_test,y_test))"
      ],
      "metadata": {
        "colab": {
          "base_uri": "https://localhost:8080/"
        },
        "id": "NJJ-KJWhtbof",
        "outputId": "82675c99-2f10-4f1d-d8db-69ac5c1f732a"
      },
      "execution_count": 11,
      "outputs": [
        {
          "output_type": "stream",
          "name": "stdout",
          "text": [
            "Epoch 1/30\n",
            "125/125 [==============================] - 7s 15ms/step - loss: 1349.6019 - acc: 0.7080 - val_loss: 72.1790 - val_acc: 0.7310\n",
            "Epoch 2/30\n",
            "125/125 [==============================] - 1s 5ms/step - loss: 41.8023 - acc: 0.6961 - val_loss: 53.0176 - val_acc: 0.7915\n",
            "Epoch 3/30\n",
            "125/125 [==============================] - 1s 6ms/step - loss: 41.4373 - acc: 0.6981 - val_loss: 52.7318 - val_acc: 0.7910\n",
            "Epoch 4/30\n",
            "125/125 [==============================] - 1s 5ms/step - loss: 45.0831 - acc: 0.6892 - val_loss: 48.4759 - val_acc: 0.4740\n",
            "Epoch 5/30\n",
            "125/125 [==============================] - 1s 5ms/step - loss: 23.8280 - acc: 0.6869 - val_loss: 16.4904 - val_acc: 0.4740\n",
            "Epoch 6/30\n",
            "125/125 [==============================] - 1s 5ms/step - loss: 37.8389 - acc: 0.6833 - val_loss: 29.2937 - val_acc: 0.5695\n",
            "Epoch 7/30\n",
            "125/125 [==============================] - 1s 4ms/step - loss: 28.2881 - acc: 0.6780 - val_loss: 26.7915 - val_acc: 0.7915\n",
            "Epoch 8/30\n",
            "125/125 [==============================] - 1s 6ms/step - loss: 44.5245 - acc: 0.6910 - val_loss: 55.2281 - val_acc: 0.5640\n",
            "Epoch 9/30\n",
            "125/125 [==============================] - 1s 6ms/step - loss: 24.1597 - acc: 0.6833 - val_loss: 21.3199 - val_acc: 0.7840\n",
            "Epoch 10/30\n",
            "125/125 [==============================] - 1s 6ms/step - loss: 37.4347 - acc: 0.6834 - val_loss: 14.0799 - val_acc: 0.7920\n",
            "Epoch 11/30\n",
            "125/125 [==============================] - 1s 5ms/step - loss: 42.9137 - acc: 0.6852 - val_loss: 67.1887 - val_acc: 0.7895\n",
            "Epoch 12/30\n",
            "125/125 [==============================] - 1s 6ms/step - loss: 34.2745 - acc: 0.6811 - val_loss: 18.0404 - val_acc: 0.7915\n",
            "Epoch 13/30\n",
            "125/125 [==============================] - 1s 6ms/step - loss: 31.6753 - acc: 0.6886 - val_loss: 30.5625 - val_acc: 0.4860\n",
            "Epoch 14/30\n",
            "125/125 [==============================] - 1s 6ms/step - loss: 30.9639 - acc: 0.6819 - val_loss: 50.0595 - val_acc: 0.2890\n",
            "Epoch 15/30\n",
            "125/125 [==============================] - 1s 6ms/step - loss: 28.4129 - acc: 0.6815 - val_loss: 15.2663 - val_acc: 0.5845\n",
            "Epoch 16/30\n",
            "125/125 [==============================] - 1s 5ms/step - loss: 33.2000 - acc: 0.6846 - val_loss: 94.7023 - val_acc: 0.4700\n",
            "Epoch 17/30\n",
            "125/125 [==============================] - 1s 5ms/step - loss: 36.8082 - acc: 0.6902 - val_loss: 21.6566 - val_acc: 0.6185\n",
            "Epoch 18/30\n",
            "125/125 [==============================] - 1s 6ms/step - loss: 23.8057 - acc: 0.6880 - val_loss: 28.5553 - val_acc: 0.4785\n",
            "Epoch 19/30\n",
            "125/125 [==============================] - 1s 5ms/step - loss: 28.7271 - acc: 0.6850 - val_loss: 44.2061 - val_acc: 0.5660\n",
            "Epoch 20/30\n",
            "125/125 [==============================] - 1s 4ms/step - loss: 25.7434 - acc: 0.6899 - val_loss: 45.4567 - val_acc: 0.4845\n",
            "Epoch 21/30\n",
            "125/125 [==============================] - 0s 3ms/step - loss: 24.5427 - acc: 0.6944 - val_loss: 8.0651 - val_acc: 0.4380\n",
            "Epoch 22/30\n",
            "125/125 [==============================] - 0s 3ms/step - loss: 29.6688 - acc: 0.6789 - val_loss: 7.9443 - val_acc: 0.7760\n",
            "Epoch 23/30\n",
            "125/125 [==============================] - 0s 3ms/step - loss: 25.4962 - acc: 0.6862 - val_loss: 8.2408 - val_acc: 0.7885\n",
            "Epoch 24/30\n",
            "125/125 [==============================] - 0s 3ms/step - loss: 40.1620 - acc: 0.6835 - val_loss: 34.7881 - val_acc: 0.7905\n",
            "Epoch 25/30\n",
            "125/125 [==============================] - 0s 3ms/step - loss: 25.6009 - acc: 0.6846 - val_loss: 17.2127 - val_acc: 0.4800\n",
            "Epoch 26/30\n",
            "125/125 [==============================] - 0s 3ms/step - loss: 20.2405 - acc: 0.6920 - val_loss: 49.5101 - val_acc: 0.4700\n",
            "Epoch 27/30\n",
            "125/125 [==============================] - 0s 3ms/step - loss: 42.8210 - acc: 0.6841 - val_loss: 33.2983 - val_acc: 0.7905\n",
            "Epoch 28/30\n",
            "125/125 [==============================] - 0s 3ms/step - loss: 41.1048 - acc: 0.6845 - val_loss: 12.4423 - val_acc: 0.7910\n",
            "Epoch 29/30\n",
            "125/125 [==============================] - 0s 3ms/step - loss: 23.2779 - acc: 0.6925 - val_loss: 24.6884 - val_acc: 0.7850\n",
            "Epoch 30/30\n",
            "125/125 [==============================] - 0s 3ms/step - loss: 28.7803 - acc: 0.6892 - val_loss: 41.2298 - val_acc: 0.7910\n"
          ]
        }
      ]
    },
    {
      "cell_type": "markdown",
      "source": [
        "**顯示訓練過程中的學習曲線**"
      ],
      "metadata": {
        "id": "wB9WJAdxk7cS"
      }
    },
    {
      "cell_type": "code",
      "source": [
        "def show_history(history):\n",
        "  loss = history.history['loss']\n",
        "  val_loss = history.history['val_loss']\n",
        "  epochs = range(1,len(loss) + 1)\n",
        "  plt.figure(figsize=(12,4))\n",
        "  plt.subplot(1,2,1)    #繪製圖中(共第一列第二欄)的第一張圖\n",
        "  plt.plot(epochs,loss,'bo',label = 'Training loss')\n",
        "  plt.plot(epochs,val_loss,'b',label = 'Validation loss')\n",
        "  plt.title('Training and Validation loss')\n",
        "  plt.xlabel('Epochs')\n",
        "  plt.ylabel('Loss')\n",
        "  plt.legend()\n",
        "\n",
        "  acc = history.history['acc']\n",
        "  val_acc = history.history['val_acc']\n",
        "  plt.subplot(1,2,2)\n",
        "  plt.plot(epochs,acc,'bo',label = 'Training acc')\n",
        "  plt.plot(epochs,val_loss,'b',label = 'Validation acc')\n",
        "  plt.title('Training and Validation accuracy')\n",
        "  plt.xlabel('Epochs')\n",
        "  plt.ylabel('Accuracy')\n",
        "  plt.legend()\n",
        "  plt.show()\n",
        "show_history(history)"
      ],
      "metadata": {
        "colab": {
          "base_uri": "https://localhost:8080/",
          "height": 295
        },
        "id": "RySUujNGtbrn",
        "outputId": "67aae251-6825-4fe0-e901-1654e4abe8fe"
      },
      "execution_count": 12,
      "outputs": [
        {
          "output_type": "display_data",
          "data": {
            "text/plain": [
              "<Figure size 864x288 with 2 Axes>"
            ],
            "image/png": "[encoded data removed]"
          },
          "metadata": {
            "needs_background": "light"
          }
        }
      ]
    },
    {
      "cell_type": "code",
      "source": [
        "from sklearn.metrics import classification_report\n",
        "y_pred = ann.predict(X_test,batch_size=10)        #預測測試集的標籤\n",
        "y_pred = np.round(y_pred)                 #四捨五入，將分類機率轉成0/1整數值\n",
        "y_test = y_test.values                  #把pandas series型態利用.values轉成numpy array\n",
        "y_test = y_test.reshape(len(y_test),1)          #轉成和y_pred相同形狀\n",
        "print(classification_report(y_test,y_pred,labels=[0,1]))  #呼叫分類報告"
      ],
      "metadata": {
        "colab": {
          "base_uri": "https://localhost:8080/"
        },
        "id": "xf6M1d9dtbup",
        "outputId": "9ecdd6c8-fcd4-456f-b718-be0768d05fcb"
      },
      "execution_count": 13,
      "outputs": [
        {
          "output_type": "stream",
          "name": "stdout",
          "text": [
            "              precision    recall  f1-score   support\n",
            "\n",
            "           0       0.79      1.00      0.88      1583\n",
            "           1       0.43      0.01      0.01       417\n",
            "\n",
            "    accuracy                           0.79      2000\n",
            "   macro avg       0.61      0.50      0.45      2000\n",
            "weighted avg       0.72      0.79      0.70      2000\n",
            "\n"
          ]
        }
      ]
    },
    {
      "cell_type": "markdown",
      "source": [
        "annot:註釋，在每格heatmap中寫入數據\n",
        "\n",
        "cmap:熱力圖的顏色\n",
        "\n",
        "fmt:格式设置，决定annot注释的数字格式，小数点后几位等\n",
        "\n",
        "cbar : 是否画一个颜色条"
      ],
      "metadata": {
        "id": "P47OdEMn1YL0"
      }
    },
    {
      "cell_type": "code",
      "source": [
        "from sklearn.metrics import confusion_matrix\n",
        "conf_ma = confusion_matrix(y_test,y_pred)\n",
        "plt.title('ANN Confusion Matrix')\n",
        "sns.heatmap(conf_ma,annot=True,cmap='Blues',fmt='d',cbar=False)  \n",
        "plt.show()"
      ],
      "metadata": {
        "colab": {
          "base_uri": "https://localhost:8080/",
          "height": 281
        },
        "id": "bKCq3Jsvtbx5",
        "outputId": "0c774413-4df3-4601-b384-402368c06857"
      },
      "execution_count": 14,
      "outputs": [
        {
          "output_type": "display_data",
          "data": {
            "text/plain": [
              "<Figure size 432x288 with 1 Axes>"
            ],
            "image/png": "[encoded data removed]"
          },
          "metadata": {
            "needs_background": "light"
          }
        }
      ]
    },
    {
      "cell_type": "markdown",
      "source": [
        "#資料不太準，應該先使用Feature scaling\n",
        "利用標準化方式!\n",
        "以下有兩個寫法，皆可使用"
      ],
      "metadata": {
        "id": "cTAJ-yY32wkO"
      }
    },
    {
      "cell_type": "code",
      "source": [
        "mean = X_train.mean(axis=0)\n",
        "X_train -= mean\n",
        "std = X_train.std(axis=0)\n",
        "X_train /= std\n",
        "X_test -= mean\n",
        "X_test /= std\n",
        "print(X_train)\n",
        "print(X_test)"
      ],
      "metadata": {
        "colab": {
          "base_uri": "https://localhost:8080/"
        },
        "id": "QLVgxMYctb3A",
        "outputId": "ccc78297-240b-4374-c690-7862ed958ba8"
      },
      "execution_count": 15,
      "outputs": [
        {
          "output_type": "stream",
          "name": "stdout",
          "text": [
            "        Gender       Age    Tenure  ProductsNo   HasCard  ActiveMember  \\\n",
            "7389 -1.085042  0.682115 -1.037326   -0.909864  0.645080      0.975732   \n",
            "9275  0.921508 -0.086885 -0.000648    0.808481  0.645080      0.975732   \n",
            "2995 -1.085042  0.009240  0.690471    0.808481 -1.550002     -1.024744   \n",
            "5316  0.921508 -0.183010 -1.382885   -0.909864  0.645080     -1.024744   \n",
            "356   0.921508 -0.183010  1.381590   -0.909864  0.645080      0.975732   \n",
            "...        ...       ...       ...         ...       ...           ...   \n",
            "9225 -1.085042 -1.432635 -1.382885    0.808481  0.645080      0.975732   \n",
            "4859  0.921508 -0.279135 -0.691767    0.808481  0.645080      0.975732   \n",
            "3264 -1.085042  2.892990  1.381590   -0.909864 -1.550002      0.975732   \n",
            "9845 -1.085042 -1.048135  1.381590    0.808481  0.645080     -1.024744   \n",
            "2732  0.921508 -1.240385  0.690471    0.808481  0.645080      0.975732   \n",
            "\n",
            "        Credit  AccountBal    Salary  City_Beijing  City_Shanghai  \\\n",
            "7389 -1.518310    1.131386  1.395816      -1.00219       1.727336   \n",
            "9275  0.335765    1.709040  0.455289       0.99769      -0.578854   \n",
            "2995  1.386408    0.015580 -1.228352      -1.00219       1.727336   \n",
            "5316 -1.013589   -1.209302 -1.228352       0.99769      -0.578854   \n",
            "356  -1.878824    0.345166  0.322395      -1.00219       1.727336   \n",
            "...        ...         ...       ...           ...            ...   \n",
            "9225 -0.271959    1.406840 -1.228352       0.99769      -0.578854   \n",
            "4859 -0.241058   -1.586817 -1.228352       0.99769      -0.578854   \n",
            "3264  0.830185    0.189446  0.974202      -1.00219       1.727336   \n",
            "9845  2.045635    1.491176 -1.228352       0.99769      -0.578854   \n",
            "2732  0.129757   -0.084967  0.634344      -1.00219      -0.578854   \n",
            "\n",
            "      City_Tianjin  \n",
            "7389     -0.574043  \n",
            "9275     -0.574043  \n",
            "2995     -0.574043  \n",
            "5316     -0.574043  \n",
            "356      -0.574043  \n",
            "...            ...  \n",
            "9225     -0.574043  \n",
            "4859     -0.574043  \n",
            "3264     -0.574043  \n",
            "9845     -0.574043  \n",
            "2732      1.741813  \n",
            "\n",
            "[8000 rows x 12 columns]\n",
            "        Gender       Age    Tenure  ProductsNo   HasCard  ActiveMember  \\\n",
            "9394  0.921508 -1.048135  1.381590   -0.909864  0.645080     -1.024744   \n",
            "898  -1.085042 -0.855885  1.381590   -0.909864  0.645080     -1.024744   \n",
            "2398  0.921508  0.778240 -0.000648    0.808481  0.645080      0.975732   \n",
            "5906  0.921508  0.201490 -1.728445   -0.909864  0.645080     -1.024744   \n",
            "2343  0.921508  0.201490  0.690471   -0.909864 -1.550002      0.975732   \n",
            "...        ...       ...       ...         ...       ...           ...   \n",
            "1037 -1.085042  0.682115 -0.346207    0.808481  0.645080     -1.024744   \n",
            "2899  0.921508 -0.183010  1.381590    0.808481  0.645080      0.975732   \n",
            "9549  0.921508 -0.567510  1.036030   -0.909864  0.645080     -1.024744   \n",
            "2740  0.921508  0.393740  0.344911   -0.909864  0.645080      0.975732   \n",
            "6690  0.921508  1.162740 -1.382885   -0.909864  0.645080     -1.024744   \n",
            "\n",
            "        Credit  AccountBal    Salary  City_Beijing  City_Shanghai  \\\n",
            "9394  1.273103    0.856897  0.552999       0.99769      -0.578854   \n",
            "898  -1.075392   -0.399026 -0.068336      -1.00219      -0.578854   \n",
            "2398 -0.570671    1.291107  1.018006      -1.00219      -0.578854   \n",
            "5906 -0.323461   -0.261304  0.340800       0.99769      -0.578854   \n",
            "2343 -1.466808    0.256250  0.801629      -1.00219       1.727336   \n",
            "...        ...         ...       ...           ...            ...   \n",
            "1037 -1.631614   -1.705627 -1.228352       0.99769      -0.578854   \n",
            "2899 -0.024749   -1.734487  0.171743       0.99769      -0.578854   \n",
            "9549  0.830185    0.345024 -1.228352      -1.00219       1.727336   \n",
            "2740  1.015593   -0.442702  0.596498       0.99769      -0.578854   \n",
            "6690 -0.148354   -0.778132  0.449086      -1.00219      -0.578854   \n",
            "\n",
            "      City_Tianjin  \n",
            "9394     -0.574043  \n",
            "898       1.741813  \n",
            "2398      1.741813  \n",
            "5906     -0.574043  \n",
            "2343     -0.574043  \n",
            "...            ...  \n",
            "1037     -0.574043  \n",
            "2899     -0.574043  \n",
            "9549     -0.574043  \n",
            "2740     -0.574043  \n",
            "6690      1.741813  \n",
            "\n",
            "[2000 rows x 12 columns]\n"
          ]
        }
      ]
    },
    {
      "cell_type": "code",
      "source": [
        "#法二，直接帶入套件\n",
        "from sklearn.preprocessing import StandardScaler\n",
        "sc = StandardScaler()\n",
        "X_train = sc.fit_transform(X_train)\n",
        "X_test = sc.transform(X_test)"
      ],
      "metadata": {
        "id": "fqYVKJEOyWyh"
      },
      "execution_count": 16,
      "outputs": []
    },
    {
      "cell_type": "code",
      "source": [
        "from sklearn.linear_model import LogisticRegression\n",
        "lr = LogisticRegression()\n",
        "history = lr.fit(X_train,y_train)\n",
        "print('Logistic Regression準確率 {:.2f}%'.format(lr.score(X_test,y_test)*100))"
      ],
      "metadata": {
        "colab": {
          "base_uri": "https://localhost:8080/"
        },
        "id": "r3Vo3aVRtb6I",
        "outputId": "c46f7e74-b6ad-4aeb-8517-50ad85ac7642"
      },
      "execution_count": 17,
      "outputs": [
        {
          "output_type": "stream",
          "name": "stdout",
          "text": [
            "Logistic Regression準確率 80.50%\n"
          ]
        }
      ]
    },
    {
      "cell_type": "markdown",
      "source": [
        "#重新訓練單層的神經網路，準確度提升了!!"
      ],
      "metadata": {
        "id": "qpxrJ0PvXSQx"
      }
    },
    {
      "cell_type": "code",
      "source": [
        "history = ann.fit(X_train,y_train,epochs=30,batch_size=64,validation_data=(X_test,y_test))"
      ],
      "metadata": {
        "colab": {
          "base_uri": "https://localhost:8080/"
        },
        "id": "_ay1tH0o2bWi",
        "outputId": "45d1d5e4-0e2b-400c-9374-f954c9523307"
      },
      "execution_count": 18,
      "outputs": [
        {
          "output_type": "stream",
          "name": "stdout",
          "text": [
            "Epoch 1/30\n",
            "125/125 [==============================] - 2s 9ms/step - loss: 0.5177 - acc: 0.7740 - val_loss: 0.4661 - val_acc: 0.8020\n",
            "Epoch 2/30\n",
            "125/125 [==============================] - 1s 7ms/step - loss: 0.4511 - acc: 0.8083 - val_loss: 0.4547 - val_acc: 0.8055\n",
            "Epoch 3/30\n",
            "125/125 [==============================] - 1s 6ms/step - loss: 0.4417 - acc: 0.8105 - val_loss: 0.4477 - val_acc: 0.8090\n",
            "Epoch 4/30\n",
            "125/125 [==============================] - 1s 8ms/step - loss: 0.4350 - acc: 0.8140 - val_loss: 0.4416 - val_acc: 0.8085\n",
            "Epoch 5/30\n",
            "125/125 [==============================] - 1s 9ms/step - loss: 0.4295 - acc: 0.8158 - val_loss: 0.4362 - val_acc: 0.8090\n",
            "Epoch 6/30\n",
            "125/125 [==============================] - 1s 8ms/step - loss: 0.4238 - acc: 0.8177 - val_loss: 0.4306 - val_acc: 0.8150\n",
            "Epoch 7/30\n",
            "125/125 [==============================] - 1s 8ms/step - loss: 0.4184 - acc: 0.8209 - val_loss: 0.4251 - val_acc: 0.8160\n",
            "Epoch 8/30\n",
            "125/125 [==============================] - 1s 7ms/step - loss: 0.4128 - acc: 0.8250 - val_loss: 0.4190 - val_acc: 0.8220\n",
            "Epoch 9/30\n",
            "125/125 [==============================] - 1s 9ms/step - loss: 0.4074 - acc: 0.8274 - val_loss: 0.4137 - val_acc: 0.8255\n",
            "Epoch 10/30\n",
            "125/125 [==============================] - 1s 11ms/step - loss: 0.4020 - acc: 0.8295 - val_loss: 0.4086 - val_acc: 0.8285\n",
            "Epoch 11/30\n",
            "125/125 [==============================] - 1s 5ms/step - loss: 0.3970 - acc: 0.8322 - val_loss: 0.4035 - val_acc: 0.8310\n",
            "Epoch 12/30\n",
            "125/125 [==============================] - 1s 9ms/step - loss: 0.3929 - acc: 0.8363 - val_loss: 0.3994 - val_acc: 0.8340\n",
            "Epoch 13/30\n",
            "125/125 [==============================] - 1s 5ms/step - loss: 0.3889 - acc: 0.8395 - val_loss: 0.3959 - val_acc: 0.8330\n",
            "Epoch 14/30\n",
            "125/125 [==============================] - 1s 5ms/step - loss: 0.3857 - acc: 0.8399 - val_loss: 0.3921 - val_acc: 0.8390\n",
            "Epoch 15/30\n",
            "125/125 [==============================] - 1s 5ms/step - loss: 0.3827 - acc: 0.8411 - val_loss: 0.3900 - val_acc: 0.8390\n",
            "Epoch 16/30\n",
            "125/125 [==============================] - 0s 3ms/step - loss: 0.3800 - acc: 0.8445 - val_loss: 0.3874 - val_acc: 0.8395\n",
            "Epoch 17/30\n",
            "125/125 [==============================] - 0s 3ms/step - loss: 0.3780 - acc: 0.8439 - val_loss: 0.3855 - val_acc: 0.8440\n",
            "Epoch 18/30\n",
            "125/125 [==============================] - 0s 3ms/step - loss: 0.3760 - acc: 0.8451 - val_loss: 0.3840 - val_acc: 0.8445\n",
            "Epoch 19/30\n",
            "125/125 [==============================] - 0s 3ms/step - loss: 0.3744 - acc: 0.8446 - val_loss: 0.3825 - val_acc: 0.8430\n",
            "Epoch 20/30\n",
            "125/125 [==============================] - 0s 3ms/step - loss: 0.3728 - acc: 0.8464 - val_loss: 0.3817 - val_acc: 0.8395\n",
            "Epoch 21/30\n",
            "125/125 [==============================] - 0s 3ms/step - loss: 0.3717 - acc: 0.8453 - val_loss: 0.3800 - val_acc: 0.8425\n",
            "Epoch 22/30\n",
            "125/125 [==============================] - 0s 3ms/step - loss: 0.3703 - acc: 0.8480 - val_loss: 0.3788 - val_acc: 0.8460\n",
            "Epoch 23/30\n",
            "125/125 [==============================] - 0s 3ms/step - loss: 0.3691 - acc: 0.8484 - val_loss: 0.3779 - val_acc: 0.8475\n",
            "Epoch 24/30\n",
            "125/125 [==============================] - 0s 3ms/step - loss: 0.3677 - acc: 0.8471 - val_loss: 0.3785 - val_acc: 0.8455\n",
            "Epoch 25/30\n",
            "125/125 [==============================] - 0s 3ms/step - loss: 0.3674 - acc: 0.8481 - val_loss: 0.3766 - val_acc: 0.8500\n",
            "Epoch 26/30\n",
            "125/125 [==============================] - 0s 3ms/step - loss: 0.3660 - acc: 0.8491 - val_loss: 0.3771 - val_acc: 0.8510\n",
            "Epoch 27/30\n",
            "125/125 [==============================] - 0s 3ms/step - loss: 0.3652 - acc: 0.8499 - val_loss: 0.3751 - val_acc: 0.8500\n",
            "Epoch 28/30\n",
            "125/125 [==============================] - 0s 3ms/step - loss: 0.3640 - acc: 0.8497 - val_loss: 0.3741 - val_acc: 0.8510\n",
            "Epoch 29/30\n",
            "125/125 [==============================] - 0s 3ms/step - loss: 0.3631 - acc: 0.8510 - val_loss: 0.3735 - val_acc: 0.8525\n",
            "Epoch 30/30\n",
            "125/125 [==============================] - 0s 3ms/step - loss: 0.3623 - acc: 0.8521 - val_loss: 0.3731 - val_acc: 0.8530\n"
          ]
        }
      ]
    },
    {
      "cell_type": "code",
      "source": [
        "show_history(history)       #曲線變得較平滑"
      ],
      "metadata": {
        "colab": {
          "base_uri": "https://localhost:8080/",
          "height": 295
        },
        "id": "bYhXoaOq2bZ7",
        "outputId": "019f691b-4bf8-4a16-88ba-55fdd79b2907"
      },
      "execution_count": 19,
      "outputs": [
        {
          "output_type": "display_data",
          "data": {
            "text/plain": [
              "<Figure size 864x288 with 2 Axes>"
            ],
            "image/png": "[encoded data removed]"
          },
          "metadata": {
            "needs_background": "light"
          }
        }
      ]
    },
    {
      "cell_type": "markdown",
      "source": [
        "#precision、recall、F1 score大幅提高"
      ],
      "metadata": {
        "id": "TMBy8dmDX4vO"
      }
    },
    {
      "cell_type": "code",
      "source": [
        "y_pred = ann.predict(X_test,batch_size=10)        #預測測試集的標籤\n",
        "y_pred = np.round(y_pred)                 #四捨五入，將分類機率轉成0/1整數值             #把pandas series型態利用.values轉成numpy array\n",
        "y_test = y_test.reshape(len(y_test),1)          #轉成和y_pred相同形狀\n",
        "print(classification_report(y_test,y_pred,labels=[0,1]))  #呼叫分類報告"
      ],
      "metadata": {
        "colab": {
          "base_uri": "https://localhost:8080/"
        },
        "id": "TXJRbtCb2bd2",
        "outputId": "85646991-b9ba-4f29-f5f3-591965c9dba5"
      },
      "execution_count": 21,
      "outputs": [
        {
          "output_type": "stream",
          "name": "stdout",
          "text": [
            "              precision    recall  f1-score   support\n",
            "\n",
            "           0       0.87      0.96      0.91      1583\n",
            "           1       0.75      0.45      0.56       417\n",
            "\n",
            "    accuracy                           0.85      2000\n",
            "   macro avg       0.81      0.70      0.74      2000\n",
            "weighted avg       0.84      0.85      0.84      2000\n",
            "\n"
          ]
        }
      ]
    },
    {
      "cell_type": "code",
      "source": [
        "from sklearn.metrics import confusion_matrix\n",
        "conf_ma = confusion_matrix(y_test,y_pred)\n",
        "plt.title('ANN Confusion Matrix')\n",
        "sns.heatmap(conf_ma,annot=True,cmap='Reds',fmt='d',cbar=False)  \n",
        "plt.show()"
      ],
      "metadata": {
        "colab": {
          "base_uri": "https://localhost:8080/",
          "height": 281
        },
        "id": "Ps1aOIpV2bh3",
        "outputId": "bf358111-9795-4d0c-de32-81a6b71c30a6"
      },
      "execution_count": 22,
      "outputs": [
        {
          "output_type": "display_data",
          "data": {
            "text/plain": [
              "<Figure size 432x288 with 1 Axes>"
            ],
            "image/png": "[encoded data removed]"
          },
          "metadata": {
            "needs_background": "light"
          }
        }
      ]
    },
    {
      "cell_type": "code",
      "source": [
        ""
      ],
      "metadata": {
        "id": "zJ7Tsecw2blQ"
      },
      "execution_count": null,
      "outputs": []
    }
  ]
}