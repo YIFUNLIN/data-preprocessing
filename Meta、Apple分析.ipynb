{
 "cells": [
  {
   "cell_type": "code",
   "execution_count": 1,
   "id": "b1ecbbab",
   "metadata": {},
   "outputs": [
    {
     "name": "stderr",
     "output_type": "stream",
     "text": [
      "C:\\Users\\linnn\\anaconda3\\lib\\site-packages\\scipy\\__init__.py:138: UserWarning: A NumPy version >=1.16.5 and <1.23.0 is required for this version of SciPy (detected version 1.23.3)\n",
      "  warnings.warn(f\"A NumPy version >={np_minversion} and <{np_maxversion} is required for this version of \"\n"
     ]
    }
   ],
   "source": [
    "import numpy as np\n",
    "import pandas as pd\n",
    "import matplotlib.pyplot as plt\n",
    "%matplotlib inline\n",
    "import yfinance as yf\n",
    "from matplotlib.pyplot import MultipleLocator\n",
    "import matplotlib.dates as mdates    #處理日期\n",
    "import statsmodels.api as sm"
   ]
  },
  {
   "cell_type": "code",
   "execution_count": 2,
   "id": "ffe857b6",
   "metadata": {},
   "outputs": [
    {
     "data": {
      "text/html": [
       "<div>\n",
       "<style scoped>\n",
       "    .dataframe tbody tr th:only-of-type {\n",
       "        vertical-align: middle;\n",
       "    }\n",
       "\n",
       "    .dataframe tbody tr th {\n",
       "        vertical-align: top;\n",
       "    }\n",
       "\n",
       "    .dataframe thead th {\n",
       "        text-align: right;\n",
       "    }\n",
       "</style>\n",
       "<table border=\"1\" class=\"dataframe\">\n",
       "  <thead>\n",
       "    <tr style=\"text-align: right;\">\n",
       "      <th></th>\n",
       "      <th>meta_price</th>\n",
       "    </tr>\n",
       "    <tr>\n",
       "      <th>Date</th>\n",
       "      <th></th>\n",
       "    </tr>\n",
       "  </thead>\n",
       "  <tbody>\n",
       "    <tr>\n",
       "      <th>2012-05-18</th>\n",
       "      <td>38230.000</td>\n",
       "    </tr>\n",
       "    <tr>\n",
       "      <th>2012-05-21</th>\n",
       "      <td>34029.999</td>\n",
       "    </tr>\n",
       "    <tr>\n",
       "      <th>2012-05-22</th>\n",
       "      <td>31000.000</td>\n",
       "    </tr>\n",
       "    <tr>\n",
       "      <th>2012-05-23</th>\n",
       "      <td>32000.000</td>\n",
       "    </tr>\n",
       "    <tr>\n",
       "      <th>2012-05-24</th>\n",
       "      <td>33029.999</td>\n",
       "    </tr>\n",
       "    <tr>\n",
       "      <th>...</th>\n",
       "      <td>...</td>\n",
       "    </tr>\n",
       "    <tr>\n",
       "      <th>2022-11-16</th>\n",
       "      <td>113230.003</td>\n",
       "    </tr>\n",
       "    <tr>\n",
       "      <th>2022-11-17</th>\n",
       "      <td>111449.997</td>\n",
       "    </tr>\n",
       "    <tr>\n",
       "      <th>2022-11-18</th>\n",
       "      <td>112050.003</td>\n",
       "    </tr>\n",
       "    <tr>\n",
       "      <th>2022-11-21</th>\n",
       "      <td>109860.001</td>\n",
       "    </tr>\n",
       "    <tr>\n",
       "      <th>2022-11-22</th>\n",
       "      <td>111440.002</td>\n",
       "    </tr>\n",
       "  </tbody>\n",
       "</table>\n",
       "<p>2647 rows × 1 columns</p>\n",
       "</div>"
      ],
      "text/plain": [
       "            meta_price\n",
       "Date                  \n",
       "2012-05-18   38230.000\n",
       "2012-05-21   34029.999\n",
       "2012-05-22   31000.000\n",
       "2012-05-23   32000.000\n",
       "2012-05-24   33029.999\n",
       "...                ...\n",
       "2022-11-16  113230.003\n",
       "2022-11-17  111449.997\n",
       "2022-11-18  112050.003\n",
       "2022-11-21  109860.001\n",
       "2022-11-22  111440.002\n",
       "\n",
       "[2647 rows x 1 columns]"
      ]
     },
     "execution_count": 2,
     "metadata": {},
     "output_type": "execute_result"
    }
   ],
   "source": [
    "meta = yf.Ticker('META').history(period='max')\n",
    "meta = meta[['Close']] * 1000   #先變成一張\n",
    "meta.columns = ['meta_price']\n",
    "meta = round(meta,3)\n",
    "meta"
   ]
  },
  {
   "cell_type": "code",
   "execution_count": 22,
   "id": "594937f2",
   "metadata": {},
   "outputs": [
    {
     "data": {
      "text/html": [
       "<div>\n",
       "<style scoped>\n",
       "    .dataframe tbody tr th:only-of-type {\n",
       "        vertical-align: middle;\n",
       "    }\n",
       "\n",
       "    .dataframe tbody tr th {\n",
       "        vertical-align: top;\n",
       "    }\n",
       "\n",
       "    .dataframe thead th {\n",
       "        text-align: right;\n",
       "    }\n",
       "</style>\n",
       "<table border=\"1\" class=\"dataframe\">\n",
       "  <thead>\n",
       "    <tr style=\"text-align: right;\">\n",
       "      <th></th>\n",
       "      <th>meta_price</th>\n",
       "    </tr>\n",
       "    <tr>\n",
       "      <th>Date</th>\n",
       "      <th></th>\n",
       "    </tr>\n",
       "  </thead>\n",
       "  <tbody>\n",
       "    <tr>\n",
       "      <th>2015-08-04</th>\n",
       "      <td>94059.998</td>\n",
       "    </tr>\n",
       "    <tr>\n",
       "      <th>2015-08-05</th>\n",
       "      <td>96440.002</td>\n",
       "    </tr>\n",
       "    <tr>\n",
       "      <th>2015-08-06</th>\n",
       "      <td>95120.003</td>\n",
       "    </tr>\n",
       "    <tr>\n",
       "      <th>2015-08-07</th>\n",
       "      <td>94300.003</td>\n",
       "    </tr>\n",
       "    <tr>\n",
       "      <th>2015-08-10</th>\n",
       "      <td>94150.002</td>\n",
       "    </tr>\n",
       "    <tr>\n",
       "      <th>...</th>\n",
       "      <td>...</td>\n",
       "    </tr>\n",
       "    <tr>\n",
       "      <th>2022-11-16</th>\n",
       "      <td>113230.003</td>\n",
       "    </tr>\n",
       "    <tr>\n",
       "      <th>2022-11-17</th>\n",
       "      <td>111449.997</td>\n",
       "    </tr>\n",
       "    <tr>\n",
       "      <th>2022-11-18</th>\n",
       "      <td>112050.003</td>\n",
       "    </tr>\n",
       "    <tr>\n",
       "      <th>2022-11-21</th>\n",
       "      <td>109860.001</td>\n",
       "    </tr>\n",
       "    <tr>\n",
       "      <th>2022-11-22</th>\n",
       "      <td>111440.002</td>\n",
       "    </tr>\n",
       "  </tbody>\n",
       "</table>\n",
       "<p>1841 rows × 1 columns</p>\n",
       "</div>"
      ],
      "text/plain": [
       "            meta_price\n",
       "Date                  \n",
       "2015-08-04   94059.998\n",
       "2015-08-05   96440.002\n",
       "2015-08-06   95120.003\n",
       "2015-08-07   94300.003\n",
       "2015-08-10   94150.002\n",
       "...                ...\n",
       "2022-11-16  113230.003\n",
       "2022-11-17  111449.997\n",
       "2022-11-18  112050.003\n",
       "2022-11-21  109860.001\n",
       "2022-11-22  111440.002\n",
       "\n",
       "[1841 rows x 1 columns]"
      ]
     },
     "execution_count": 22,
     "metadata": {},
     "output_type": "execute_result"
    }
   ],
   "source": [
    "#控制資料筆數與ETH的資料量相同\n",
    "meta = meta['2015-08-04':]\n",
    "meta"
   ]
  },
  {
   "cell_type": "code",
   "execution_count": 23,
   "id": "5c42732c",
   "metadata": {},
   "outputs": [
    {
     "data": {
      "text/plain": [
       "[<matplotlib.lines.Line2D at 0x23550446e50>]"
      ]
     },
     "execution_count": 23,
     "metadata": {},
     "output_type": "execute_result"
    },
    {
     "data": {
      "image/png": "[encoded data removed]",
      "text/plain": [
       "<Figure size 432x288 with 1 Axes>"
      ]
     },
     "metadata": {
      "needs_background": "light"
     },
     "output_type": "display_data"
    }
   ],
   "source": [
    "plt.plot(meta['meta_price'])"
   ]
  },
  {
   "cell_type": "code",
   "execution_count": 31,
   "id": "0598d0a0",
   "metadata": {},
   "outputs": [
    {
     "data": {
      "text/html": [
       "<div>\n",
       "<style scoped>\n",
       "    .dataframe tbody tr th:only-of-type {\n",
       "        vertical-align: middle;\n",
       "    }\n",
       "\n",
       "    .dataframe tbody tr th {\n",
       "        vertical-align: top;\n",
       "    }\n",
       "\n",
       "    .dataframe thead th {\n",
       "        text-align: right;\n",
       "    }\n",
       "</style>\n",
       "<table border=\"1\" class=\"dataframe\">\n",
       "  <thead>\n",
       "    <tr style=\"text-align: right;\">\n",
       "      <th></th>\n",
       "      <th>apple_price</th>\n",
       "    </tr>\n",
       "    <tr>\n",
       "      <th>Date</th>\n",
       "      <th></th>\n",
       "    </tr>\n",
       "  </thead>\n",
       "  <tbody>\n",
       "    <tr>\n",
       "      <th>2007-01-03</th>\n",
       "      <td>2551.164389</td>\n",
       "    </tr>\n",
       "    <tr>\n",
       "      <th>2007-01-04</th>\n",
       "      <td>2607.790232</td>\n",
       "    </tr>\n",
       "    <tr>\n",
       "      <th>2007-01-05</th>\n",
       "      <td>2589.218855</td>\n",
       "    </tr>\n",
       "    <tr>\n",
       "      <th>2007-01-08</th>\n",
       "      <td>2602.004766</td>\n",
       "    </tr>\n",
       "    <tr>\n",
       "      <th>2007-01-09</th>\n",
       "      <td>2818.154097</td>\n",
       "    </tr>\n",
       "    <tr>\n",
       "      <th>...</th>\n",
       "      <td>...</td>\n",
       "    </tr>\n",
       "    <tr>\n",
       "      <th>2022-11-17</th>\n",
       "      <td>150720.001221</td>\n",
       "    </tr>\n",
       "    <tr>\n",
       "      <th>2022-11-18</th>\n",
       "      <td>151289.993286</td>\n",
       "    </tr>\n",
       "    <tr>\n",
       "      <th>2022-11-21</th>\n",
       "      <td>148009.994507</td>\n",
       "    </tr>\n",
       "    <tr>\n",
       "      <th>2022-11-22</th>\n",
       "      <td>150179.992676</td>\n",
       "    </tr>\n",
       "    <tr>\n",
       "      <th>2022-11-23</th>\n",
       "      <td>151070.007324</td>\n",
       "    </tr>\n",
       "  </tbody>\n",
       "</table>\n",
       "<p>4003 rows × 1 columns</p>\n",
       "</div>"
      ],
      "text/plain": [
       "              apple_price\n",
       "Date                     \n",
       "2007-01-03    2551.164389\n",
       "2007-01-04    2607.790232\n",
       "2007-01-05    2589.218855\n",
       "2007-01-08    2602.004766\n",
       "2007-01-09    2818.154097\n",
       "...                   ...\n",
       "2022-11-17  150720.001221\n",
       "2022-11-18  151289.993286\n",
       "2022-11-21  148009.994507\n",
       "2022-11-22  150179.992676\n",
       "2022-11-23  151070.007324\n",
       "\n",
       "[4003 rows x 1 columns]"
      ]
     },
     "execution_count": 31,
     "metadata": {},
     "output_type": "execute_result"
    }
   ],
   "source": [
    "apple = yf.Ticker('AAPL').history(period='max')\n",
    "apple = apple[['Close']] * 1000\n",
    "apple.columns = ['apple_price']\n",
    "apple = apple['2007-01-01':]\n",
    "apple"
   ]
  },
  {
   "cell_type": "code",
   "execution_count": 32,
   "id": "3d367a65",
   "metadata": {},
   "outputs": [
    {
     "data": {
      "text/html": [
       "<div>\n",
       "<style scoped>\n",
       "    .dataframe tbody tr th:only-of-type {\n",
       "        vertical-align: middle;\n",
       "    }\n",
       "\n",
       "    .dataframe tbody tr th {\n",
       "        vertical-align: top;\n",
       "    }\n",
       "\n",
       "    .dataframe thead th {\n",
       "        text-align: right;\n",
       "    }\n",
       "</style>\n",
       "<table border=\"1\" class=\"dataframe\">\n",
       "  <thead>\n",
       "    <tr style=\"text-align: right;\">\n",
       "      <th></th>\n",
       "      <th>apple_price</th>\n",
       "    </tr>\n",
       "    <tr>\n",
       "      <th>Date</th>\n",
       "      <th></th>\n",
       "    </tr>\n",
       "  </thead>\n",
       "  <tbody>\n",
       "    <tr>\n",
       "      <th>2015-08-04</th>\n",
       "      <td>26008.152008</td>\n",
       "    </tr>\n",
       "    <tr>\n",
       "      <th>2015-08-05</th>\n",
       "      <td>26180.568695</td>\n",
       "    </tr>\n",
       "    <tr>\n",
       "      <th>2015-08-06</th>\n",
       "      <td>26237.537384</td>\n",
       "    </tr>\n",
       "    <tr>\n",
       "      <th>2015-08-07</th>\n",
       "      <td>26326.419830</td>\n",
       "    </tr>\n",
       "    <tr>\n",
       "      <th>2015-08-10</th>\n",
       "      <td>27283.580780</td>\n",
       "    </tr>\n",
       "    <tr>\n",
       "      <th>...</th>\n",
       "      <td>...</td>\n",
       "    </tr>\n",
       "    <tr>\n",
       "      <th>2022-11-17</th>\n",
       "      <td>150720.001221</td>\n",
       "    </tr>\n",
       "    <tr>\n",
       "      <th>2022-11-18</th>\n",
       "      <td>151289.993286</td>\n",
       "    </tr>\n",
       "    <tr>\n",
       "      <th>2022-11-21</th>\n",
       "      <td>148009.994507</td>\n",
       "    </tr>\n",
       "    <tr>\n",
       "      <th>2022-11-22</th>\n",
       "      <td>150179.992676</td>\n",
       "    </tr>\n",
       "    <tr>\n",
       "      <th>2022-11-23</th>\n",
       "      <td>151070.007324</td>\n",
       "    </tr>\n",
       "  </tbody>\n",
       "</table>\n",
       "<p>1842 rows × 1 columns</p>\n",
       "</div>"
      ],
      "text/plain": [
       "              apple_price\n",
       "Date                     \n",
       "2015-08-04   26008.152008\n",
       "2015-08-05   26180.568695\n",
       "2015-08-06   26237.537384\n",
       "2015-08-07   26326.419830\n",
       "2015-08-10   27283.580780\n",
       "...                   ...\n",
       "2022-11-17  150720.001221\n",
       "2022-11-18  151289.993286\n",
       "2022-11-21  148009.994507\n",
       "2022-11-22  150179.992676\n",
       "2022-11-23  151070.007324\n",
       "\n",
       "[1842 rows x 1 columns]"
      ]
     },
     "execution_count": 32,
     "metadata": {},
     "output_type": "execute_result"
    }
   ],
   "source": [
    "#控制資料筆數與ETH的資料量相同\n",
    "apple = apple['2015-08-04':]\n",
    "apple"
   ]
  },
  {
   "cell_type": "code",
   "execution_count": 33,
   "id": "d5bb800e",
   "metadata": {},
   "outputs": [
    {
     "data": {
      "text/plain": [
       "[<matplotlib.lines.Line2D at 0x2003259d0a0>]"
      ]
     },
     "execution_count": 33,
     "metadata": {},
     "output_type": "execute_result"
    },
    {
     "data": {
      "image/png": "[encoded data removed]",
      "text/plain": [
       "<Figure size 432x288 with 1 Axes>"
      ]
     },
     "metadata": {
      "needs_background": "light"
     },
     "output_type": "display_data"
    }
   ],
   "source": [
    "plt.plot(apple['apple_price'])"
   ]
  },
  {
   "cell_type": "code",
   "execution_count": 71,
   "id": "de129487",
   "metadata": {},
   "outputs": [
    {
     "data": {
      "text/html": [
       "<div>\n",
       "<style scoped>\n",
       "    .dataframe tbody tr th:only-of-type {\n",
       "        vertical-align: middle;\n",
       "    }\n",
       "\n",
       "    .dataframe tbody tr th {\n",
       "        vertical-align: top;\n",
       "    }\n",
       "\n",
       "    .dataframe thead th {\n",
       "        text-align: right;\n",
       "    }\n",
       "</style>\n",
       "<table border=\"1\" class=\"dataframe\">\n",
       "  <thead>\n",
       "    <tr style=\"text-align: right;\">\n",
       "      <th></th>\n",
       "      <th>u_price</th>\n",
       "    </tr>\n",
       "    <tr>\n",
       "      <th>Date</th>\n",
       "      <th></th>\n",
       "    </tr>\n",
       "  </thead>\n",
       "  <tbody>\n",
       "    <tr>\n",
       "      <th>2020-09-18</th>\n",
       "      <td>68349.998474</td>\n",
       "    </tr>\n",
       "    <tr>\n",
       "      <th>2020-09-21</th>\n",
       "      <td>72959.999084</td>\n",
       "    </tr>\n",
       "    <tr>\n",
       "      <th>2020-09-22</th>\n",
       "      <td>84819.999695</td>\n",
       "    </tr>\n",
       "    <tr>\n",
       "      <th>2020-09-23</th>\n",
       "      <td>81849.998474</td>\n",
       "    </tr>\n",
       "    <tr>\n",
       "      <th>2020-09-24</th>\n",
       "      <td>83199.996948</td>\n",
       "    </tr>\n",
       "    <tr>\n",
       "      <th>...</th>\n",
       "      <td>...</td>\n",
       "    </tr>\n",
       "    <tr>\n",
       "      <th>2022-11-16</th>\n",
       "      <td>33279.998779</td>\n",
       "    </tr>\n",
       "    <tr>\n",
       "      <th>2022-11-17</th>\n",
       "      <td>33799.999237</td>\n",
       "    </tr>\n",
       "    <tr>\n",
       "      <th>2022-11-18</th>\n",
       "      <td>34680.000305</td>\n",
       "    </tr>\n",
       "    <tr>\n",
       "      <th>2022-11-21</th>\n",
       "      <td>32090.000153</td>\n",
       "    </tr>\n",
       "    <tr>\n",
       "      <th>2022-11-22</th>\n",
       "      <td>33349.998474</td>\n",
       "    </tr>\n",
       "  </tbody>\n",
       "</table>\n",
       "<p>550 rows × 1 columns</p>\n",
       "</div>"
      ],
      "text/plain": [
       "                 u_price\n",
       "Date                    \n",
       "2020-09-18  68349.998474\n",
       "2020-09-21  72959.999084\n",
       "2020-09-22  84819.999695\n",
       "2020-09-23  81849.998474\n",
       "2020-09-24  83199.996948\n",
       "...                  ...\n",
       "2022-11-16  33279.998779\n",
       "2022-11-17  33799.999237\n",
       "2022-11-18  34680.000305\n",
       "2022-11-21  32090.000153\n",
       "2022-11-22  33349.998474\n",
       "\n",
       "[550 rows x 1 columns]"
      ]
     },
     "execution_count": 71,
     "metadata": {},
     "output_type": "execute_result"
    }
   ],
   "source": [
    "u = yf.Ticker('U').history(period='max')\n",
    "u = u[['Close']] * 1000\n",
    "u.columns = ['u_price']\n",
    "u"
   ]
  },
  {
   "cell_type": "code",
   "execution_count": 37,
   "id": "6b83fa23",
   "metadata": {},
   "outputs": [
    {
     "data": {
      "text/plain": [
       "[<matplotlib.lines.Line2D at 0x23551d2c5b0>]"
      ]
     },
     "execution_count": 37,
     "metadata": {},
     "output_type": "execute_result"
    },
    {
     "data": {
      "image/png": "[encoded data removed]",
      "text/plain": [
       "<Figure size 432x288 with 1 Axes>"
      ]
     },
     "metadata": {
      "needs_background": "light"
     },
     "output_type": "display_data"
    }
   ],
   "source": [
    "plt.xticks(rotation=90)\n",
    "plt.plot(u['u_price'])"
   ]
  },
  {
   "cell_type": "code",
   "execution_count": 2,
   "id": "e02674e9",
   "metadata": {},
   "outputs": [
    {
     "data": {
      "text/html": [
       "<div>\n",
       "<style scoped>\n",
       "    .dataframe tbody tr th:only-of-type {\n",
       "        vertical-align: middle;\n",
       "    }\n",
       "\n",
       "    .dataframe tbody tr th {\n",
       "        vertical-align: top;\n",
       "    }\n",
       "\n",
       "    .dataframe thead th {\n",
       "        text-align: right;\n",
       "    }\n",
       "</style>\n",
       "<table border=\"1\" class=\"dataframe\">\n",
       "  <thead>\n",
       "    <tr style=\"text-align: right;\">\n",
       "      <th></th>\n",
       "      <th>roblox_price</th>\n",
       "    </tr>\n",
       "    <tr>\n",
       "      <th>Date</th>\n",
       "      <th></th>\n",
       "    </tr>\n",
       "  </thead>\n",
       "  <tbody>\n",
       "    <tr>\n",
       "      <th>2021-03-10</th>\n",
       "      <td>69500.000000</td>\n",
       "    </tr>\n",
       "    <tr>\n",
       "      <th>2021-03-11</th>\n",
       "      <td>73900.001526</td>\n",
       "    </tr>\n",
       "    <tr>\n",
       "      <th>2021-03-12</th>\n",
       "      <td>69699.996948</td>\n",
       "    </tr>\n",
       "    <tr>\n",
       "      <th>2021-03-15</th>\n",
       "      <td>72150.001526</td>\n",
       "    </tr>\n",
       "    <tr>\n",
       "      <th>2021-03-16</th>\n",
       "      <td>77000.000000</td>\n",
       "    </tr>\n",
       "    <tr>\n",
       "      <th>...</th>\n",
       "      <td>...</td>\n",
       "    </tr>\n",
       "    <tr>\n",
       "      <th>2022-11-17</th>\n",
       "      <td>32529.998779</td>\n",
       "    </tr>\n",
       "    <tr>\n",
       "      <th>2022-11-18</th>\n",
       "      <td>31719.999313</td>\n",
       "    </tr>\n",
       "    <tr>\n",
       "      <th>2022-11-21</th>\n",
       "      <td>30770.000458</td>\n",
       "    </tr>\n",
       "    <tr>\n",
       "      <th>2022-11-22</th>\n",
       "      <td>30840.000153</td>\n",
       "    </tr>\n",
       "    <tr>\n",
       "      <th>2022-11-23</th>\n",
       "      <td>32000.000000</td>\n",
       "    </tr>\n",
       "  </tbody>\n",
       "</table>\n",
       "<p>433 rows × 1 columns</p>\n",
       "</div>"
      ],
      "text/plain": [
       "            roblox_price\n",
       "Date                    \n",
       "2021-03-10  69500.000000\n",
       "2021-03-11  73900.001526\n",
       "2021-03-12  69699.996948\n",
       "2021-03-15  72150.001526\n",
       "2021-03-16  77000.000000\n",
       "...                  ...\n",
       "2022-11-17  32529.998779\n",
       "2022-11-18  31719.999313\n",
       "2022-11-21  30770.000458\n",
       "2022-11-22  30840.000153\n",
       "2022-11-23  32000.000000\n",
       "\n",
       "[433 rows x 1 columns]"
      ]
     },
     "execution_count": 2,
     "metadata": {},
     "output_type": "execute_result"
    }
   ],
   "source": [
    "roblox = yf.Ticker('RBLX').history(period='max')\n",
    "roblox = roblox[['Close']] * 1000\n",
    "roblox.columns = ['roblox_price']\n",
    "roblox"
   ]
  },
  {
   "cell_type": "code",
   "execution_count": 3,
   "id": "09a195d3",
   "metadata": {},
   "outputs": [
    {
     "data": {
      "text/plain": [
       "[<matplotlib.lines.Line2D at 0x2002edf3640>]"
      ]
     },
     "execution_count": 3,
     "metadata": {},
     "output_type": "execute_result"
    },
    {
     "data": {
      "image/png": "[encoded data removed]",
      "text/plain": [
       "<Figure size 432x288 with 1 Axes>"
      ]
     },
     "metadata": {
      "needs_background": "light"
     },
     "output_type": "display_data"
    }
   ],
   "source": [
    "plt.xticks(rotation=90)\n",
    "plt.plot(roblox['roblox_price'])"
   ]
  },
  {
   "cell_type": "code",
   "execution_count": 4,
   "id": "74268e24",
   "metadata": {},
   "outputs": [
    {
     "data": {
      "text/html": [
       "<div>\n",
       "<style scoped>\n",
       "    .dataframe tbody tr th:only-of-type {\n",
       "        vertical-align: middle;\n",
       "    }\n",
       "\n",
       "    .dataframe tbody tr th {\n",
       "        vertical-align: top;\n",
       "    }\n",
       "\n",
       "    .dataframe thead th {\n",
       "        text-align: right;\n",
       "    }\n",
       "</style>\n",
       "<table border=\"1\" class=\"dataframe\">\n",
       "  <thead>\n",
       "    <tr style=\"text-align: right;\">\n",
       "      <th></th>\n",
       "      <th>BTC_price</th>\n",
       "    </tr>\n",
       "    <tr>\n",
       "      <th>Date</th>\n",
       "      <th></th>\n",
       "    </tr>\n",
       "  </thead>\n",
       "  <tbody>\n",
       "    <tr>\n",
       "      <th>2014-09-17</th>\n",
       "      <td>457.334015</td>\n",
       "    </tr>\n",
       "    <tr>\n",
       "      <th>2014-09-18</th>\n",
       "      <td>424.440002</td>\n",
       "    </tr>\n",
       "    <tr>\n",
       "      <th>2014-09-19</th>\n",
       "      <td>394.795990</td>\n",
       "    </tr>\n",
       "    <tr>\n",
       "      <th>2014-09-20</th>\n",
       "      <td>408.903992</td>\n",
       "    </tr>\n",
       "    <tr>\n",
       "      <th>2014-09-21</th>\n",
       "      <td>398.821014</td>\n",
       "    </tr>\n",
       "    <tr>\n",
       "      <th>...</th>\n",
       "      <td>...</td>\n",
       "    </tr>\n",
       "    <tr>\n",
       "      <th>2022-11-20</th>\n",
       "      <td>16291.832031</td>\n",
       "    </tr>\n",
       "    <tr>\n",
       "      <th>2022-11-21</th>\n",
       "      <td>15787.284180</td>\n",
       "    </tr>\n",
       "    <tr>\n",
       "      <th>2022-11-22</th>\n",
       "      <td>16189.769531</td>\n",
       "    </tr>\n",
       "    <tr>\n",
       "      <th>2022-11-23</th>\n",
       "      <td>16610.707031</td>\n",
       "    </tr>\n",
       "    <tr>\n",
       "      <th>2022-11-24</th>\n",
       "      <td>16605.873047</td>\n",
       "    </tr>\n",
       "  </tbody>\n",
       "</table>\n",
       "<p>2991 rows × 1 columns</p>\n",
       "</div>"
      ],
      "text/plain": [
       "               BTC_price\n",
       "Date                    \n",
       "2014-09-17    457.334015\n",
       "2014-09-18    424.440002\n",
       "2014-09-19    394.795990\n",
       "2014-09-20    408.903992\n",
       "2014-09-21    398.821014\n",
       "...                  ...\n",
       "2022-11-20  16291.832031\n",
       "2022-11-21  15787.284180\n",
       "2022-11-22  16189.769531\n",
       "2022-11-23  16610.707031\n",
       "2022-11-24  16605.873047\n",
       "\n",
       "[2991 rows x 1 columns]"
      ]
     },
     "execution_count": 4,
     "metadata": {},
     "output_type": "execute_result"
    }
   ],
   "source": [
    "BTC = yf.Ticker('BTC-USD').history(period='max')\n",
    "BTC = BTC[['Close']]\n",
    "BTC.columns = ['BTC_price']\n",
    "BTC"
   ]
  },
  {
   "cell_type": "code",
   "execution_count": 5,
   "id": "b8d3cba0",
   "metadata": {},
   "outputs": [
    {
     "data": {
      "text/html": [
       "<div>\n",
       "<style scoped>\n",
       "    .dataframe tbody tr th:only-of-type {\n",
       "        vertical-align: middle;\n",
       "    }\n",
       "\n",
       "    .dataframe tbody tr th {\n",
       "        vertical-align: top;\n",
       "    }\n",
       "\n",
       "    .dataframe thead th {\n",
       "        text-align: right;\n",
       "    }\n",
       "</style>\n",
       "<table border=\"1\" class=\"dataframe\">\n",
       "  <thead>\n",
       "    <tr style=\"text-align: right;\">\n",
       "      <th></th>\n",
       "      <th>BTC_price</th>\n",
       "    </tr>\n",
       "    <tr>\n",
       "      <th>Date</th>\n",
       "      <th></th>\n",
       "    </tr>\n",
       "  </thead>\n",
       "  <tbody>\n",
       "    <tr>\n",
       "      <th>2017-11-09</th>\n",
       "      <td>7143.580078</td>\n",
       "    </tr>\n",
       "    <tr>\n",
       "      <th>2017-11-10</th>\n",
       "      <td>6618.140137</td>\n",
       "    </tr>\n",
       "    <tr>\n",
       "      <th>2017-11-11</th>\n",
       "      <td>6357.600098</td>\n",
       "    </tr>\n",
       "    <tr>\n",
       "      <th>2017-11-12</th>\n",
       "      <td>5950.069824</td>\n",
       "    </tr>\n",
       "    <tr>\n",
       "      <th>2017-11-13</th>\n",
       "      <td>6559.490234</td>\n",
       "    </tr>\n",
       "    <tr>\n",
       "      <th>...</th>\n",
       "      <td>...</td>\n",
       "    </tr>\n",
       "    <tr>\n",
       "      <th>2022-11-20</th>\n",
       "      <td>16291.832031</td>\n",
       "    </tr>\n",
       "    <tr>\n",
       "      <th>2022-11-21</th>\n",
       "      <td>15787.284180</td>\n",
       "    </tr>\n",
       "    <tr>\n",
       "      <th>2022-11-22</th>\n",
       "      <td>16189.769531</td>\n",
       "    </tr>\n",
       "    <tr>\n",
       "      <th>2022-11-23</th>\n",
       "      <td>16610.707031</td>\n",
       "    </tr>\n",
       "    <tr>\n",
       "      <th>2022-11-24</th>\n",
       "      <td>16605.873047</td>\n",
       "    </tr>\n",
       "  </tbody>\n",
       "</table>\n",
       "<p>1842 rows × 1 columns</p>\n",
       "</div>"
      ],
      "text/plain": [
       "               BTC_price\n",
       "Date                    \n",
       "2017-11-09   7143.580078\n",
       "2017-11-10   6618.140137\n",
       "2017-11-11   6357.600098\n",
       "2017-11-12   5950.069824\n",
       "2017-11-13   6559.490234\n",
       "...                  ...\n",
       "2022-11-20  16291.832031\n",
       "2022-11-21  15787.284180\n",
       "2022-11-22  16189.769531\n",
       "2022-11-23  16610.707031\n",
       "2022-11-24  16605.873047\n",
       "\n",
       "[1842 rows x 1 columns]"
      ]
     },
     "execution_count": 5,
     "metadata": {},
     "output_type": "execute_result"
    }
   ],
   "source": [
    "BTC = BTC['2017-11-09':] \n",
    "BTC"
   ]
  },
  {
   "cell_type": "code",
   "execution_count": 6,
   "id": "9d4c0c01",
   "metadata": {},
   "outputs": [
    {
     "data": {
      "text/plain": [
       "[<matplotlib.lines.Line2D at 0x20030e63f40>]"
      ]
     },
     "execution_count": 6,
     "metadata": {},
     "output_type": "execute_result"
    },
    {
     "data": {
      "image/png": "[encoded data removed]",
      "text/plain": [
       "<Figure size 432x288 with 1 Axes>"
      ]
     },
     "metadata": {
      "needs_background": "light"
     },
     "output_type": "display_data"
    }
   ],
   "source": [
    "plt.plot(BTC['BTC_price'])"
   ]
  },
  {
   "cell_type": "code",
   "execution_count": 7,
   "id": "e8953d9c",
   "metadata": {},
   "outputs": [
    {
     "data": {
      "text/html": [
       "<div>\n",
       "<style scoped>\n",
       "    .dataframe tbody tr th:only-of-type {\n",
       "        vertical-align: middle;\n",
       "    }\n",
       "\n",
       "    .dataframe tbody tr th {\n",
       "        vertical-align: top;\n",
       "    }\n",
       "\n",
       "    .dataframe thead th {\n",
       "        text-align: right;\n",
       "    }\n",
       "</style>\n",
       "<table border=\"1\" class=\"dataframe\">\n",
       "  <thead>\n",
       "    <tr style=\"text-align: right;\">\n",
       "      <th></th>\n",
       "      <th>ETH_price</th>\n",
       "    </tr>\n",
       "    <tr>\n",
       "      <th>Date</th>\n",
       "      <th></th>\n",
       "    </tr>\n",
       "  </thead>\n",
       "  <tbody>\n",
       "    <tr>\n",
       "      <th>2017-11-09</th>\n",
       "      <td>320.884003</td>\n",
       "    </tr>\n",
       "    <tr>\n",
       "      <th>2017-11-10</th>\n",
       "      <td>299.252991</td>\n",
       "    </tr>\n",
       "    <tr>\n",
       "      <th>2017-11-11</th>\n",
       "      <td>314.681000</td>\n",
       "    </tr>\n",
       "    <tr>\n",
       "      <th>2017-11-12</th>\n",
       "      <td>307.907990</td>\n",
       "    </tr>\n",
       "    <tr>\n",
       "      <th>2017-11-13</th>\n",
       "      <td>316.716003</td>\n",
       "    </tr>\n",
       "    <tr>\n",
       "      <th>...</th>\n",
       "      <td>...</td>\n",
       "    </tr>\n",
       "    <tr>\n",
       "      <th>2022-11-20</th>\n",
       "      <td>1142.466675</td>\n",
       "    </tr>\n",
       "    <tr>\n",
       "      <th>2022-11-21</th>\n",
       "      <td>1108.353027</td>\n",
       "    </tr>\n",
       "    <tr>\n",
       "      <th>2022-11-22</th>\n",
       "      <td>1135.173462</td>\n",
       "    </tr>\n",
       "    <tr>\n",
       "      <th>2022-11-23</th>\n",
       "      <td>1183.199585</td>\n",
       "    </tr>\n",
       "    <tr>\n",
       "      <th>2022-11-24</th>\n",
       "      <td>1200.914673</td>\n",
       "    </tr>\n",
       "  </tbody>\n",
       "</table>\n",
       "<p>1842 rows × 1 columns</p>\n",
       "</div>"
      ],
      "text/plain": [
       "              ETH_price\n",
       "Date                   \n",
       "2017-11-09   320.884003\n",
       "2017-11-10   299.252991\n",
       "2017-11-11   314.681000\n",
       "2017-11-12   307.907990\n",
       "2017-11-13   316.716003\n",
       "...                 ...\n",
       "2022-11-20  1142.466675\n",
       "2022-11-21  1108.353027\n",
       "2022-11-22  1135.173462\n",
       "2022-11-23  1183.199585\n",
       "2022-11-24  1200.914673\n",
       "\n",
       "[1842 rows x 1 columns]"
      ]
     },
     "execution_count": 7,
     "metadata": {},
     "output_type": "execute_result"
    }
   ],
   "source": [
    "ETH = yf.Ticker('ETH-USD').history(period='max')\n",
    "ETH = ETH[['Close']]\n",
    "ETH.columns = ['ETH_price']\n",
    "ETH"
   ]
  },
  {
   "cell_type": "code",
   "execution_count": 8,
   "id": "278efb0e",
   "metadata": {},
   "outputs": [
    {
     "data": {
      "text/plain": [
       "[<matplotlib.lines.Line2D at 0x20030f56550>]"
      ]
     },
     "execution_count": 8,
     "metadata": {},
     "output_type": "execute_result"
    },
    {
     "data": {
      "image/png": "[encoded data removed]",
      "text/plain": [
       "<Figure size 432x288 with 1 Axes>"
      ]
     },
     "metadata": {
      "needs_background": "light"
     },
     "output_type": "display_data"
    }
   ],
   "source": [
    "plt.plot(ETH['ETH_price'])"
   ]
  },
  {
   "cell_type": "markdown",
   "id": "7aa188df",
   "metadata": {},
   "source": [
    "# meta 與BTC 比較"
   ]
  },
  {
   "cell_type": "code",
   "execution_count": 38,
   "id": "15f9658e",
   "metadata": {},
   "outputs": [
    {
     "data": {
      "image/png": "[encoded data removed]",
      "text/plain": [
       "<Figure size 432x288 with 1 Axes>"
      ]
     },
     "metadata": {
      "needs_background": "light"
     },
     "output_type": "display_data"
    }
   ],
   "source": [
    "plt.plot(BTC.index,BTC['BTC_price'],label = 'Bitcoin',color='red')\n",
    "plt.plot(meta.index,meta['meta_price'],label='meta')\n",
    "plt.xlabel('Date', fontsize=\"10\") # 設定 x 軸標題內容及大小\n",
    "plt.ylabel(\"US\", fontsize=\"10\",rotation=True) # 設定 y 軸標題內容及大小\n",
    "\n",
    "plt.ylim(6000,380000)       \n",
    "\n",
    "plt.title('Bitcoin and META comparison', fontsize=\"18\") # 設定圖表標題內容及大小\n",
    "\n",
    "plt.legend()\n",
    "plt.show()"
   ]
  },
  {
   "cell_type": "code",
   "execution_count": 39,
   "id": "14e941ae",
   "metadata": {},
   "outputs": [
    {
     "data": {
      "text/plain": [
       "Date\n",
       "2015-08-04     94059.998\n",
       "2015-08-05     96440.002\n",
       "2015-08-06     95120.003\n",
       "2015-08-07     94300.003\n",
       "2015-08-10     94150.002\n",
       "                 ...    \n",
       "2022-11-16    113230.003\n",
       "2022-11-17    111449.997\n",
       "2022-11-18    112050.003\n",
       "2022-11-21    109860.001\n",
       "2022-11-22    111440.002\n",
       "Name: meta_price, Length: 1841, dtype: float64"
      ]
     },
     "execution_count": 39,
     "metadata": {},
     "output_type": "execute_result"
    }
   ],
   "source": [
    "meta['meta_price']"
   ]
  },
  {
   "cell_type": "code",
   "execution_count": 40,
   "id": "f072d35a",
   "metadata": {},
   "outputs": [
    {
     "data": {
      "text/plain": [
       "Date\n",
       "2017-11-09     7143.580078\n",
       "2017-11-10     6618.140137\n",
       "2017-11-11     6357.600098\n",
       "2017-11-12     5950.069824\n",
       "2017-11-13     6559.490234\n",
       "                  ...     \n",
       "2022-11-19    16711.546875\n",
       "2022-11-20    16291.832031\n",
       "2022-11-21    15787.284180\n",
       "2022-11-22    16189.769531\n",
       "2022-11-23    16470.886719\n",
       "Name: BTC_price, Length: 1841, dtype: float64"
      ]
     },
     "execution_count": 40,
     "metadata": {},
     "output_type": "execute_result"
    }
   ],
   "source": [
    "BTC['BTC_price']"
   ]
  },
  {
   "cell_type": "code",
   "execution_count": 44,
   "id": "f7ecdf38",
   "metadata": {},
   "outputs": [
    {
     "name": "stdout",
     "output_type": "stream",
     "text": [
      "                            OLS Regression Results                            \n",
      "==============================================================================\n",
      "Dep. Variable:                      y   R-squared:                       0.634\n",
      "Model:                            OLS   Adj. R-squared:                  0.634\n",
      "Method:                 Least Squares   F-statistic:                     3188.\n",
      "Date:                Wed, 23 Nov 2022   Prob (F-statistic):               0.00\n",
      "Time:                        14:14:52   Log-Likelihood:                -19617.\n",
      "No. Observations:                1841   AIC:                         3.924e+04\n",
      "Df Residuals:                    1839   BIC:                         3.925e+04\n",
      "Df Model:                           1                                         \n",
      "Covariance Type:            nonrobust                                         \n",
      "==============================================================================\n",
      "                 coef    std err          t      P>|t|      [0.025      0.975]\n",
      "------------------------------------------------------------------------------\n",
      "const      -1.646e+04    691.697    -23.799      0.000   -1.78e+04   -1.51e+04\n",
      "x1             0.1925      0.003     56.460      0.000       0.186       0.199\n",
      "==============================================================================\n",
      "Omnibus:                      235.286   Durbin-Watson:                   0.018\n",
      "Prob(Omnibus):                  0.000   Jarque-Bera (JB):              329.527\n",
      "Skew:                           0.998   Prob(JB):                     2.78e-72\n",
      "Kurtosis:                       3.557   Cond. No.                     5.86e+05\n",
      "==============================================================================\n",
      "\n",
      "Notes:\n",
      "[1] Standard Errors assume that the covariance matrix of the errors is correctly specified.\n",
      "[2] The condition number is large, 5.86e+05. This might indicate that there are\n",
      "strong multicollinearity or other numerical problems.\n"
     ]
    }
   ],
   "source": [
    "BTC_1 = BTC['BTC_price'].tolist()   #先轉成list\n",
    "meta_1 = meta['meta_price'].tolist()\n",
    "y = BTC_1\n",
    "x = sm.add_constant(meta_1)    #用meta去預測比特幣\n",
    "result = sm.OLS(y,x,missing='drop').fit()\n",
    "print(result.summary())"
   ]
  },
  {
   "cell_type": "markdown",
   "id": "727d8266",
   "metadata": {},
   "source": [
    "# meta與ETH比較"
   ]
  },
  {
   "cell_type": "code",
   "execution_count": 45,
   "id": "f21d4964",
   "metadata": {},
   "outputs": [
    {
     "data": {
      "image/png": "[encoded data removed]",
      "text/plain": [
       "<Figure size 432x288 with 1 Axes>"
      ]
     },
     "metadata": {
      "needs_background": "light"
     },
     "output_type": "display_data"
    }
   ],
   "source": [
    "plt.plot(ETH.index,ETH['ETH_price'],label = 'ETH',color='red')\n",
    "plt.plot(meta.index,meta['meta_price'],label='meta')\n",
    "plt.xlabel('Date', fontsize=\"10\") # 設定 x 軸標題內容及大小\n",
    "plt.ylabel(\"US\", fontsize=\"10\",rotation=True) # 設定 y 軸標題內容及大小\n",
    "\n",
    "plt.ylim(300,380000)       \n",
    "\n",
    "plt.title('ETH and META comparison', fontsize=\"18\") # 設定圖表標題內容及大小\n",
    "\n",
    "plt.legend()\n",
    "plt.show()"
   ]
  },
  {
   "cell_type": "code",
   "execution_count": 149,
   "id": "8b76ae3f",
   "metadata": {},
   "outputs": [
    {
     "data": {
      "text/plain": [
       "Date\n",
       "2015-08-06     95120.003\n",
       "2015-08-07     94300.003\n",
       "2015-08-10     94150.002\n",
       "2015-08-11     93620.003\n",
       "2015-08-12     94190.002\n",
       "                 ...    \n",
       "2022-11-14    114220.001\n",
       "2022-11-15    117080.002\n",
       "2022-11-16    113230.003\n",
       "2022-11-17    111449.997\n",
       "2022-11-18    112050.003\n",
       "Name: meta_price, Length: 1837, dtype: float64"
      ]
     },
     "execution_count": 149,
     "metadata": {},
     "output_type": "execute_result"
    }
   ],
   "source": [
    "meta['meta_price']"
   ]
  },
  {
   "cell_type": "code",
   "execution_count": 150,
   "id": "83c94d8e",
   "metadata": {},
   "outputs": [
    {
     "data": {
      "text/plain": [
       "Date\n",
       "2017-11-09     320.884003\n",
       "2017-11-10     299.252991\n",
       "2017-11-11     314.681000\n",
       "2017-11-12     307.907990\n",
       "2017-11-13     316.716003\n",
       "                 ...     \n",
       "2022-11-15    1251.736206\n",
       "2022-11-16    1215.602539\n",
       "2022-11-17    1200.808594\n",
       "2022-11-18    1212.300293\n",
       "2022-11-19    1208.587158\n",
       "Name: ETH_price, Length: 1837, dtype: float64"
      ]
     },
     "execution_count": 150,
     "metadata": {},
     "output_type": "execute_result"
    }
   ],
   "source": [
    "ETH['ETH_price']"
   ]
  },
  {
   "cell_type": "code",
   "execution_count": 46,
   "id": "ec2573c4",
   "metadata": {},
   "outputs": [
    {
     "name": "stdout",
     "output_type": "stream",
     "text": [
      "                            OLS Regression Results                            \n",
      "==============================================================================\n",
      "Dep. Variable:                      y   R-squared:                       0.652\n",
      "Model:                            OLS   Adj. R-squared:                  0.652\n",
      "Method:                 Least Squares   F-statistic:                     3452.\n",
      "Date:                Wed, 23 Nov 2022   Prob (F-statistic):               0.00\n",
      "Time:                        14:15:52   Log-Likelihood:                -14692.\n",
      "No. Observations:                1841   AIC:                         2.939e+04\n",
      "Df Residuals:                    1839   BIC:                         2.940e+04\n",
      "Df Model:                           1                                         \n",
      "Covariance Type:            nonrobust                                         \n",
      "==============================================================================\n",
      "                 coef    std err          t      P>|t|      [0.025      0.975]\n",
      "------------------------------------------------------------------------------\n",
      "const      -1499.0768     47.653    -31.458      0.000   -1592.536   -1405.617\n",
      "x1             0.0138      0.000     58.756      0.000       0.013       0.014\n",
      "==============================================================================\n",
      "Omnibus:                      304.016   Durbin-Watson:                   0.021\n",
      "Prob(Omnibus):                  0.000   Jarque-Bera (JB):              109.340\n",
      "Skew:                           0.385   Prob(JB):                     1.81e-24\n",
      "Kurtosis:                       2.087   Cond. No.                     5.86e+05\n",
      "==============================================================================\n",
      "\n",
      "Notes:\n",
      "[1] Standard Errors assume that the covariance matrix of the errors is correctly specified.\n",
      "[2] The condition number is large, 5.86e+05. This might indicate that there are\n",
      "strong multicollinearity or other numerical problems.\n"
     ]
    }
   ],
   "source": [
    "ETH_1 = ETH['ETH_price'].tolist()   #先轉成list\n",
    "meta_1 = meta['meta_price'].tolist()\n",
    "y = ETH_1\n",
    "x = sm.add_constant(meta_1)    #用meta去預測ETH\n",
    "result = sm.OLS(y,x,missing='drop').fit()\n",
    "print(result.summary())"
   ]
  },
  {
   "cell_type": "markdown",
   "id": "58c5d2d4",
   "metadata": {},
   "source": [
    "# apple 與 BTC 比較"
   ]
  },
  {
   "cell_type": "code",
   "execution_count": 34,
   "id": "d9e001e8",
   "metadata": {},
   "outputs": [
    {
     "data": {
      "image/png": "[encoded data removed]",
      "text/plain": [
       "<Figure size 432x288 with 1 Axes>"
      ]
     },
     "metadata": {
      "needs_background": "light"
     },
     "output_type": "display_data"
    }
   ],
   "source": [
    "plt.plot(BTC.index,BTC['BTC_price'],label = 'Bitcoin',color='red')\n",
    "plt.plot(apple.index,apple['apple_price'],label='apple')\n",
    "plt.xlabel('Date', fontsize=\"10\") # 設定 x 軸標題內容及大小\n",
    "plt.ylabel(\"US\", fontsize=\"10\",rotation=True) # 設定 y 軸標題內容及大小\n",
    "\n",
    "plt.ylim(90,15000)       \n",
    "\n",
    "plt.title('Bitcoin and Apple comparison', fontsize=\"18\") # 設定圖表標題內容及大小\n",
    "\n",
    "plt.legend()\n",
    "plt.show()"
   ]
  },
  {
   "cell_type": "code",
   "execution_count": 107,
   "id": "0dcfa23b",
   "metadata": {},
   "outputs": [
    {
     "name": "stdout",
     "output_type": "stream",
     "text": [
      "                            OLS Regression Results                            \n",
      "==============================================================================\n",
      "Dep. Variable:                      y   R-squared:                       0.536\n",
      "Model:                            OLS   Adj. R-squared:                  0.535\n",
      "Method:                 Least Squares   F-statistic:                     2116.\n",
      "Date:                Sat, 19 Nov 2022   Prob (F-statistic):          6.78e-308\n",
      "Time:                        18:48:41   Log-Likelihood:                -19795.\n",
      "No. Observations:                1837   AIC:                         3.959e+04\n",
      "Df Residuals:                    1835   BIC:                         3.961e+04\n",
      "Df Model:                           1                                         \n",
      "Covariance Type:            nonrobust                                         \n",
      "==============================================================================\n",
      "                 coef    std err          t      P>|t|      [0.025      0.975]\n",
      "------------------------------------------------------------------------------\n",
      "const       1651.7093    485.223      3.404      0.001     700.062    2603.357\n",
      "x1           250.9724      5.456     45.998      0.000     240.272     261.673\n",
      "==============================================================================\n",
      "Omnibus:                      278.259   Durbin-Watson:                   0.009\n",
      "Prob(Omnibus):                  0.000   Jarque-Bera (JB):              477.385\n",
      "Skew:                           0.978   Prob(JB):                    2.17e-104\n",
      "Kurtosis:                       4.553   Cond. No.                         160.\n",
      "==============================================================================\n",
      "\n",
      "Notes:\n",
      "[1] Standard Errors assume that the covariance matrix of the errors is correctly specified.\n"
     ]
    }
   ],
   "source": [
    "BTC_1 = BTC['BTC_price'].tolist()   #先轉成list\n",
    "apple_1 = apple['apple_price'].tolist()\n",
    "y = BTC_1\n",
    "x = sm.add_constant(apple_1)    #用apple去預測比特幣\n",
    "result = sm.OLS(y,x,missing='drop').fit()\n",
    "print(result.summary())"
   ]
  },
  {
   "cell_type": "markdown",
   "id": "85ac3408",
   "metadata": {},
   "source": [
    "# apple 與 ETH 比較"
   ]
  },
  {
   "cell_type": "code",
   "execution_count": 47,
   "id": "190c596e",
   "metadata": {},
   "outputs": [
    {
     "data": {
      "image/png": "[encoded data removed]",
      "text/plain": [
       "<Figure size 432x288 with 1 Axes>"
      ]
     },
     "metadata": {
      "needs_background": "light"
     },
     "output_type": "display_data"
    }
   ],
   "source": [
    "plt.plot(ETH.index,ETH['ETH_price'],label = 'ETH',color='red')\n",
    "plt.plot(apple.index,apple['apple_price'],label='apple')\n",
    "plt.xlabel('Date', fontsize=\"10\") # 設定 x 軸標題內容及大小\n",
    "plt.ylabel(\"US\", fontsize=\"10\",rotation=True) # 設定 y 軸標題內容及大小\n",
    "\n",
    "plt.ylim(50,2000)       \n",
    "\n",
    "plt.title('ETH and APPLE comparison', fontsize=\"18\") # 設定圖表標題內容及大小\n",
    "\n",
    "plt.legend()\n",
    "plt.show()"
   ]
  },
  {
   "cell_type": "code",
   "execution_count": 48,
   "id": "d9f92b30",
   "metadata": {},
   "outputs": [
    {
     "name": "stdout",
     "output_type": "stream",
     "text": [
      "                            OLS Regression Results                            \n",
      "==============================================================================\n",
      "Dep. Variable:                      y   R-squared:                       0.622\n",
      "Model:                            OLS   Adj. R-squared:                  0.621\n",
      "Method:                 Least Squares   F-statistic:                     3020.\n",
      "Date:                Wed, 23 Nov 2022   Prob (F-statistic):               0.00\n",
      "Time:                        14:18:56   Log-Likelihood:                -14770.\n",
      "No. Observations:                1841   AIC:                         2.954e+04\n",
      "Df Residuals:                    1839   BIC:                         2.956e+04\n",
      "Df Model:                           1                                         \n",
      "Covariance Type:            nonrobust                                         \n",
      "==============================================================================\n",
      "                 coef    std err          t      P>|t|      [0.025      0.975]\n",
      "------------------------------------------------------------------------------\n",
      "const       -281.8106     30.887     -9.124      0.000    -342.388    -221.233\n",
      "x1             0.0191      0.000     54.958      0.000       0.018       0.020\n",
      "==============================================================================\n",
      "Omnibus:                      175.528   Durbin-Watson:                   0.013\n",
      "Prob(Omnibus):                  0.000   Jarque-Bera (JB):              284.026\n",
      "Skew:                           0.684   Prob(JB):                     2.11e-62\n",
      "Kurtosis:                       4.353   Cond. No.                     1.60e+05\n",
      "==============================================================================\n",
      "\n",
      "Notes:\n",
      "[1] Standard Errors assume that the covariance matrix of the errors is correctly specified.\n",
      "[2] The condition number is large, 1.6e+05. This might indicate that there are\n",
      "strong multicollinearity or other numerical problems.\n"
     ]
    }
   ],
   "source": [
    "ETH_1 = ETH['ETH_price'].tolist()   #先轉成list\n",
    "apple_1 = apple['apple_price'].tolist()\n",
    "y = ETH_1\n",
    "x = sm.add_constant(apple_1)    #用meta去預測ETH\n",
    "result = sm.OLS(y,x,missing='drop').fit()\n",
    "print(result.summary())"
   ]
  },
  {
   "cell_type": "markdown",
   "id": "e0b09fd3",
   "metadata": {},
   "source": [
    "# Unity Software 與BTC 比較"
   ]
  },
  {
   "cell_type": "code",
   "execution_count": 74,
   "id": "c6e7ec2f",
   "metadata": {},
   "outputs": [
    {
     "data": {
      "text/html": [
       "<div>\n",
       "<style scoped>\n",
       "    .dataframe tbody tr th:only-of-type {\n",
       "        vertical-align: middle;\n",
       "    }\n",
       "\n",
       "    .dataframe tbody tr th {\n",
       "        vertical-align: top;\n",
       "    }\n",
       "\n",
       "    .dataframe thead th {\n",
       "        text-align: right;\n",
       "    }\n",
       "</style>\n",
       "<table border=\"1\" class=\"dataframe\">\n",
       "  <thead>\n",
       "    <tr style=\"text-align: right;\">\n",
       "      <th></th>\n",
       "      <th>BTC_price</th>\n",
       "    </tr>\n",
       "    <tr>\n",
       "      <th>Date</th>\n",
       "      <th></th>\n",
       "    </tr>\n",
       "  </thead>\n",
       "  <tbody>\n",
       "    <tr>\n",
       "      <th>2021-05-23</th>\n",
       "      <td>34770.582031</td>\n",
       "    </tr>\n",
       "    <tr>\n",
       "      <th>2021-05-24</th>\n",
       "      <td>38705.980469</td>\n",
       "    </tr>\n",
       "    <tr>\n",
       "      <th>2021-05-25</th>\n",
       "      <td>38402.222656</td>\n",
       "    </tr>\n",
       "    <tr>\n",
       "      <th>2021-05-26</th>\n",
       "      <td>39294.199219</td>\n",
       "    </tr>\n",
       "    <tr>\n",
       "      <th>2021-05-27</th>\n",
       "      <td>38436.968750</td>\n",
       "    </tr>\n",
       "    <tr>\n",
       "      <th>...</th>\n",
       "      <td>...</td>\n",
       "    </tr>\n",
       "    <tr>\n",
       "      <th>2022-11-19</th>\n",
       "      <td>16711.546875</td>\n",
       "    </tr>\n",
       "    <tr>\n",
       "      <th>2022-11-20</th>\n",
       "      <td>16291.832031</td>\n",
       "    </tr>\n",
       "    <tr>\n",
       "      <th>2022-11-21</th>\n",
       "      <td>15787.284180</td>\n",
       "    </tr>\n",
       "    <tr>\n",
       "      <th>2022-11-22</th>\n",
       "      <td>16189.769531</td>\n",
       "    </tr>\n",
       "    <tr>\n",
       "      <th>2022-11-23</th>\n",
       "      <td>16470.886719</td>\n",
       "    </tr>\n",
       "  </tbody>\n",
       "</table>\n",
       "<p>550 rows × 1 columns</p>\n",
       "</div>"
      ],
      "text/plain": [
       "               BTC_price\n",
       "Date                    \n",
       "2021-05-23  34770.582031\n",
       "2021-05-24  38705.980469\n",
       "2021-05-25  38402.222656\n",
       "2021-05-26  39294.199219\n",
       "2021-05-27  38436.968750\n",
       "...                  ...\n",
       "2022-11-19  16711.546875\n",
       "2022-11-20  16291.832031\n",
       "2022-11-21  15787.284180\n",
       "2022-11-22  16189.769531\n",
       "2022-11-23  16470.886719\n",
       "\n",
       "[550 rows x 1 columns]"
      ]
     },
     "execution_count": 74,
     "metadata": {},
     "output_type": "execute_result"
    }
   ],
   "source": [
    "BTC_U = BTC['2021-05-23':]           #配合Unity software的資料筆數\n",
    "BTC_U "
   ]
  },
  {
   "cell_type": "code",
   "execution_count": 73,
   "id": "4decbdd0",
   "metadata": {},
   "outputs": [
    {
     "data": {
      "text/html": [
       "<div>\n",
       "<style scoped>\n",
       "    .dataframe tbody tr th:only-of-type {\n",
       "        vertical-align: middle;\n",
       "    }\n",
       "\n",
       "    .dataframe tbody tr th {\n",
       "        vertical-align: top;\n",
       "    }\n",
       "\n",
       "    .dataframe thead th {\n",
       "        text-align: right;\n",
       "    }\n",
       "</style>\n",
       "<table border=\"1\" class=\"dataframe\">\n",
       "  <thead>\n",
       "    <tr style=\"text-align: right;\">\n",
       "      <th></th>\n",
       "      <th>u_price</th>\n",
       "    </tr>\n",
       "    <tr>\n",
       "      <th>Date</th>\n",
       "      <th></th>\n",
       "    </tr>\n",
       "  </thead>\n",
       "  <tbody>\n",
       "    <tr>\n",
       "      <th>2020-09-18</th>\n",
       "      <td>68349.998474</td>\n",
       "    </tr>\n",
       "    <tr>\n",
       "      <th>2020-09-21</th>\n",
       "      <td>72959.999084</td>\n",
       "    </tr>\n",
       "    <tr>\n",
       "      <th>2020-09-22</th>\n",
       "      <td>84819.999695</td>\n",
       "    </tr>\n",
       "    <tr>\n",
       "      <th>2020-09-23</th>\n",
       "      <td>81849.998474</td>\n",
       "    </tr>\n",
       "    <tr>\n",
       "      <th>2020-09-24</th>\n",
       "      <td>83199.996948</td>\n",
       "    </tr>\n",
       "    <tr>\n",
       "      <th>...</th>\n",
       "      <td>...</td>\n",
       "    </tr>\n",
       "    <tr>\n",
       "      <th>2022-11-16</th>\n",
       "      <td>33279.998779</td>\n",
       "    </tr>\n",
       "    <tr>\n",
       "      <th>2022-11-17</th>\n",
       "      <td>33799.999237</td>\n",
       "    </tr>\n",
       "    <tr>\n",
       "      <th>2022-11-18</th>\n",
       "      <td>34680.000305</td>\n",
       "    </tr>\n",
       "    <tr>\n",
       "      <th>2022-11-21</th>\n",
       "      <td>32090.000153</td>\n",
       "    </tr>\n",
       "    <tr>\n",
       "      <th>2022-11-22</th>\n",
       "      <td>33349.998474</td>\n",
       "    </tr>\n",
       "  </tbody>\n",
       "</table>\n",
       "<p>550 rows × 1 columns</p>\n",
       "</div>"
      ],
      "text/plain": [
       "                 u_price\n",
       "Date                    \n",
       "2020-09-18  68349.998474\n",
       "2020-09-21  72959.999084\n",
       "2020-09-22  84819.999695\n",
       "2020-09-23  81849.998474\n",
       "2020-09-24  83199.996948\n",
       "...                  ...\n",
       "2022-11-16  33279.998779\n",
       "2022-11-17  33799.999237\n",
       "2022-11-18  34680.000305\n",
       "2022-11-21  32090.000153\n",
       "2022-11-22  33349.998474\n",
       "\n",
       "[550 rows x 1 columns]"
      ]
     },
     "execution_count": 73,
     "metadata": {},
     "output_type": "execute_result"
    }
   ],
   "source": [
    "u"
   ]
  },
  {
   "cell_type": "code",
   "execution_count": 67,
   "id": "957b47b3",
   "metadata": {},
   "outputs": [
    {
     "data": {
      "image/png": "[encoded data removed]",
      "text/plain": [
       "<Figure size 432x288 with 1 Axes>"
      ]
     },
     "metadata": {
      "needs_background": "light"
     },
     "output_type": "display_data"
    }
   ],
   "source": [
    "plt.plot(BTC_U.index,BTC_U['BTC_price'],label = 'Bitcoin',color='red')\n",
    "plt.plot(u.index,u['u_price'],label='Unity Software')\n",
    "plt.xlabel('Date', fontsize=\"10\") # 設定 x 軸標題內容及大小\n",
    "plt.ylabel(\"US\", fontsize=\"10\",rotation=True) # 設定 y 軸標題內容及大小\n",
    "\n",
    "plt.ylim(9000,200000)       \n",
    "\n",
    "plt.title('Bitcoin and Unity Software comparison', fontsize=\"18\") # 設定圖表標題內容及大小\n",
    "\n",
    "plt.xticks(rotation=90)\n",
    "plt.legend()\n",
    "plt.show()"
   ]
  },
  {
   "cell_type": "code",
   "execution_count": 75,
   "id": "57ac6d90",
   "metadata": {},
   "outputs": [
    {
     "name": "stdout",
     "output_type": "stream",
     "text": [
      "                            OLS Regression Results                            \n",
      "==============================================================================\n",
      "Dep. Variable:                      y   R-squared:                       0.365\n",
      "Model:                            OLS   Adj. R-squared:                  0.364\n",
      "Method:                 Least Squares   F-statistic:                     315.3\n",
      "Date:                Wed, 23 Nov 2022   Prob (F-statistic):           4.69e-56\n",
      "Time:                        14:57:05   Log-Likelihood:                -5865.7\n",
      "No. Observations:                 550   AIC:                         1.174e+04\n",
      "Df Residuals:                     548   BIC:                         1.174e+04\n",
      "Df Model:                           1                                         \n",
      "Covariance Type:            nonrobust                                         \n",
      "==============================================================================\n",
      "                 coef    std err          t      P>|t|      [0.025      0.975]\n",
      "------------------------------------------------------------------------------\n",
      "const       1.806e+04   1127.741     16.016      0.000    1.58e+04    2.03e+04\n",
      "x1             0.1900      0.011     17.756      0.000       0.169       0.211\n",
      "==============================================================================\n",
      "Omnibus:                       89.159   Durbin-Watson:                   0.026\n",
      "Prob(Omnibus):                  0.000   Jarque-Bera (JB):              130.602\n",
      "Skew:                           1.115   Prob(JB):                     4.37e-29\n",
      "Kurtosis:                       3.854   Cond. No.                     2.68e+05\n",
      "==============================================================================\n",
      "\n",
      "Notes:\n",
      "[1] Standard Errors assume that the covariance matrix of the errors is correctly specified.\n",
      "[2] The condition number is large, 2.68e+05. This might indicate that there are\n",
      "strong multicollinearity or other numerical problems.\n"
     ]
    }
   ],
   "source": [
    "BTC_U = BTC_U['BTC_price'].tolist()   #先轉成list\n",
    "u_1 = u['u_price'].tolist()\n",
    "y = BTC_U\n",
    "x = sm.add_constant(u_1)    #用Unity software去預測比特幣\n",
    "result = sm.OLS(y,x,missing='drop').fit()\n",
    "print(result.summary())"
   ]
  },
  {
   "cell_type": "markdown",
   "id": "c60a1773",
   "metadata": {},
   "source": [
    "# Unity Software 與 ETH 比較"
   ]
  },
  {
   "cell_type": "code",
   "execution_count": 78,
   "id": "8ab0f52e",
   "metadata": {},
   "outputs": [
    {
     "data": {
      "text/html": [
       "<div>\n",
       "<style scoped>\n",
       "    .dataframe tbody tr th:only-of-type {\n",
       "        vertical-align: middle;\n",
       "    }\n",
       "\n",
       "    .dataframe tbody tr th {\n",
       "        vertical-align: top;\n",
       "    }\n",
       "\n",
       "    .dataframe thead th {\n",
       "        text-align: right;\n",
       "    }\n",
       "</style>\n",
       "<table border=\"1\" class=\"dataframe\">\n",
       "  <thead>\n",
       "    <tr style=\"text-align: right;\">\n",
       "      <th></th>\n",
       "      <th>ETH_price</th>\n",
       "    </tr>\n",
       "    <tr>\n",
       "      <th>Date</th>\n",
       "      <th></th>\n",
       "    </tr>\n",
       "  </thead>\n",
       "  <tbody>\n",
       "    <tr>\n",
       "      <th>2021-05-23</th>\n",
       "      <td>2109.579834</td>\n",
       "    </tr>\n",
       "    <tr>\n",
       "      <th>2021-05-24</th>\n",
       "      <td>2643.591064</td>\n",
       "    </tr>\n",
       "    <tr>\n",
       "      <th>2021-05-25</th>\n",
       "      <td>2706.628906</td>\n",
       "    </tr>\n",
       "    <tr>\n",
       "      <th>2021-05-26</th>\n",
       "      <td>2888.698730</td>\n",
       "    </tr>\n",
       "    <tr>\n",
       "      <th>2021-05-27</th>\n",
       "      <td>2736.488525</td>\n",
       "    </tr>\n",
       "    <tr>\n",
       "      <th>...</th>\n",
       "      <td>...</td>\n",
       "    </tr>\n",
       "    <tr>\n",
       "      <th>2022-11-19</th>\n",
       "      <td>1218.426758</td>\n",
       "    </tr>\n",
       "    <tr>\n",
       "      <th>2022-11-20</th>\n",
       "      <td>1142.466675</td>\n",
       "    </tr>\n",
       "    <tr>\n",
       "      <th>2022-11-21</th>\n",
       "      <td>1108.353027</td>\n",
       "    </tr>\n",
       "    <tr>\n",
       "      <th>2022-11-22</th>\n",
       "      <td>1135.173462</td>\n",
       "    </tr>\n",
       "    <tr>\n",
       "      <th>2022-11-23</th>\n",
       "      <td>1159.618896</td>\n",
       "    </tr>\n",
       "  </tbody>\n",
       "</table>\n",
       "<p>550 rows × 1 columns</p>\n",
       "</div>"
      ],
      "text/plain": [
       "              ETH_price\n",
       "Date                   \n",
       "2021-05-23  2109.579834\n",
       "2021-05-24  2643.591064\n",
       "2021-05-25  2706.628906\n",
       "2021-05-26  2888.698730\n",
       "2021-05-27  2736.488525\n",
       "...                 ...\n",
       "2022-11-19  1218.426758\n",
       "2022-11-20  1142.466675\n",
       "2022-11-21  1108.353027\n",
       "2022-11-22  1135.173462\n",
       "2022-11-23  1159.618896\n",
       "\n",
       "[550 rows x 1 columns]"
      ]
     },
     "execution_count": 78,
     "metadata": {},
     "output_type": "execute_result"
    }
   ],
   "source": [
    "ETH_U = ETH['2021-05-23':]\n",
    "ETH_U"
   ]
  },
  {
   "cell_type": "code",
   "execution_count": 89,
   "id": "140ff036",
   "metadata": {},
   "outputs": [
    {
     "data": {
      "image/png": "[encoded data removed]",
      "text/plain": [
       "<Figure size 432x288 with 1 Axes>"
      ]
     },
     "metadata": {
      "needs_background": "light"
     },
     "output_type": "display_data"
    }
   ],
   "source": [
    "plt.plot(ETH_U.index,ETH_U['ETH_price'],label = 'ETH',color='red')\n",
    "plt.plot(u.index,u['u_price'],label='Unity Software')\n",
    "plt.xlabel('Date', fontsize=\"10\") # 設定 x 軸標題內容及大小\n",
    "plt.ylabel(\"US\", fontsize=\"10\",rotation=True) # 設定 y 軸標題內容及大小\n",
    "\n",
    "plt.ylim(1000,150000)       \n",
    "\n",
    "plt.title('ETH and Unity Software comparison', fontsize=\"18\") # 設定圖表標題內容及大小\n",
    "plt.xticks(rotation=90)\n",
    "plt.legend()\n",
    "plt.show()  "
   ]
  },
  {
   "cell_type": "code",
   "execution_count": 90,
   "id": "35454f65",
   "metadata": {},
   "outputs": [
    {
     "name": "stdout",
     "output_type": "stream",
     "text": [
      "                            OLS Regression Results                            \n",
      "==============================================================================\n",
      "Dep. Variable:                      y   R-squared:                       0.284\n",
      "Model:                            OLS   Adj. R-squared:                  0.282\n",
      "Method:                 Least Squares   F-statistic:                     216.9\n",
      "Date:                Wed, 23 Nov 2022   Prob (F-statistic):           1.34e-41\n",
      "Time:                        15:08:01   Log-Likelihood:                -4485.3\n",
      "No. Observations:                 550   AIC:                             8975.\n",
      "Df Residuals:                     548   BIC:                             8983.\n",
      "Df Model:                           1                                         \n",
      "Covariance Type:            nonrobust                                         \n",
      "==============================================================================\n",
      "                 coef    std err          t      P>|t|      [0.025      0.975]\n",
      "------------------------------------------------------------------------------\n",
      "const       1323.0218     91.667     14.433      0.000    1142.961    1503.083\n",
      "x1             0.0128      0.001     14.726      0.000       0.011       0.015\n",
      "==============================================================================\n",
      "Omnibus:                       42.261   Durbin-Watson:                   0.026\n",
      "Prob(Omnibus):                  0.000   Jarque-Bera (JB):               50.728\n",
      "Skew:                           0.744   Prob(JB):                     9.65e-12\n",
      "Kurtosis:                       3.035   Cond. No.                     2.68e+05\n",
      "==============================================================================\n",
      "\n",
      "Notes:\n",
      "[1] Standard Errors assume that the covariance matrix of the errors is correctly specified.\n",
      "[2] The condition number is large, 2.68e+05. This might indicate that there are\n",
      "strong multicollinearity or other numerical problems.\n"
     ]
    }
   ],
   "source": [
    "ETH_1 = ETH_U['ETH_price'].tolist()   #先轉成list\n",
    "u_1 = u['u_price'].tolist()\n",
    "y = ETH_1\n",
    "x = sm.add_constant(u_1)    #用Unity Software去預測ETH\n",
    "result = sm.OLS(y,x,missing='drop').fit()\n",
    "print(result.summary())"
   ]
  },
  {
   "cell_type": "markdown",
   "id": "a5ca7c79",
   "metadata": {},
   "source": [
    "# Roblox 與 BTC 比較"
   ]
  },
  {
   "cell_type": "code",
   "execution_count": 10,
   "id": "8d97ae50",
   "metadata": {},
   "outputs": [
    {
     "data": {
      "text/html": [
       "<div>\n",
       "<style scoped>\n",
       "    .dataframe tbody tr th:only-of-type {\n",
       "        vertical-align: middle;\n",
       "    }\n",
       "\n",
       "    .dataframe tbody tr th {\n",
       "        vertical-align: top;\n",
       "    }\n",
       "\n",
       "    .dataframe thead th {\n",
       "        text-align: right;\n",
       "    }\n",
       "</style>\n",
       "<table border=\"1\" class=\"dataframe\">\n",
       "  <thead>\n",
       "    <tr style=\"text-align: right;\">\n",
       "      <th></th>\n",
       "      <th>roblox_price</th>\n",
       "    </tr>\n",
       "    <tr>\n",
       "      <th>Date</th>\n",
       "      <th></th>\n",
       "    </tr>\n",
       "  </thead>\n",
       "  <tbody>\n",
       "    <tr>\n",
       "      <th>2021-03-10</th>\n",
       "      <td>69500.000000</td>\n",
       "    </tr>\n",
       "    <tr>\n",
       "      <th>2021-03-11</th>\n",
       "      <td>73900.001526</td>\n",
       "    </tr>\n",
       "    <tr>\n",
       "      <th>2021-03-12</th>\n",
       "      <td>69699.996948</td>\n",
       "    </tr>\n",
       "    <tr>\n",
       "      <th>2021-03-15</th>\n",
       "      <td>72150.001526</td>\n",
       "    </tr>\n",
       "    <tr>\n",
       "      <th>2021-03-16</th>\n",
       "      <td>77000.000000</td>\n",
       "    </tr>\n",
       "    <tr>\n",
       "      <th>...</th>\n",
       "      <td>...</td>\n",
       "    </tr>\n",
       "    <tr>\n",
       "      <th>2022-11-17</th>\n",
       "      <td>32529.998779</td>\n",
       "    </tr>\n",
       "    <tr>\n",
       "      <th>2022-11-18</th>\n",
       "      <td>31719.999313</td>\n",
       "    </tr>\n",
       "    <tr>\n",
       "      <th>2022-11-21</th>\n",
       "      <td>30770.000458</td>\n",
       "    </tr>\n",
       "    <tr>\n",
       "      <th>2022-11-22</th>\n",
       "      <td>30840.000153</td>\n",
       "    </tr>\n",
       "    <tr>\n",
       "      <th>2022-11-23</th>\n",
       "      <td>32000.000000</td>\n",
       "    </tr>\n",
       "  </tbody>\n",
       "</table>\n",
       "<p>433 rows × 1 columns</p>\n",
       "</div>"
      ],
      "text/plain": [
       "            roblox_price\n",
       "Date                    \n",
       "2021-03-10  69500.000000\n",
       "2021-03-11  73900.001526\n",
       "2021-03-12  69699.996948\n",
       "2021-03-15  72150.001526\n",
       "2021-03-16  77000.000000\n",
       "...                  ...\n",
       "2022-11-17  32529.998779\n",
       "2022-11-18  31719.999313\n",
       "2022-11-21  30770.000458\n",
       "2022-11-22  30840.000153\n",
       "2022-11-23  32000.000000\n",
       "\n",
       "[433 rows x 1 columns]"
      ]
     },
     "execution_count": 10,
     "metadata": {},
     "output_type": "execute_result"
    }
   ],
   "source": [
    "roblox"
   ]
  },
  {
   "cell_type": "code",
   "execution_count": 19,
   "id": "67c2c138",
   "metadata": {},
   "outputs": [
    {
     "data": {
      "text/html": [
       "<div>\n",
       "<style scoped>\n",
       "    .dataframe tbody tr th:only-of-type {\n",
       "        vertical-align: middle;\n",
       "    }\n",
       "\n",
       "    .dataframe tbody tr th {\n",
       "        vertical-align: top;\n",
       "    }\n",
       "\n",
       "    .dataframe thead th {\n",
       "        text-align: right;\n",
       "    }\n",
       "</style>\n",
       "<table border=\"1\" class=\"dataframe\">\n",
       "  <thead>\n",
       "    <tr style=\"text-align: right;\">\n",
       "      <th></th>\n",
       "      <th>BTC_price</th>\n",
       "    </tr>\n",
       "    <tr>\n",
       "      <th>Date</th>\n",
       "      <th></th>\n",
       "    </tr>\n",
       "  </thead>\n",
       "  <tbody>\n",
       "    <tr>\n",
       "      <th>2021-09-18</th>\n",
       "      <td>48278.363281</td>\n",
       "    </tr>\n",
       "    <tr>\n",
       "      <th>2021-09-19</th>\n",
       "      <td>47260.218750</td>\n",
       "    </tr>\n",
       "    <tr>\n",
       "      <th>2021-09-20</th>\n",
       "      <td>42843.800781</td>\n",
       "    </tr>\n",
       "    <tr>\n",
       "      <th>2021-09-21</th>\n",
       "      <td>40693.675781</td>\n",
       "    </tr>\n",
       "    <tr>\n",
       "      <th>2021-09-22</th>\n",
       "      <td>43574.507812</td>\n",
       "    </tr>\n",
       "    <tr>\n",
       "      <th>...</th>\n",
       "      <td>...</td>\n",
       "    </tr>\n",
       "    <tr>\n",
       "      <th>2022-11-20</th>\n",
       "      <td>16291.832031</td>\n",
       "    </tr>\n",
       "    <tr>\n",
       "      <th>2022-11-21</th>\n",
       "      <td>15787.284180</td>\n",
       "    </tr>\n",
       "    <tr>\n",
       "      <th>2022-11-22</th>\n",
       "      <td>16189.769531</td>\n",
       "    </tr>\n",
       "    <tr>\n",
       "      <th>2022-11-23</th>\n",
       "      <td>16610.707031</td>\n",
       "    </tr>\n",
       "    <tr>\n",
       "      <th>2022-11-24</th>\n",
       "      <td>16605.873047</td>\n",
       "    </tr>\n",
       "  </tbody>\n",
       "</table>\n",
       "<p>433 rows × 1 columns</p>\n",
       "</div>"
      ],
      "text/plain": [
       "               BTC_price\n",
       "Date                    \n",
       "2021-09-18  48278.363281\n",
       "2021-09-19  47260.218750\n",
       "2021-09-20  42843.800781\n",
       "2021-09-21  40693.675781\n",
       "2021-09-22  43574.507812\n",
       "...                  ...\n",
       "2022-11-20  16291.832031\n",
       "2022-11-21  15787.284180\n",
       "2022-11-22  16189.769531\n",
       "2022-11-23  16610.707031\n",
       "2022-11-24  16605.873047\n",
       "\n",
       "[433 rows x 1 columns]"
      ]
     },
     "execution_count": 19,
     "metadata": {},
     "output_type": "execute_result"
    }
   ],
   "source": [
    "BTC_r = BTC['2021-09-18':]    #湊成跟Roblox相同的資料數目\n",
    "BTC_r"
   ]
  },
  {
   "cell_type": "code",
   "execution_count": 22,
   "id": "e7caaa36",
   "metadata": {},
   "outputs": [
    {
     "data": {
      "image/png": "[encoded data removed]",
      "text/plain": [
       "<Figure size 432x288 with 1 Axes>"
      ]
     },
     "metadata": {
      "needs_background": "light"
     },
     "output_type": "display_data"
    }
   ],
   "source": [
    "plt.plot(BTC_r.index,BTC_r['BTC_price'],label = 'Bitcoin',color='red')\n",
    "plt.plot(roblox.index,roblox['roblox_price'],label='Roblox')\n",
    "plt.xlabel('Date', fontsize=\"10\") # 設定 x 軸標題內容及大小\n",
    "plt.ylabel(\"US\", fontsize=\"10\",rotation=True) # 設定 y 軸標題內容及大小\n",
    "\n",
    "plt.ylim(9000,130000)       \n",
    "\n",
    "plt.title('Bitcoin and Roblox comparison', fontsize=\"18\") # 設定圖表標題內容及大小\n",
    "\n",
    "plt.xticks(rotation=90)\n",
    "plt.legend()\n",
    "plt.show()"
   ]
  },
  {
   "cell_type": "code",
   "execution_count": 23,
   "id": "e5554408",
   "metadata": {},
   "outputs": [
    {
     "name": "stdout",
     "output_type": "stream",
     "text": [
      "                            OLS Regression Results                            \n",
      "==============================================================================\n",
      "Dep. Variable:                      y   R-squared:                       0.586\n",
      "Model:                            OLS   Adj. R-squared:                  0.585\n",
      "Method:                 Least Squares   F-statistic:                     609.0\n",
      "Date:                Thu, 24 Nov 2022   Prob (F-statistic):           1.82e-84\n",
      "Time:                        17:41:08   Log-Likelihood:                -4563.2\n",
      "No. Observations:                 433   AIC:                             9130.\n",
      "Df Residuals:                     431   BIC:                             9139.\n",
      "Df Model:                           1                                         \n",
      "Covariance Type:            nonrobust                                         \n",
      "==============================================================================\n",
      "                 coef    std err          t      P>|t|      [0.025      0.975]\n",
      "------------------------------------------------------------------------------\n",
      "const       7975.2264   1199.171      6.651      0.000    5618.275    1.03e+04\n",
      "x1             0.4322      0.018     24.678      0.000       0.398       0.467\n",
      "==============================================================================\n",
      "Omnibus:                       38.070   Durbin-Watson:                   0.051\n",
      "Prob(Omnibus):                  0.000   Jarque-Bera (JB):               48.532\n",
      "Skew:                           0.690   Prob(JB):                     2.89e-11\n",
      "Kurtosis:                       3.887   Cond. No.                     1.87e+05\n",
      "==============================================================================\n",
      "\n",
      "Notes:\n",
      "[1] Standard Errors assume that the covariance matrix of the errors is correctly specified.\n",
      "[2] The condition number is large, 1.87e+05. This might indicate that there are\n",
      "strong multicollinearity or other numerical problems.\n"
     ]
    }
   ],
   "source": [
    "BTC_r = BTC_r['BTC_price'].tolist()   #先轉成list\n",
    "r_1 = roblox['roblox_price'].tolist()\n",
    "y = BTC_r\n",
    "x = sm.add_constant(r_1)    #用Roblox去預測比特幣\n",
    "result = sm.OLS(y,x,missing='drop').fit()\n",
    "print(result.summary())"
   ]
  },
  {
   "cell_type": "markdown",
   "id": "6d343c09",
   "metadata": {},
   "source": [
    "# Roblox 與 ETH 比較"
   ]
  },
  {
   "cell_type": "code",
   "execution_count": 25,
   "id": "2be727e2",
   "metadata": {},
   "outputs": [
    {
     "data": {
      "text/html": [
       "<div>\n",
       "<style scoped>\n",
       "    .dataframe tbody tr th:only-of-type {\n",
       "        vertical-align: middle;\n",
       "    }\n",
       "\n",
       "    .dataframe tbody tr th {\n",
       "        vertical-align: top;\n",
       "    }\n",
       "\n",
       "    .dataframe thead th {\n",
       "        text-align: right;\n",
       "    }\n",
       "</style>\n",
       "<table border=\"1\" class=\"dataframe\">\n",
       "  <thead>\n",
       "    <tr style=\"text-align: right;\">\n",
       "      <th></th>\n",
       "      <th>ETH_price</th>\n",
       "    </tr>\n",
       "    <tr>\n",
       "      <th>Date</th>\n",
       "      <th></th>\n",
       "    </tr>\n",
       "  </thead>\n",
       "  <tbody>\n",
       "    <tr>\n",
       "      <th>2021-09-18</th>\n",
       "      <td>3432.018311</td>\n",
       "    </tr>\n",
       "    <tr>\n",
       "      <th>2021-09-19</th>\n",
       "      <td>3329.447998</td>\n",
       "    </tr>\n",
       "    <tr>\n",
       "      <th>2021-09-20</th>\n",
       "      <td>2958.993408</td>\n",
       "    </tr>\n",
       "    <tr>\n",
       "      <th>2021-09-21</th>\n",
       "      <td>2764.431152</td>\n",
       "    </tr>\n",
       "    <tr>\n",
       "      <th>2021-09-22</th>\n",
       "      <td>3077.867920</td>\n",
       "    </tr>\n",
       "    <tr>\n",
       "      <th>...</th>\n",
       "      <td>...</td>\n",
       "    </tr>\n",
       "    <tr>\n",
       "      <th>2022-11-20</th>\n",
       "      <td>1142.466675</td>\n",
       "    </tr>\n",
       "    <tr>\n",
       "      <th>2022-11-21</th>\n",
       "      <td>1108.353027</td>\n",
       "    </tr>\n",
       "    <tr>\n",
       "      <th>2022-11-22</th>\n",
       "      <td>1135.173462</td>\n",
       "    </tr>\n",
       "    <tr>\n",
       "      <th>2022-11-23</th>\n",
       "      <td>1183.199585</td>\n",
       "    </tr>\n",
       "    <tr>\n",
       "      <th>2022-11-24</th>\n",
       "      <td>1200.914673</td>\n",
       "    </tr>\n",
       "  </tbody>\n",
       "</table>\n",
       "<p>433 rows × 1 columns</p>\n",
       "</div>"
      ],
      "text/plain": [
       "              ETH_price\n",
       "Date                   \n",
       "2021-09-18  3432.018311\n",
       "2021-09-19  3329.447998\n",
       "2021-09-20  2958.993408\n",
       "2021-09-21  2764.431152\n",
       "2021-09-22  3077.867920\n",
       "...                 ...\n",
       "2022-11-20  1142.466675\n",
       "2022-11-21  1108.353027\n",
       "2022-11-22  1135.173462\n",
       "2022-11-23  1183.199585\n",
       "2022-11-24  1200.914673\n",
       "\n",
       "[433 rows x 1 columns]"
      ]
     },
     "execution_count": 25,
     "metadata": {},
     "output_type": "execute_result"
    }
   ],
   "source": [
    "ETH_r = ETH['2021-09-18':]\n",
    "ETH_r"
   ]
  },
  {
   "cell_type": "code",
   "execution_count": 29,
   "id": "66a0dc72",
   "metadata": {},
   "outputs": [
    {
     "data": {
      "image/png": "[encoded data removed]",
      "text/plain": [
       "<Figure size 432x288 with 1 Axes>"
      ]
     },
     "metadata": {
      "needs_background": "light"
     },
     "output_type": "display_data"
    }
   ],
   "source": [
    "plt.plot(ETH_r.index,ETH_r['ETH_price'],label = 'ETH',color='red')\n",
    "plt.plot(roblox.index,roblox['roblox_price'],label='Roblox')\n",
    "plt.xlabel('Date', fontsize=\"10\") # 設定 x 軸標題內容及大小\n",
    "plt.ylabel(\"US\", fontsize=\"10\",rotation=True) # 設定 y 軸標題內容及大小\n",
    "\n",
    "plt.ylim(1000,120000)       \n",
    "\n",
    "plt.title('ETH and Roblox comparison', fontsize=\"18\") # 設定圖表標題內容及大小\n",
    "plt.xticks(rotation=90)\n",
    "plt.legend()\n",
    "plt.show()"
   ]
  },
  {
   "cell_type": "code",
   "execution_count": 30,
   "id": "b973dcd9",
   "metadata": {},
   "outputs": [
    {
     "name": "stdout",
     "output_type": "stream",
     "text": [
      "                            OLS Regression Results                            \n",
      "==============================================================================\n",
      "Dep. Variable:                      y   R-squared:                       0.597\n",
      "Model:                            OLS   Adj. R-squared:                  0.596\n",
      "Method:                 Least Squares   F-statistic:                     638.2\n",
      "Date:                Thu, 24 Nov 2022   Prob (F-statistic):           4.58e-87\n",
      "Time:                        17:46:47   Log-Likelihood:                -3442.1\n",
      "No. Observations:                 433   AIC:                             6888.\n",
      "Df Residuals:                     431   BIC:                             6896.\n",
      "Df Model:                           1                                         \n",
      "Covariance Type:            nonrobust                                         \n",
      "==============================================================================\n",
      "                 coef    std err          t      P>|t|      [0.025      0.975]\n",
      "------------------------------------------------------------------------------\n",
      "const        414.4297     90.047      4.602      0.000     237.445     591.415\n",
      "x1             0.0332      0.001     25.263      0.000       0.031       0.036\n",
      "==============================================================================\n",
      "Omnibus:                        7.000   Durbin-Watson:                   0.060\n",
      "Prob(Omnibus):                  0.030   Jarque-Bera (JB):                7.651\n",
      "Skew:                           0.215   Prob(JB):                       0.0218\n",
      "Kurtosis:                       3.489   Cond. No.                     1.87e+05\n",
      "==============================================================================\n",
      "\n",
      "Notes:\n",
      "[1] Standard Errors assume that the covariance matrix of the errors is correctly specified.\n",
      "[2] The condition number is large, 1.87e+05. This might indicate that there are\n",
      "strong multicollinearity or other numerical problems.\n"
     ]
    }
   ],
   "source": [
    "ETH_r = ETH_r['ETH_price'].tolist()   #先轉成list\n",
    "r_1 = roblox['roblox_price'].tolist()\n",
    "y = ETH_r\n",
    "x = sm.add_constant(r_1)    #用Roblox去預測ETH\n",
    "result = sm.OLS(y,x,missing='drop').fit()\n",
    "print(result.summary())"
   ]
  },
  {
   "cell_type": "code",
   "execution_count": null,
   "id": "fdb8610a",
   "metadata": {},
   "outputs": [],
   "source": []
  }
 ],
 "metadata": {
  "kernelspec": {
   "display_name": "Python 3",
   "language": "python",
   "name": "python3"
  },
  "language_info": {
   "codemirror_mode": {
    "name": "ipython",
    "version": 3
   },
   "file_extension": ".py",
   "mimetype": "text/x-python",
   "name": "python",
   "nbconvert_exporter": "python",
   "pygments_lexer": "ipython3",
   "version": "3.8.8"
  }
 },
 "nbformat": 4,
 "nbformat_minor": 5
}
