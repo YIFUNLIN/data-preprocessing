{
 "cells": [
  {
   "cell_type": "code",
   "execution_count": 40,
   "id": "6fafef77",
   "metadata": {},
   "outputs": [
    {
     "data": {
      "text/html": [
       "<div>\n",
       "<style scoped>\n",
       "    .dataframe tbody tr th:only-of-type {\n",
       "        vertical-align: middle;\n",
       "    }\n",
       "\n",
       "    .dataframe tbody tr th {\n",
       "        vertical-align: top;\n",
       "    }\n",
       "\n",
       "    .dataframe thead th {\n",
       "        text-align: right;\n",
       "    }\n",
       "</style>\n",
       "<table border=\"1\" class=\"dataframe\">\n",
       "  <thead>\n",
       "    <tr style=\"text-align: right;\">\n",
       "      <th></th>\n",
       "      <th>EVENT</th>\n",
       "      <th>EVENT_TYPE1</th>\n",
       "      <th>MONTH_SINCE_LAST_BUY</th>\n",
       "    </tr>\n",
       "  </thead>\n",
       "  <tbody>\n",
       "    <tr>\n",
       "      <th>0</th>\n",
       "      <td>2</td>\n",
       "      <td>63</td>\n",
       "      <td>-1</td>\n",
       "    </tr>\n",
       "    <tr>\n",
       "      <th>1</th>\n",
       "      <td>2</td>\n",
       "      <td>74</td>\n",
       "      <td>-1</td>\n",
       "    </tr>\n",
       "    <tr>\n",
       "      <th>2</th>\n",
       "      <td>5</td>\n",
       "      <td>6</td>\n",
       "      <td>-1</td>\n",
       "    </tr>\n",
       "    <tr>\n",
       "      <th>3</th>\n",
       "      <td>5</td>\n",
       "      <td>23</td>\n",
       "      <td>-1</td>\n",
       "    </tr>\n",
       "    <tr>\n",
       "      <th>4</th>\n",
       "      <td>5</td>\n",
       "      <td>16</td>\n",
       "      <td>-1</td>\n",
       "    </tr>\n",
       "    <tr>\n",
       "      <th>...</th>\n",
       "      <td>...</td>\n",
       "      <td>...</td>\n",
       "      <td>...</td>\n",
       "    </tr>\n",
       "    <tr>\n",
       "      <th>272497</th>\n",
       "      <td>2</td>\n",
       "      <td>41</td>\n",
       "      <td>3</td>\n",
       "    </tr>\n",
       "    <tr>\n",
       "      <th>272498</th>\n",
       "      <td>2</td>\n",
       "      <td>65</td>\n",
       "      <td>3</td>\n",
       "    </tr>\n",
       "    <tr>\n",
       "      <th>272499</th>\n",
       "      <td>2</td>\n",
       "      <td>43</td>\n",
       "      <td>-1</td>\n",
       "    </tr>\n",
       "    <tr>\n",
       "      <th>272500</th>\n",
       "      <td>2</td>\n",
       "      <td>65</td>\n",
       "      <td>-1</td>\n",
       "    </tr>\n",
       "    <tr>\n",
       "      <th>272501</th>\n",
       "      <td>2</td>\n",
       "      <td>35</td>\n",
       "      <td>-1</td>\n",
       "    </tr>\n",
       "  </tbody>\n",
       "</table>\n",
       "<p>272502 rows × 3 columns</p>\n",
       "</div>"
      ],
      "text/plain": [
       "        EVENT  EVENT_TYPE1  MONTH_SINCE_LAST_BUY\n",
       "0           2           63                    -1\n",
       "1           2           74                    -1\n",
       "2           5            6                    -1\n",
       "3           5           23                    -1\n",
       "4           5           16                    -1\n",
       "...       ...          ...                   ...\n",
       "272497      2           41                     3\n",
       "272498      2           65                     3\n",
       "272499      2           43                    -1\n",
       "272500      2           65                    -1\n",
       "272501      2           35                    -1\n",
       "\n",
       "[272502 rows x 3 columns]"
      ]
     },
     "execution_count": 40,
     "metadata": {},
     "output_type": "execute_result"
    }
   ],
   "source": [
    "import numpy as np\n",
    "import pandas as pd\n",
    "import seaborn as sns\n",
    "from sklearn.model_selection import train_test_split\n",
    "from sklearn.ensemble import GradientBoostingRegressor  \n",
    "from sklearn.metrics import mean_squared_error\n",
    "import matplotlib.pyplot as plt\n",
    "df = pd.read_csv('C:\\A1\\journey_df_train.csv')        \n",
    "df = df.drop(labels=['CUST_RK'],axis = 1)             #進行資料整理，先將不重要的欄位先刪掉\n",
    "df = df.drop(labels=['EVENT_DT'],axis = 1)\n",
    "df = df.drop(labels=['Unnamed: 0'],axis = 1)\n",
    "\n",
    "df"
   ]
  },
  {
   "cell_type": "code",
   "execution_count": 41,
   "id": "803ca5b9",
   "metadata": {},
   "outputs": [],
   "source": [
    "y = df.drop(labels = ['EVENT','EVENT_TYPE1'],axis=1)    #利用刪除的方式去留下真正想要的欄位\n",
    "X = df.drop(labels=['MONTH_SINCE_LAST_BUY'],axis=1)\n",
    "X_train, X_test, y_train, y_test = train_test_split(X,y,test_size=0.3, random_state=42)   #將資料拆分成訓練跟測試集"
   ]
  },
  {
   "cell_type": "code",
   "execution_count": 42,
   "id": "048da16b",
   "metadata": {},
   "outputs": [
    {
     "name": "stdout",
     "output_type": "stream",
     "text": [
      "        EVENT  EVENT_TYPE1\n",
      "48074       3           70\n",
      "36854       2           37\n",
      "172482      6            1\n",
      "139713      5            6\n",
      "45930       3           70\n",
      "...       ...          ...\n",
      "119879      3           70\n",
      "259178      4           21\n",
      "131932      2           74\n",
      "146867      6            1\n",
      "121958      5            6\n",
      "\n",
      "[190751 rows x 2 columns]\n"
     ]
    }
   ],
   "source": [
    "print(X_train)"
   ]
  },
  {
   "cell_type": "code",
   "execution_count": 16,
   "id": "cee0de1f",
   "metadata": {},
   "outputs": [
    {
     "name": "stdout",
     "output_type": "stream",
     "text": [
      "        MONTH_SINCE_LAST_BUY\n",
      "48074                     -1\n",
      "36854                     -1\n",
      "172482                    -1\n",
      "139713                    -1\n",
      "45930                     -1\n",
      "...                      ...\n",
      "119879                    -1\n",
      "259178                     3\n",
      "131932                    -1\n",
      "146867                    -1\n",
      "121958                    -1\n",
      "\n",
      "[190751 rows x 1 columns]\n"
     ]
    }
   ],
   "source": [
    "print(y_train)"
   ]
  },
  {
   "cell_type": "code",
   "execution_count": 45,
   "id": "cf98c762",
   "metadata": {},
   "outputs": [
    {
     "name": "stderr",
     "output_type": "stream",
     "text": [
      "C:\\Users\\linnn\\anaconda3\\lib\\site-packages\\sklearn\\utils\\validation.py:63: DataConversionWarning: A column-vector y was passed when a 1d array was expected. Please change the shape of y to (n_samples, ), for example using ravel().\n",
      "  return f(*args, **kwargs)\n"
     ]
    }
   ],
   "source": [
    "from xgboost import XGBClassifier\n",
    "xgboostmodel = XGBClassifier(n_estimators = 100, learning_rate=0.1)  \n",
    "xgboostmodel.fit(X_train,y_train)\n",
    "predicted = xgboostmodel.predict(X_train)"
   ]
  },
  {
   "cell_type": "code",
   "execution_count": 46,
   "id": "7cadd9c5",
   "metadata": {},
   "outputs": [
    {
     "name": "stdout",
     "output_type": "stream",
     "text": [
      "訓練集: 0.8715445790585633\n",
      "訓練集: 0.873665153943071\n"
     ]
    }
   ],
   "source": [
    "#預測成功的比例\n",
    "print('訓練集:',xgboostmodel.score(X_train,y_train))\n",
    "print('訓練集:',xgboostmodel.score(X_test,y_test))"
   ]
  },
  {
   "cell_type": "code",
   "execution_count": 22,
   "id": "e0faebb9",
   "metadata": {},
   "outputs": [
    {
     "name": "stdout",
     "output_type": "stream",
     "text": [
      "特徵重要程度: [0.7891211  0.21087888]\n"
     ]
    },
    {
     "data": {
      "image/png": "[encoded data removed]",
      "text/plain": [
       "<Figure size 432x288 with 1 Axes>"
      ]
     },
     "metadata": {
      "needs_background": "light"
     },
     "output_type": "display_data"
    }
   ],
   "source": [
    "from xgboost import plot_importance\n",
    "from xgboost import plot_tree\n",
    "plot_importance(xgboostmodel)\n",
    "print('特徵重要程度:',xgboostmodel.feature_importances_)"
   ]
  },
  {
   "cell_type": "code",
   "execution_count": 23,
   "id": "ba35838c",
   "metadata": {},
   "outputs": [],
   "source": [
    "#真實資料\n",
    "df_train = pd.DataFrame(X_train)    #建立訓練集的DataFrame\n",
    "df_train['EVENT_TYPE1'] = y_train\n",
    "\n",
    "df_test = pd.DataFrame(X_test)      #建立測試集的DataFrame\n",
    "df_test['EVENT_TYPE1'] = y_test"
   ]
  },
  {
   "cell_type": "code",
   "execution_count": 27,
   "id": "1b4cefaf",
   "metadata": {},
   "outputs": [
    {
     "data": {
      "text/plain": [
       "<seaborn.axisgrid.FacetGrid at 0x25d9a54b1c0>"
      ]
     },
     "execution_count": 27,
     "metadata": {},
     "output_type": "execute_result"
    },
    {
     "data": {
      "image/png": "[encoded data removed]",
      "text/plain": [
       "<Figure size 436.5x360 with 1 Axes>"
      ]
     },
     "metadata": {
      "needs_background": "light"
     },
     "output_type": "display_data"
    }
   ],
   "source": [
    "#真實的資料\n",
    "sns.lmplot('EVENT','EVENT_TYPE1',hue = 'EVENT_TYPE1' ,data = df_train, fit_reg = False)"
   ]
  },
  {
   "cell_type": "code",
   "execution_count": 28,
   "id": "a51da27d",
   "metadata": {},
   "outputs": [
    {
     "name": "stderr",
     "output_type": "stream",
     "text": [
      "C:\\Users\\linnn\\anaconda3\\lib\\site-packages\\seaborn\\_decorators.py:36: FutureWarning: Pass the following variables as keyword args: x, y. From version 0.12, the only valid positional argument will be `data`, and passing other arguments without an explicit keyword will result in an error or misinterpretation.\n",
      "  warnings.warn(\n"
     ]
    },
    {
     "data": {
      "image/png": "[encoded data removed]",
      "text/plain": [
       "<Figure size 406x360 with 1 Axes>"
      ]
     },
     "metadata": {
      "needs_background": "light"
     },
     "output_type": "display_data"
    }
   ],
   "source": [
    "#預測資料\n",
    "df_train['Predict'] = predicted\n",
    "sns.lmplot('EVENT','EVENT_TYPE1',hue = 'Predict' ,data = df_train, fit_reg = False)\n",
    "plt.show()"
   ]
  },
  {
   "cell_type": "code",
   "execution_count": null,
   "id": "1e4ea48c",
   "metadata": {},
   "outputs": [],
   "source": []
  }
 ],
 "metadata": {
  "kernelspec": {
   "display_name": "Python 3",
   "language": "python",
   "name": "python3"
  },
  "language_info": {
   "codemirror_mode": {
    "name": "ipython",
    "version": 3
   },
   "file_extension": ".py",
   "mimetype": "text/x-python",
   "name": "python",
   "nbconvert_exporter": "python",
   "pygments_lexer": "ipython3",
   "version": "3.8.8"
  }
 },
 "nbformat": 4,
 "nbformat_minor": 5
}
