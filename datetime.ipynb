{
  "nbformat": 4,
  "nbformat_minor": 0,
  "metadata": {
    "colab": {
      "provenance": []
    },
    "kernelspec": {
      "name": "python3",
      "display_name": "Python 3"
    },
    "language_info": {
      "name": "python"
    }
  },
  "cells": [
    {
      "cell_type": "code",
      "execution_count": null,
      "metadata": {
        "id": "_TkdkEHmx2n5"
      },
      "outputs": [],
      "source": [
        "import datetime"
      ]
    },
    {
      "cell_type": "code",
      "source": [
        "d = datetime.date(2020,1,1)   # 2020-01-01"
      ],
      "metadata": {
        "id": "-6F8wTzAx-2R"
      },
      "execution_count": null,
      "outputs": []
    },
    {
      "cell_type": "code",
      "source": [
        "d"
      ],
      "metadata": {
        "colab": {
          "base_uri": "https://localhost:8080/"
        },
        "id": "h1dA031ayBE9",
        "outputId": "e46805e6-3502-4ac0-8757-c1bcbd203089"
      },
      "execution_count": null,
      "outputs": [
        {
          "output_type": "execute_result",
          "data": {
            "text/plain": [
              "datetime.date(2020, 1, 1)"
            ]
          },
          "metadata": {},
          "execution_count": 66
        }
      ]
    },
    {
      "cell_type": "code",
      "source": [
        "today = datetime.date.today()\n",
        "print(today)"
      ],
      "metadata": {
        "colab": {
          "base_uri": "https://localhost:8080/"
        },
        "id": "uF83D4OdySAB",
        "outputId": "6c2b3f42-239f-4375-896a-3d7152e900d1"
      },
      "execution_count": null,
      "outputs": [
        {
          "output_type": "stream",
          "name": "stdout",
          "text": [
            "2023-05-26\n"
          ]
        }
      ]
    },
    {
      "cell_type": "markdown",
      "source": [
        "datetime.date 可以處理日期相關的操作，本身包含三個屬性：year、month 和 day，分別用逗號區隔，下方的程式會印出指定的日期。"
      ],
      "metadata": {
        "id": "sZ4ExGQjy4cX"
      }
    },
    {
      "cell_type": "code",
      "source": [
        "print(today.year)\n",
        "print(today.month)\n",
        "print(today.day)\n",
        "print(today.weekday())\n",
        "print(today.isoweekday())\n",
        "print(today.strftime('%Y.%m.%d'))\n"
      ],
      "metadata": {
        "colab": {
          "base_uri": "https://localhost:8080/"
        },
        "id": "ZqPP1N_DyY98",
        "outputId": "eca2c9e4-2dcd-4703-dcca-ff140f0d4514"
      },
      "execution_count": null,
      "outputs": [
        {
          "output_type": "stream",
          "name": "stdout",
          "text": [
            "2023\n",
            "5\n",
            "26\n",
            "4\n",
            "5\n",
            "2023.05.26\n"
          ]
        }
      ]
    },
    {
      "cell_type": "code",
      "source": [
        "d1 = datetime.date(2020, 6, 24)\n",
        "d2 = datetime.date(2021, 11, 24)\n",
        "print(abs(d1-d2).days)"
      ],
      "metadata": {
        "colab": {
          "base_uri": "https://localhost:8080/"
        },
        "id": "de_FhR87ykjK",
        "outputId": "cfc52f14-b110-4347-8810-2555780a7770"
      },
      "execution_count": null,
      "outputs": [
        {
          "output_type": "stream",
          "name": "stdout",
          "text": [
            "518\n"
          ]
        }
      ]
    },
    {
      "cell_type": "markdown",
      "source": [
        "datetime.time 可以處理時間相關的操作，本身包含下列幾個屬性：hour、minute、second、microsecond 和 tzinfo，分別用逗號區隔，下方的程式會印出指定的時間。"
      ],
      "metadata": {
        "id": "nJEblEa6y0dn"
      }
    },
    {
      "cell_type": "code",
      "source": [
        "thisTime = datetime.time(12,0,0,1)\n",
        "print(thisTime)   "
      ],
      "metadata": {
        "colab": {
          "base_uri": "https://localhost:8080/"
        },
        "id": "uE9h-bYSyoQO",
        "outputId": "dc4fb046-9fe1-4417-f9b8-2cf666fd1e88"
      },
      "execution_count": null,
      "outputs": [
        {
          "output_type": "stream",
          "name": "stdout",
          "text": [
            "12:00:00.000001\n"
          ]
        }
      ]
    },
    {
      "cell_type": "code",
      "source": [
        "thisTime = datetime.time(14,0,0,1,tzinfo=datetime.timezone(datetime.timedelta(hours=8)))  #跨時區\n",
        "print(thisTime)  "
      ],
      "metadata": {
        "colab": {
          "base_uri": "https://localhost:8080/"
        },
        "id": "v4SPCKHPyqoi",
        "outputId": "d38224f7-5833-410c-af87-c1bbf879944b"
      },
      "execution_count": null,
      "outputs": [
        {
          "output_type": "stream",
          "name": "stdout",
          "text": [
            "14:00:00.000001+08:00\n"
          ]
        }
      ]
    },
    {
      "cell_type": "code",
      "source": [
        "print( thisTime.strftime('%H:%M:%S'))"
      ],
      "metadata": {
        "colab": {
          "base_uri": "https://localhost:8080/"
        },
        "id": "XnPLNwgtytgy",
        "outputId": "43ea729c-ce94-403b-aff7-0ca1a4a30875"
      },
      "execution_count": null,
      "outputs": [
        {
          "output_type": "stream",
          "name": "stdout",
          "text": [
            "14:00:00\n"
          ]
        }
      ]
    },
    {
      "cell_type": "code",
      "source": [
        "thisTime = datetime.datetime(2020,1,1,20,20,20,20)\n",
        "print(thisTime)  "
      ],
      "metadata": {
        "colab": {
          "base_uri": "https://localhost:8080/"
        },
        "id": "OT6LAgl7yyjH",
        "outputId": "ab663fd1-399f-4db8-c673-d1c39e3ba9a7"
      },
      "execution_count": null,
      "outputs": [
        {
          "output_type": "stream",
          "name": "stdout",
          "text": [
            "2020-01-01 20:20:20.000020\n"
          ]
        }
      ]
    },
    {
      "cell_type": "code",
      "source": [
        "now = datetime.datetime.now(tz=datetime.timezone(datetime.timedelta(hours=8)))\n",
        "print(now) \n",
        "print(now.date())\n",
        "print(now.time())\n",
        "print(now.tzname())\n",
        "print(now.weekday())\n",
        "print(now.isoweekday())\n",
        "print(now.strftime('%Y/%m/%d %H:%M:%S')) "
      ],
      "metadata": {
        "colab": {
          "base_uri": "https://localhost:8080/"
        },
        "id": "tPCSpATOzA0R",
        "outputId": "1e828003-f434-4e51-c444-79f73c2f7515"
      },
      "execution_count": null,
      "outputs": [
        {
          "output_type": "stream",
          "name": "stdout",
          "text": [
            "2023-05-26 12:06:44.897838+08:00\n",
            "2023-05-26\n",
            "12:06:44.897838\n",
            "UTC+08:00\n",
            "4\n",
            "5\n",
            "2023/05/26 12:06:44\n"
          ]
        }
      ]
    },
    {
      "cell_type": "markdown",
      "source": [
        "如果要進行日期或時間的計算，可以透過 datetime.timedelta 增加或減少日期或時間，本身包含 days、seconds、microseconds、milliseconds、minutes、hours、weeks 的屬性，屬性的預設值都是 0。"
      ],
      "metadata": {
        "id": "vH8ldtU5zW3Y"
      }
    },
    {
      "cell_type": "code",
      "source": [
        "today = datetime.datetime.now()\n",
        "yesterday = today - datetime.timedelta(days=1)  # 今天-一天\n",
        "tomorrow = today + datetime.timedelta(days=1)\n",
        "nextweek = today + datetime.timedelta(weeks=1)\n",
        "print(today)\n",
        "print(yesterday)\n",
        "print(tomorrow)\n",
        "print(nextweek) "
      ],
      "metadata": {
        "colab": {
          "base_uri": "https://localhost:8080/"
        },
        "id": "kkVshV_hzE9P",
        "outputId": "c86b5533-10f5-4272-884e-3a581014e736"
      },
      "execution_count": null,
      "outputs": [
        {
          "output_type": "stream",
          "name": "stdout",
          "text": [
            "2023-05-26 04:06:44.909509\n",
            "2023-05-25 04:06:44.909509\n",
            "2023-05-27 04:06:44.909509\n",
            "2023-06-02 04:06:44.909509\n"
          ]
        }
      ]
    },
    {
      "cell_type": "markdown",
      "source": [
        "# pandas 日期"
      ],
      "metadata": {
        "id": "7B3JERQH0NT6"
      }
    },
    {
      "cell_type": "code",
      "source": [
        "import pandas as pd"
      ],
      "metadata": {
        "id": "IDFcubehzbVx"
      },
      "execution_count": null,
      "outputs": []
    },
    {
      "cell_type": "code",
      "source": [
        "%cd /content/drive/MyDrive"
      ],
      "metadata": {
        "colab": {
          "base_uri": "https://localhost:8080/"
        },
        "id": "dptKwf6009qk",
        "outputId": "af48522d-86be-4c80-ba03-a3a21be6ee4d"
      },
      "execution_count": null,
      "outputs": [
        {
          "output_type": "stream",
          "name": "stdout",
          "text": [
            "/content/drive/MyDrive\n"
          ]
        }
      ]
    },
    {
      "cell_type": "code",
      "source": [
        "df1 = pd.read_excel('/content/drive/MyDrive/0526時間序列/部門1.xlsx')"
      ],
      "metadata": {
        "id": "HdRsBCpa0yFt"
      },
      "execution_count": null,
      "outputs": []
    },
    {
      "cell_type": "code",
      "source": [
        "from google.colab import drive\n",
        "drive.mount('/content/drive')"
      ],
      "metadata": {
        "colab": {
          "base_uri": "https://localhost:8080/"
        },
        "id": "DR-7gt8qLeRJ",
        "outputId": "66366dbc-3687-4573-a5e0-d7c792bc65ef"
      },
      "execution_count": null,
      "outputs": [
        {
          "output_type": "stream",
          "name": "stdout",
          "text": [
            "Drive already mounted at /content/drive; to attempt to forcibly remount, call drive.mount(\"/content/drive\", force_remount=True).\n"
          ]
        }
      ]
    },
    {
      "cell_type": "code",
      "source": [
        "df1"
      ],
      "metadata": {
        "colab": {
          "base_uri": "https://localhost:8080/",
          "height": 143
        },
        "id": "4pyQkQSb1BKv",
        "outputId": "7df0bbc5-296e-44d9-f0dc-98877c0241e4"
      },
      "execution_count": null,
      "outputs": [
        {
          "output_type": "execute_result",
          "data": {
            "text/plain": [
              "  員工代號  姓名  部門代號        到職日期  年齡\n",
              "0  A01  張三  D001  2003-07-02  50\n",
              "1  A02  李四  D001  2004-01-01  45\n",
              "2  A03  王五  D001  2004-04-30  42"
            ],
            "text/html": [
              "\n",
              "  <div id=\"df-b14c41ea-0db1-4635-96ff-ad64dc7cd37a\">\n",
              "    <div class=\"colab-df-container\">\n",
              "      <div>\n",
              "<style scoped>\n",
              "    .dataframe tbody tr th:only-of-type {\n",
              "        vertical-align: middle;\n",
              "    }\n",
              "\n",
              "    .dataframe tbody tr th {\n",
              "        vertical-align: top;\n",
              "    }\n",
              "\n",
              "    .dataframe thead th {\n",
              "        text-align: right;\n",
              "    }\n",
              "</style>\n",
              "<table border=\"1\" class=\"dataframe\">\n",
              "  <thead>\n",
              "    <tr style=\"text-align: right;\">\n",
              "      <th></th>\n",
              "      <th>員工代號</th>\n",
              "      <th>姓名</th>\n",
              "      <th>部門代號</th>\n",
              "      <th>到職日期</th>\n",
              "      <th>年齡</th>\n",
              "    </tr>\n",
              "  </thead>\n",
              "  <tbody>\n",
              "    <tr>\n",
              "      <th>0</th>\n",
              "      <td>A01</td>\n",
              "      <td>張三</td>\n",
              "      <td>D001</td>\n",
              "      <td>2003-07-02</td>\n",
              "      <td>50</td>\n",
              "    </tr>\n",
              "    <tr>\n",
              "      <th>1</th>\n",
              "      <td>A02</td>\n",
              "      <td>李四</td>\n",
              "      <td>D001</td>\n",
              "      <td>2004-01-01</td>\n",
              "      <td>45</td>\n",
              "    </tr>\n",
              "    <tr>\n",
              "      <th>2</th>\n",
              "      <td>A03</td>\n",
              "      <td>王五</td>\n",
              "      <td>D001</td>\n",
              "      <td>2004-04-30</td>\n",
              "      <td>42</td>\n",
              "    </tr>\n",
              "  </tbody>\n",
              "</table>\n",
              "</div>\n",
              "      <button class=\"colab-df-convert\" onclick=\"convertToInteractive('df-b14c41ea-0db1-4635-96ff-ad64dc7cd37a')\"\n",
              "              title=\"Convert this dataframe to an interactive table.\"\n",
              "              style=\"display:none;\">\n",
              "        \n",
              "  <svg xmlns=\"http://www.w3.org/2000/svg\" height=\"24px\"viewBox=\"0 0 24 24\"\n",
              "       width=\"24px\">\n",
              "    <path d=\"M0 0h24v24H0V0z\" fill=\"none\"/>\n",
              "    <path d=\"M18.56 5.44l.94 2.06.94-2.06 2.06-.94-2.06-.94-.94-2.06-.94 2.06-2.06.94zm-11 1L8.5 8.5l.94-2.06 2.06-.94-2.06-.94L8.5 2.5l-.94 2.06-2.06.94zm10 10l.94 2.06.94-2.06 2.06-.94-2.06-.94-.94-2.06-.94 2.06-2.06.94z\"/><path d=\"M17.41 7.96l-1.37-1.37c-.4-.4-.92-.59-1.43-.59-.52 0-1.04.2-1.43.59L10.3 9.45l-7.72 7.72c-.78.78-.78 2.05 0 2.83L4 21.41c.39.39.9.59 1.41.59.51 0 1.02-.2 1.41-.59l7.78-7.78 2.81-2.81c.8-.78.8-2.07 0-2.86zM5.41 20L4 18.59l7.72-7.72 1.47 1.35L5.41 20z\"/>\n",
              "  </svg>\n",
              "      </button>\n",
              "      \n",
              "  <style>\n",
              "    .colab-df-container {\n",
              "      display:flex;\n",
              "      flex-wrap:wrap;\n",
              "      gap: 12px;\n",
              "    }\n",
              "\n",
              "    .colab-df-convert {\n",
              "      background-color: #E8F0FE;\n",
              "      border: none;\n",
              "      border-radius: 50%;\n",
              "      cursor: pointer;\n",
              "      display: none;\n",
              "      fill: #1967D2;\n",
              "      height: 32px;\n",
              "      padding: 0 0 0 0;\n",
              "      width: 32px;\n",
              "    }\n",
              "\n",
              "    .colab-df-convert:hover {\n",
              "      background-color: #E2EBFA;\n",
              "      box-shadow: 0px 1px 2px rgba(60, 64, 67, 0.3), 0px 1px 3px 1px rgba(60, 64, 67, 0.15);\n",
              "      fill: #174EA6;\n",
              "    }\n",
              "\n",
              "    [theme=dark] .colab-df-convert {\n",
              "      background-color: #3B4455;\n",
              "      fill: #D2E3FC;\n",
              "    }\n",
              "\n",
              "    [theme=dark] .colab-df-convert:hover {\n",
              "      background-color: #434B5C;\n",
              "      box-shadow: 0px 1px 3px 1px rgba(0, 0, 0, 0.15);\n",
              "      filter: drop-shadow(0px 1px 2px rgba(0, 0, 0, 0.3));\n",
              "      fill: #FFFFFF;\n",
              "    }\n",
              "  </style>\n",
              "\n",
              "      <script>\n",
              "        const buttonEl =\n",
              "          document.querySelector('#df-b14c41ea-0db1-4635-96ff-ad64dc7cd37a button.colab-df-convert');\n",
              "        buttonEl.style.display =\n",
              "          google.colab.kernel.accessAllowed ? 'block' : 'none';\n",
              "\n",
              "        async function convertToInteractive(key) {\n",
              "          const element = document.querySelector('#df-b14c41ea-0db1-4635-96ff-ad64dc7cd37a');\n",
              "          const dataTable =\n",
              "            await google.colab.kernel.invokeFunction('convertToInteractive',\n",
              "                                                     [key], {});\n",
              "          if (!dataTable) return;\n",
              "\n",
              "          const docLinkHtml = 'Like what you see? Visit the ' +\n",
              "            '<a target=\"_blank\" href=https://colab.research.google.com/notebooks/data_table.ipynb>data table notebook</a>'\n",
              "            + ' to learn more about interactive tables.';\n",
              "          element.innerHTML = '';\n",
              "          dataTable['output_type'] = 'display_data';\n",
              "          await google.colab.output.renderOutput(dataTable, element);\n",
              "          const docLink = document.createElement('div');\n",
              "          docLink.innerHTML = docLinkHtml;\n",
              "          element.appendChild(docLink);\n",
              "        }\n",
              "      </script>\n",
              "    </div>\n",
              "  </div>\n",
              "  "
            ]
          },
          "metadata": {},
          "execution_count": 80
        }
      ]
    },
    {
      "cell_type": "code",
      "source": [
        "df1.info()  #看欄位型態 object 代表是字串"
      ],
      "metadata": {
        "colab": {
          "base_uri": "https://localhost:8080/"
        },
        "id": "zpZGHDGq1CIH",
        "outputId": "268d6c8d-1ff8-439b-9337-ebb652b9fc59"
      },
      "execution_count": null,
      "outputs": [
        {
          "output_type": "stream",
          "name": "stdout",
          "text": [
            "<class 'pandas.core.frame.DataFrame'>\n",
            "RangeIndex: 3 entries, 0 to 2\n",
            "Data columns (total 5 columns):\n",
            " #   Column  Non-Null Count  Dtype \n",
            "---  ------  --------------  ----- \n",
            " 0   員工代號    3 non-null      object\n",
            " 1   姓名      3 non-null      object\n",
            " 2   部門代號    3 non-null      object\n",
            " 3   到職日期    3 non-null      object\n",
            " 4   年齡      3 non-null      int64 \n",
            "dtypes: int64(1), object(4)\n",
            "memory usage: 248.0+ bytes\n"
          ]
        }
      ]
    },
    {
      "cell_type": "code",
      "source": [
        "df1['到職日期2'] = df1['到職日期'].apply(lambda x:x.replace('-', '/'))  #先將'-'取代成'/'放到[到職日期2]位置"
      ],
      "metadata": {
        "id": "ZzmjrTh_Nv5-"
      },
      "execution_count": null,
      "outputs": []
    },
    {
      "cell_type": "code",
      "source": [
        "df1['到職日期'] = pd.to_datetime(df1['到職日期'])   #再將欄位型態轉成datetime日期"
      ],
      "metadata": {
        "id": "HR1N-fKH1DjB"
      },
      "execution_count": null,
      "outputs": []
    },
    {
      "cell_type": "code",
      "source": [
        "df1.info()     #發現[到職日期2]仍是字串型態"
      ],
      "metadata": {
        "colab": {
          "base_uri": "https://localhost:8080/"
        },
        "id": "A9V0_WN11nBX",
        "outputId": "c41fbb5d-caa9-4fd8-e974-690a4a7e90f3"
      },
      "execution_count": null,
      "outputs": [
        {
          "output_type": "stream",
          "name": "stdout",
          "text": [
            "<class 'pandas.core.frame.DataFrame'>\n",
            "RangeIndex: 3 entries, 0 to 2\n",
            "Data columns (total 6 columns):\n",
            " #   Column  Non-Null Count  Dtype         \n",
            "---  ------  --------------  -----         \n",
            " 0   員工代號    3 non-null      object        \n",
            " 1   姓名      3 non-null      object        \n",
            " 2   部門代號    3 non-null      object        \n",
            " 3   到職日期    3 non-null      datetime64[ns]\n",
            " 4   年齡      3 non-null      int64         \n",
            " 5   到職日期2   3 non-null      object        \n",
            "dtypes: datetime64[ns](1), int64(1), object(4)\n",
            "memory usage: 272.0+ bytes\n"
          ]
        }
      ]
    },
    {
      "cell_type": "code",
      "source": [
        "df1.head()"
      ],
      "metadata": {
        "colab": {
          "base_uri": "https://localhost:8080/",
          "height": 143
        },
        "id": "0YrLr1s61UAT",
        "outputId": "1884ee4a-6e3d-4027-afe7-6fbc6d864fdb"
      },
      "execution_count": null,
      "outputs": [
        {
          "output_type": "execute_result",
          "data": {
            "text/plain": [
              "  員工代號  姓名  部門代號       到職日期  年齡       到職日期2\n",
              "0  A01  張三  D001 2003-07-02  50  2003/07/02\n",
              "1  A02  李四  D001 2004-01-01  45  2004/01/01\n",
              "2  A03  王五  D001 2004-04-30  42  2004/04/30"
            ],
            "text/html": [
              "\n",
              "  <div id=\"df-b2775118-7296-446e-bc92-a5fb62885b4b\">\n",
              "    <div class=\"colab-df-container\">\n",
              "      <div>\n",
              "<style scoped>\n",
              "    .dataframe tbody tr th:only-of-type {\n",
              "        vertical-align: middle;\n",
              "    }\n",
              "\n",
              "    .dataframe tbody tr th {\n",
              "        vertical-align: top;\n",
              "    }\n",
              "\n",
              "    .dataframe thead th {\n",
              "        text-align: right;\n",
              "    }\n",
              "</style>\n",
              "<table border=\"1\" class=\"dataframe\">\n",
              "  <thead>\n",
              "    <tr style=\"text-align: right;\">\n",
              "      <th></th>\n",
              "      <th>員工代號</th>\n",
              "      <th>姓名</th>\n",
              "      <th>部門代號</th>\n",
              "      <th>到職日期</th>\n",
              "      <th>年齡</th>\n",
              "      <th>到職日期2</th>\n",
              "    </tr>\n",
              "  </thead>\n",
              "  <tbody>\n",
              "    <tr>\n",
              "      <th>0</th>\n",
              "      <td>A01</td>\n",
              "      <td>張三</td>\n",
              "      <td>D001</td>\n",
              "      <td>2003-07-02</td>\n",
              "      <td>50</td>\n",
              "      <td>2003/07/02</td>\n",
              "    </tr>\n",
              "    <tr>\n",
              "      <th>1</th>\n",
              "      <td>A02</td>\n",
              "      <td>李四</td>\n",
              "      <td>D001</td>\n",
              "      <td>2004-01-01</td>\n",
              "      <td>45</td>\n",
              "      <td>2004/01/01</td>\n",
              "    </tr>\n",
              "    <tr>\n",
              "      <th>2</th>\n",
              "      <td>A03</td>\n",
              "      <td>王五</td>\n",
              "      <td>D001</td>\n",
              "      <td>2004-04-30</td>\n",
              "      <td>42</td>\n",
              "      <td>2004/04/30</td>\n",
              "    </tr>\n",
              "  </tbody>\n",
              "</table>\n",
              "</div>\n",
              "      <button class=\"colab-df-convert\" onclick=\"convertToInteractive('df-b2775118-7296-446e-bc92-a5fb62885b4b')\"\n",
              "              title=\"Convert this dataframe to an interactive table.\"\n",
              "              style=\"display:none;\">\n",
              "        \n",
              "  <svg xmlns=\"http://www.w3.org/2000/svg\" height=\"24px\"viewBox=\"0 0 24 24\"\n",
              "       width=\"24px\">\n",
              "    <path d=\"M0 0h24v24H0V0z\" fill=\"none\"/>\n",
              "    <path d=\"M18.56 5.44l.94 2.06.94-2.06 2.06-.94-2.06-.94-.94-2.06-.94 2.06-2.06.94zm-11 1L8.5 8.5l.94-2.06 2.06-.94-2.06-.94L8.5 2.5l-.94 2.06-2.06.94zm10 10l.94 2.06.94-2.06 2.06-.94-2.06-.94-.94-2.06-.94 2.06-2.06.94z\"/><path d=\"M17.41 7.96l-1.37-1.37c-.4-.4-.92-.59-1.43-.59-.52 0-1.04.2-1.43.59L10.3 9.45l-7.72 7.72c-.78.78-.78 2.05 0 2.83L4 21.41c.39.39.9.59 1.41.59.51 0 1.02-.2 1.41-.59l7.78-7.78 2.81-2.81c.8-.78.8-2.07 0-2.86zM5.41 20L4 18.59l7.72-7.72 1.47 1.35L5.41 20z\"/>\n",
              "  </svg>\n",
              "      </button>\n",
              "      \n",
              "  <style>\n",
              "    .colab-df-container {\n",
              "      display:flex;\n",
              "      flex-wrap:wrap;\n",
              "      gap: 12px;\n",
              "    }\n",
              "\n",
              "    .colab-df-convert {\n",
              "      background-color: #E8F0FE;\n",
              "      border: none;\n",
              "      border-radius: 50%;\n",
              "      cursor: pointer;\n",
              "      display: none;\n",
              "      fill: #1967D2;\n",
              "      height: 32px;\n",
              "      padding: 0 0 0 0;\n",
              "      width: 32px;\n",
              "    }\n",
              "\n",
              "    .colab-df-convert:hover {\n",
              "      background-color: #E2EBFA;\n",
              "      box-shadow: 0px 1px 2px rgba(60, 64, 67, 0.3), 0px 1px 3px 1px rgba(60, 64, 67, 0.15);\n",
              "      fill: #174EA6;\n",
              "    }\n",
              "\n",
              "    [theme=dark] .colab-df-convert {\n",
              "      background-color: #3B4455;\n",
              "      fill: #D2E3FC;\n",
              "    }\n",
              "\n",
              "    [theme=dark] .colab-df-convert:hover {\n",
              "      background-color: #434B5C;\n",
              "      box-shadow: 0px 1px 3px 1px rgba(0, 0, 0, 0.15);\n",
              "      filter: drop-shadow(0px 1px 2px rgba(0, 0, 0, 0.3));\n",
              "      fill: #FFFFFF;\n",
              "    }\n",
              "  </style>\n",
              "\n",
              "      <script>\n",
              "        const buttonEl =\n",
              "          document.querySelector('#df-b2775118-7296-446e-bc92-a5fb62885b4b button.colab-df-convert');\n",
              "        buttonEl.style.display =\n",
              "          google.colab.kernel.accessAllowed ? 'block' : 'none';\n",
              "\n",
              "        async function convertToInteractive(key) {\n",
              "          const element = document.querySelector('#df-b2775118-7296-446e-bc92-a5fb62885b4b');\n",
              "          const dataTable =\n",
              "            await google.colab.kernel.invokeFunction('convertToInteractive',\n",
              "                                                     [key], {});\n",
              "          if (!dataTable) return;\n",
              "\n",
              "          const docLinkHtml = 'Like what you see? Visit the ' +\n",
              "            '<a target=\"_blank\" href=https://colab.research.google.com/notebooks/data_table.ipynb>data table notebook</a>'\n",
              "            + ' to learn more about interactive tables.';\n",
              "          element.innerHTML = '';\n",
              "          dataTable['output_type'] = 'display_data';\n",
              "          await google.colab.output.renderOutput(dataTable, element);\n",
              "          const docLink = document.createElement('div');\n",
              "          docLink.innerHTML = docLinkHtml;\n",
              "          element.appendChild(docLink);\n",
              "        }\n",
              "      </script>\n",
              "    </div>\n",
              "  </div>\n",
              "  "
            ]
          },
          "metadata": {},
          "execution_count": 85
        }
      ]
    },
    {
      "cell_type": "code",
      "source": [
        "df1['到職日期2'] = pd.to_datetime(df1['到職日期2'], format = '%Y/%m/%d')  #再將它的型態轉成datetime格式"
      ],
      "metadata": {
        "id": "OMOeqwTh1WoL"
      },
      "execution_count": null,
      "outputs": []
    },
    {
      "cell_type": "code",
      "source": [
        "df1.info()"
      ],
      "metadata": {
        "colab": {
          "base_uri": "https://localhost:8080/"
        },
        "id": "Vkn7w14Y1ZVn",
        "outputId": "5b85fdb1-2193-4329-e015-936cb9367779"
      },
      "execution_count": null,
      "outputs": [
        {
          "output_type": "stream",
          "name": "stdout",
          "text": [
            "<class 'pandas.core.frame.DataFrame'>\n",
            "RangeIndex: 3 entries, 0 to 2\n",
            "Data columns (total 6 columns):\n",
            " #   Column  Non-Null Count  Dtype         \n",
            "---  ------  --------------  -----         \n",
            " 0   員工代號    3 non-null      object        \n",
            " 1   姓名      3 non-null      object        \n",
            " 2   部門代號    3 non-null      object        \n",
            " 3   到職日期    3 non-null      datetime64[ns]\n",
            " 4   年齡      3 non-null      int64         \n",
            " 5   到職日期2   3 non-null      datetime64[ns]\n",
            "dtypes: datetime64[ns](2), int64(1), object(3)\n",
            "memory usage: 272.0+ bytes\n"
          ]
        }
      ]
    },
    {
      "cell_type": "markdown",
      "source": [
        "UTC time"
      ],
      "metadata": {
        "id": "et8l3XdB3Dxs"
      }
    },
    {
      "cell_type": "code",
      "source": [
        "data = pd.read_csv(\"/content/drive/MyDrive/0526時間序列/data1.csv\")\n",
        "data.head()"
      ],
      "metadata": {
        "colab": {
          "base_uri": "https://localhost:8080/",
          "height": 513
        },
        "id": "NewxTCdh3KZQ",
        "outputId": "9f19b3a4-8a1f-4f94-dcfe-8b5e8a5864e5"
      },
      "execution_count": null,
      "outputs": [
        {
          "output_type": "execute_result",
          "data": {
            "text/plain": [
              "      index               event_time event_type  product_id  \\\n",
              "0  12710949  2019-10-16 03:23:01 UTC       view     1004856   \n",
              "1  21463275  2019-10-25 14:22:04 UTC       view    27000006   \n",
              "2   6762380  2019-10-09 11:42:19 UTC       view     1002544   \n",
              "3  12325960  2019-10-15 14:41:35 UTC       view     1307350   \n",
              "4    491263  2019-10-01 14:35:13 UTC       view     1307179   \n",
              "\n",
              "           category_id           category_code     brand   price    user_id  \\\n",
              "0  2053013555631882655  electronics.smartphone   samsung  131.64  560678325   \n",
              "1  2053013564674802599           sport.trainer  housefit  254.83  516048955   \n",
              "2  2053013555631882655  electronics.smartphone     apple  460.62  512863381   \n",
              "3  2053013558920217191      computers.notebook      acer  489.05  541456824   \n",
              "4  2053013558920217191      computers.notebook    lenovo  720.71  550038326   \n",
              "\n",
              "                           user_session category_lvl1 category_lvl2  \n",
              "0  6679f202-7fd2-49b9-b42d-36b770c7ef14   electronics    smartphone  \n",
              "1  82ca4e9e-dfda-4dcc-8ef8-d38cf5f6ead0         sport       trainer  \n",
              "2  b704b5fc-3fcd-41ad-b249-a74912444297   electronics    smartphone  \n",
              "3  3c3af379-e58c-46d1-98d3-dba766f3ad23     computers      notebook  \n",
              "4  dbd5bea4-58b9-4cb1-9b65-1d44c15419cc     computers      notebook  "
            ],
            "text/html": [
              "\n",
              "  <div id=\"df-9eea9cb7-0f31-4a33-8dd6-d98e091e68b5\">\n",
              "    <div class=\"colab-df-container\">\n",
              "      <div>\n",
              "<style scoped>\n",
              "    .dataframe tbody tr th:only-of-type {\n",
              "        vertical-align: middle;\n",
              "    }\n",
              "\n",
              "    .dataframe tbody tr th {\n",
              "        vertical-align: top;\n",
              "    }\n",
              "\n",
              "    .dataframe thead th {\n",
              "        text-align: right;\n",
              "    }\n",
              "</style>\n",
              "<table border=\"1\" class=\"dataframe\">\n",
              "  <thead>\n",
              "    <tr style=\"text-align: right;\">\n",
              "      <th></th>\n",
              "      <th>index</th>\n",
              "      <th>event_time</th>\n",
              "      <th>event_type</th>\n",
              "      <th>product_id</th>\n",
              "      <th>category_id</th>\n",
              "      <th>category_code</th>\n",
              "      <th>brand</th>\n",
              "      <th>price</th>\n",
              "      <th>user_id</th>\n",
              "      <th>user_session</th>\n",
              "      <th>category_lvl1</th>\n",
              "      <th>category_lvl2</th>\n",
              "    </tr>\n",
              "  </thead>\n",
              "  <tbody>\n",
              "    <tr>\n",
              "      <th>0</th>\n",
              "      <td>12710949</td>\n",
              "      <td>2019-10-16 03:23:01 UTC</td>\n",
              "      <td>view</td>\n",
              "      <td>1004856</td>\n",
              "      <td>2053013555631882655</td>\n",
              "      <td>electronics.smartphone</td>\n",
              "      <td>samsung</td>\n",
              "      <td>131.64</td>\n",
              "      <td>560678325</td>\n",
              "      <td>6679f202-7fd2-49b9-b42d-36b770c7ef14</td>\n",
              "      <td>electronics</td>\n",
              "      <td>smartphone</td>\n",
              "    </tr>\n",
              "    <tr>\n",
              "      <th>1</th>\n",
              "      <td>21463275</td>\n",
              "      <td>2019-10-25 14:22:04 UTC</td>\n",
              "      <td>view</td>\n",
              "      <td>27000006</td>\n",
              "      <td>2053013564674802599</td>\n",
              "      <td>sport.trainer</td>\n",
              "      <td>housefit</td>\n",
              "      <td>254.83</td>\n",
              "      <td>516048955</td>\n",
              "      <td>82ca4e9e-dfda-4dcc-8ef8-d38cf5f6ead0</td>\n",
              "      <td>sport</td>\n",
              "      <td>trainer</td>\n",
              "    </tr>\n",
              "    <tr>\n",
              "      <th>2</th>\n",
              "      <td>6762380</td>\n",
              "      <td>2019-10-09 11:42:19 UTC</td>\n",
              "      <td>view</td>\n",
              "      <td>1002544</td>\n",
              "      <td>2053013555631882655</td>\n",
              "      <td>electronics.smartphone</td>\n",
              "      <td>apple</td>\n",
              "      <td>460.62</td>\n",
              "      <td>512863381</td>\n",
              "      <td>b704b5fc-3fcd-41ad-b249-a74912444297</td>\n",
              "      <td>electronics</td>\n",
              "      <td>smartphone</td>\n",
              "    </tr>\n",
              "    <tr>\n",
              "      <th>3</th>\n",
              "      <td>12325960</td>\n",
              "      <td>2019-10-15 14:41:35 UTC</td>\n",
              "      <td>view</td>\n",
              "      <td>1307350</td>\n",
              "      <td>2053013558920217191</td>\n",
              "      <td>computers.notebook</td>\n",
              "      <td>acer</td>\n",
              "      <td>489.05</td>\n",
              "      <td>541456824</td>\n",
              "      <td>3c3af379-e58c-46d1-98d3-dba766f3ad23</td>\n",
              "      <td>computers</td>\n",
              "      <td>notebook</td>\n",
              "    </tr>\n",
              "    <tr>\n",
              "      <th>4</th>\n",
              "      <td>491263</td>\n",
              "      <td>2019-10-01 14:35:13 UTC</td>\n",
              "      <td>view</td>\n",
              "      <td>1307179</td>\n",
              "      <td>2053013558920217191</td>\n",
              "      <td>computers.notebook</td>\n",
              "      <td>lenovo</td>\n",
              "      <td>720.71</td>\n",
              "      <td>550038326</td>\n",
              "      <td>dbd5bea4-58b9-4cb1-9b65-1d44c15419cc</td>\n",
              "      <td>computers</td>\n",
              "      <td>notebook</td>\n",
              "    </tr>\n",
              "  </tbody>\n",
              "</table>\n",
              "</div>\n",
              "      <button class=\"colab-df-convert\" onclick=\"convertToInteractive('df-9eea9cb7-0f31-4a33-8dd6-d98e091e68b5')\"\n",
              "              title=\"Convert this dataframe to an interactive table.\"\n",
              "              style=\"display:none;\">\n",
              "        \n",
              "  <svg xmlns=\"http://www.w3.org/2000/svg\" height=\"24px\"viewBox=\"0 0 24 24\"\n",
              "       width=\"24px\">\n",
              "    <path d=\"M0 0h24v24H0V0z\" fill=\"none\"/>\n",
              "    <path d=\"M18.56 5.44l.94 2.06.94-2.06 2.06-.94-2.06-.94-.94-2.06-.94 2.06-2.06.94zm-11 1L8.5 8.5l.94-2.06 2.06-.94-2.06-.94L8.5 2.5l-.94 2.06-2.06.94zm10 10l.94 2.06.94-2.06 2.06-.94-2.06-.94-.94-2.06-.94 2.06-2.06.94z\"/><path d=\"M17.41 7.96l-1.37-1.37c-.4-.4-.92-.59-1.43-.59-.52 0-1.04.2-1.43.59L10.3 9.45l-7.72 7.72c-.78.78-.78 2.05 0 2.83L4 21.41c.39.39.9.59 1.41.59.51 0 1.02-.2 1.41-.59l7.78-7.78 2.81-2.81c.8-.78.8-2.07 0-2.86zM5.41 20L4 18.59l7.72-7.72 1.47 1.35L5.41 20z\"/>\n",
              "  </svg>\n",
              "      </button>\n",
              "      \n",
              "  <style>\n",
              "    .colab-df-container {\n",
              "      display:flex;\n",
              "      flex-wrap:wrap;\n",
              "      gap: 12px;\n",
              "    }\n",
              "\n",
              "    .colab-df-convert {\n",
              "      background-color: #E8F0FE;\n",
              "      border: none;\n",
              "      border-radius: 50%;\n",
              "      cursor: pointer;\n",
              "      display: none;\n",
              "      fill: #1967D2;\n",
              "      height: 32px;\n",
              "      padding: 0 0 0 0;\n",
              "      width: 32px;\n",
              "    }\n",
              "\n",
              "    .colab-df-convert:hover {\n",
              "      background-color: #E2EBFA;\n",
              "      box-shadow: 0px 1px 2px rgba(60, 64, 67, 0.3), 0px 1px 3px 1px rgba(60, 64, 67, 0.15);\n",
              "      fill: #174EA6;\n",
              "    }\n",
              "\n",
              "    [theme=dark] .colab-df-convert {\n",
              "      background-color: #3B4455;\n",
              "      fill: #D2E3FC;\n",
              "    }\n",
              "\n",
              "    [theme=dark] .colab-df-convert:hover {\n",
              "      background-color: #434B5C;\n",
              "      box-shadow: 0px 1px 3px 1px rgba(0, 0, 0, 0.15);\n",
              "      filter: drop-shadow(0px 1px 2px rgba(0, 0, 0, 0.3));\n",
              "      fill: #FFFFFF;\n",
              "    }\n",
              "  </style>\n",
              "\n",
              "      <script>\n",
              "        const buttonEl =\n",
              "          document.querySelector('#df-9eea9cb7-0f31-4a33-8dd6-d98e091e68b5 button.colab-df-convert');\n",
              "        buttonEl.style.display =\n",
              "          google.colab.kernel.accessAllowed ? 'block' : 'none';\n",
              "\n",
              "        async function convertToInteractive(key) {\n",
              "          const element = document.querySelector('#df-9eea9cb7-0f31-4a33-8dd6-d98e091e68b5');\n",
              "          const dataTable =\n",
              "            await google.colab.kernel.invokeFunction('convertToInteractive',\n",
              "                                                     [key], {});\n",
              "          if (!dataTable) return;\n",
              "\n",
              "          const docLinkHtml = 'Like what you see? Visit the ' +\n",
              "            '<a target=\"_blank\" href=https://colab.research.google.com/notebooks/data_table.ipynb>data table notebook</a>'\n",
              "            + ' to learn more about interactive tables.';\n",
              "          element.innerHTML = '';\n",
              "          dataTable['output_type'] = 'display_data';\n",
              "          await google.colab.output.renderOutput(dataTable, element);\n",
              "          const docLink = document.createElement('div');\n",
              "          docLink.innerHTML = docLinkHtml;\n",
              "          element.appendChild(docLink);\n",
              "        }\n",
              "      </script>\n",
              "    </div>\n",
              "  </div>\n",
              "  "
            ]
          },
          "metadata": {},
          "execution_count": 88
        }
      ]
    },
    {
      "cell_type": "code",
      "source": [
        "def convert_time_to_date(utc_timestamp):        #為了從中取出date而寫的一個函數\n",
        "    utc_date = datetime.datetime.strptime(utc_timestamp[0:10], '%Y-%m-%d').date()\n",
        "    return utc_date "
      ],
      "metadata": {
        "id": "ySCBWI2l1sXP"
      },
      "execution_count": null,
      "outputs": []
    },
    {
      "cell_type": "code",
      "source": [
        "# Due to the amount of data, datetime conversion takes a while....   \n",
        "data['event_date'] = data['event_time'].apply(lambda s: convert_time_to_date(s))  #將資料取出來丟入函數中去形成新的欄位"
      ],
      "metadata": {
        "id": "UfkJ9suJ2BZI"
      },
      "execution_count": null,
      "outputs": []
    },
    {
      "cell_type": "code",
      "source": [
        "data.head()"
      ],
      "metadata": {
        "colab": {
          "base_uri": "https://localhost:8080/",
          "height": 513
        },
        "id": "bxNb0OY41wZ7",
        "outputId": "43c9410f-118e-4fff-ea4c-f74092cd1c91"
      },
      "execution_count": null,
      "outputs": [
        {
          "output_type": "execute_result",
          "data": {
            "text/plain": [
              "      index               event_time event_type  product_id  \\\n",
              "0  12710949  2019-10-16 03:23:01 UTC       view     1004856   \n",
              "1  21463275  2019-10-25 14:22:04 UTC       view    27000006   \n",
              "2   6762380  2019-10-09 11:42:19 UTC       view     1002544   \n",
              "3  12325960  2019-10-15 14:41:35 UTC       view     1307350   \n",
              "4    491263  2019-10-01 14:35:13 UTC       view     1307179   \n",
              "\n",
              "           category_id           category_code     brand   price    user_id  \\\n",
              "0  2053013555631882655  electronics.smartphone   samsung  131.64  560678325   \n",
              "1  2053013564674802599           sport.trainer  housefit  254.83  516048955   \n",
              "2  2053013555631882655  electronics.smartphone     apple  460.62  512863381   \n",
              "3  2053013558920217191      computers.notebook      acer  489.05  541456824   \n",
              "4  2053013558920217191      computers.notebook    lenovo  720.71  550038326   \n",
              "\n",
              "                           user_session category_lvl1 category_lvl2  \\\n",
              "0  6679f202-7fd2-49b9-b42d-36b770c7ef14   electronics    smartphone   \n",
              "1  82ca4e9e-dfda-4dcc-8ef8-d38cf5f6ead0         sport       trainer   \n",
              "2  b704b5fc-3fcd-41ad-b249-a74912444297   electronics    smartphone   \n",
              "3  3c3af379-e58c-46d1-98d3-dba766f3ad23     computers      notebook   \n",
              "4  dbd5bea4-58b9-4cb1-9b65-1d44c15419cc     computers      notebook   \n",
              "\n",
              "   event_date  \n",
              "0  2019-10-16  \n",
              "1  2019-10-25  \n",
              "2  2019-10-09  \n",
              "3  2019-10-15  \n",
              "4  2019-10-01  "
            ],
            "text/html": [
              "\n",
              "  <div id=\"df-f031e7d7-8c36-4b27-b3fc-fc3f00edf908\">\n",
              "    <div class=\"colab-df-container\">\n",
              "      <div>\n",
              "<style scoped>\n",
              "    .dataframe tbody tr th:only-of-type {\n",
              "        vertical-align: middle;\n",
              "    }\n",
              "\n",
              "    .dataframe tbody tr th {\n",
              "        vertical-align: top;\n",
              "    }\n",
              "\n",
              "    .dataframe thead th {\n",
              "        text-align: right;\n",
              "    }\n",
              "</style>\n",
              "<table border=\"1\" class=\"dataframe\">\n",
              "  <thead>\n",
              "    <tr style=\"text-align: right;\">\n",
              "      <th></th>\n",
              "      <th>index</th>\n",
              "      <th>event_time</th>\n",
              "      <th>event_type</th>\n",
              "      <th>product_id</th>\n",
              "      <th>category_id</th>\n",
              "      <th>category_code</th>\n",
              "      <th>brand</th>\n",
              "      <th>price</th>\n",
              "      <th>user_id</th>\n",
              "      <th>user_session</th>\n",
              "      <th>category_lvl1</th>\n",
              "      <th>category_lvl2</th>\n",
              "      <th>event_date</th>\n",
              "    </tr>\n",
              "  </thead>\n",
              "  <tbody>\n",
              "    <tr>\n",
              "      <th>0</th>\n",
              "      <td>12710949</td>\n",
              "      <td>2019-10-16 03:23:01 UTC</td>\n",
              "      <td>view</td>\n",
              "      <td>1004856</td>\n",
              "      <td>2053013555631882655</td>\n",
              "      <td>electronics.smartphone</td>\n",
              "      <td>samsung</td>\n",
              "      <td>131.64</td>\n",
              "      <td>560678325</td>\n",
              "      <td>6679f202-7fd2-49b9-b42d-36b770c7ef14</td>\n",
              "      <td>electronics</td>\n",
              "      <td>smartphone</td>\n",
              "      <td>2019-10-16</td>\n",
              "    </tr>\n",
              "    <tr>\n",
              "      <th>1</th>\n",
              "      <td>21463275</td>\n",
              "      <td>2019-10-25 14:22:04 UTC</td>\n",
              "      <td>view</td>\n",
              "      <td>27000006</td>\n",
              "      <td>2053013564674802599</td>\n",
              "      <td>sport.trainer</td>\n",
              "      <td>housefit</td>\n",
              "      <td>254.83</td>\n",
              "      <td>516048955</td>\n",
              "      <td>82ca4e9e-dfda-4dcc-8ef8-d38cf5f6ead0</td>\n",
              "      <td>sport</td>\n",
              "      <td>trainer</td>\n",
              "      <td>2019-10-25</td>\n",
              "    </tr>\n",
              "    <tr>\n",
              "      <th>2</th>\n",
              "      <td>6762380</td>\n",
              "      <td>2019-10-09 11:42:19 UTC</td>\n",
              "      <td>view</td>\n",
              "      <td>1002544</td>\n",
              "      <td>2053013555631882655</td>\n",
              "      <td>electronics.smartphone</td>\n",
              "      <td>apple</td>\n",
              "      <td>460.62</td>\n",
              "      <td>512863381</td>\n",
              "      <td>b704b5fc-3fcd-41ad-b249-a74912444297</td>\n",
              "      <td>electronics</td>\n",
              "      <td>smartphone</td>\n",
              "      <td>2019-10-09</td>\n",
              "    </tr>\n",
              "    <tr>\n",
              "      <th>3</th>\n",
              "      <td>12325960</td>\n",
              "      <td>2019-10-15 14:41:35 UTC</td>\n",
              "      <td>view</td>\n",
              "      <td>1307350</td>\n",
              "      <td>2053013558920217191</td>\n",
              "      <td>computers.notebook</td>\n",
              "      <td>acer</td>\n",
              "      <td>489.05</td>\n",
              "      <td>541456824</td>\n",
              "      <td>3c3af379-e58c-46d1-98d3-dba766f3ad23</td>\n",
              "      <td>computers</td>\n",
              "      <td>notebook</td>\n",
              "      <td>2019-10-15</td>\n",
              "    </tr>\n",
              "    <tr>\n",
              "      <th>4</th>\n",
              "      <td>491263</td>\n",
              "      <td>2019-10-01 14:35:13 UTC</td>\n",
              "      <td>view</td>\n",
              "      <td>1307179</td>\n",
              "      <td>2053013558920217191</td>\n",
              "      <td>computers.notebook</td>\n",
              "      <td>lenovo</td>\n",
              "      <td>720.71</td>\n",
              "      <td>550038326</td>\n",
              "      <td>dbd5bea4-58b9-4cb1-9b65-1d44c15419cc</td>\n",
              "      <td>computers</td>\n",
              "      <td>notebook</td>\n",
              "      <td>2019-10-01</td>\n",
              "    </tr>\n",
              "  </tbody>\n",
              "</table>\n",
              "</div>\n",
              "      <button class=\"colab-df-convert\" onclick=\"convertToInteractive('df-f031e7d7-8c36-4b27-b3fc-fc3f00edf908')\"\n",
              "              title=\"Convert this dataframe to an interactive table.\"\n",
              "              style=\"display:none;\">\n",
              "        \n",
              "  <svg xmlns=\"http://www.w3.org/2000/svg\" height=\"24px\"viewBox=\"0 0 24 24\"\n",
              "       width=\"24px\">\n",
              "    <path d=\"M0 0h24v24H0V0z\" fill=\"none\"/>\n",
              "    <path d=\"M18.56 5.44l.94 2.06.94-2.06 2.06-.94-2.06-.94-.94-2.06-.94 2.06-2.06.94zm-11 1L8.5 8.5l.94-2.06 2.06-.94-2.06-.94L8.5 2.5l-.94 2.06-2.06.94zm10 10l.94 2.06.94-2.06 2.06-.94-2.06-.94-.94-2.06-.94 2.06-2.06.94z\"/><path d=\"M17.41 7.96l-1.37-1.37c-.4-.4-.92-.59-1.43-.59-.52 0-1.04.2-1.43.59L10.3 9.45l-7.72 7.72c-.78.78-.78 2.05 0 2.83L4 21.41c.39.39.9.59 1.41.59.51 0 1.02-.2 1.41-.59l7.78-7.78 2.81-2.81c.8-.78.8-2.07 0-2.86zM5.41 20L4 18.59l7.72-7.72 1.47 1.35L5.41 20z\"/>\n",
              "  </svg>\n",
              "      </button>\n",
              "      \n",
              "  <style>\n",
              "    .colab-df-container {\n",
              "      display:flex;\n",
              "      flex-wrap:wrap;\n",
              "      gap: 12px;\n",
              "    }\n",
              "\n",
              "    .colab-df-convert {\n",
              "      background-color: #E8F0FE;\n",
              "      border: none;\n",
              "      border-radius: 50%;\n",
              "      cursor: pointer;\n",
              "      display: none;\n",
              "      fill: #1967D2;\n",
              "      height: 32px;\n",
              "      padding: 0 0 0 0;\n",
              "      width: 32px;\n",
              "    }\n",
              "\n",
              "    .colab-df-convert:hover {\n",
              "      background-color: #E2EBFA;\n",
              "      box-shadow: 0px 1px 2px rgba(60, 64, 67, 0.3), 0px 1px 3px 1px rgba(60, 64, 67, 0.15);\n",
              "      fill: #174EA6;\n",
              "    }\n",
              "\n",
              "    [theme=dark] .colab-df-convert {\n",
              "      background-color: #3B4455;\n",
              "      fill: #D2E3FC;\n",
              "    }\n",
              "\n",
              "    [theme=dark] .colab-df-convert:hover {\n",
              "      background-color: #434B5C;\n",
              "      box-shadow: 0px 1px 3px 1px rgba(0, 0, 0, 0.15);\n",
              "      filter: drop-shadow(0px 1px 2px rgba(0, 0, 0, 0.3));\n",
              "      fill: #FFFFFF;\n",
              "    }\n",
              "  </style>\n",
              "\n",
              "      <script>\n",
              "        const buttonEl =\n",
              "          document.querySelector('#df-f031e7d7-8c36-4b27-b3fc-fc3f00edf908 button.colab-df-convert');\n",
              "        buttonEl.style.display =\n",
              "          google.colab.kernel.accessAllowed ? 'block' : 'none';\n",
              "\n",
              "        async function convertToInteractive(key) {\n",
              "          const element = document.querySelector('#df-f031e7d7-8c36-4b27-b3fc-fc3f00edf908');\n",
              "          const dataTable =\n",
              "            await google.colab.kernel.invokeFunction('convertToInteractive',\n",
              "                                                     [key], {});\n",
              "          if (!dataTable) return;\n",
              "\n",
              "          const docLinkHtml = 'Like what you see? Visit the ' +\n",
              "            '<a target=\"_blank\" href=https://colab.research.google.com/notebooks/data_table.ipynb>data table notebook</a>'\n",
              "            + ' to learn more about interactive tables.';\n",
              "          element.innerHTML = '';\n",
              "          dataTable['output_type'] = 'display_data';\n",
              "          await google.colab.output.renderOutput(dataTable, element);\n",
              "          const docLink = document.createElement('div');\n",
              "          docLink.innerHTML = docLinkHtml;\n",
              "          element.appendChild(docLink);\n",
              "        }\n",
              "      </script>\n",
              "    </div>\n",
              "  </div>\n",
              "  "
            ]
          },
          "metadata": {},
          "execution_count": 91
        }
      ]
    },
    {
      "cell_type": "markdown",
      "source": [
        "# 想找出與某天的天數"
      ],
      "metadata": {
        "id": "U2aETI4FS1vm"
      }
    },
    {
      "cell_type": "code",
      "source": [
        "study_date = datetime.date(2019,11,1)   #設一個起始日"
      ],
      "metadata": {
        "id": "PM3uNNfp3dvL"
      },
      "execution_count": null,
      "outputs": []
    },
    {
      "cell_type": "code",
      "source": [
        "import numpy as np\n",
        "data['last_purchase'] = study_date - data['event_date']   #時間-時間=timedelta\n",
        "data['last_purchase'].astype('timedelta64[D]')\n",
        "data['last_purchase'] = data['last_purchase'] / np.timedelta64(1, 'D')"
      ],
      "metadata": {
        "id": "xbC1KY1Q4Wsi"
      },
      "execution_count": null,
      "outputs": []
    },
    {
      "cell_type": "code",
      "source": [
        "data.head()"
      ],
      "metadata": {
        "colab": {
          "base_uri": "https://localhost:8080/",
          "height": 513
        },
        "id": "yCAksBr06nHo",
        "outputId": "74e8c223-0197-4761-d879-9c82de4642ad"
      },
      "execution_count": null,
      "outputs": [
        {
          "output_type": "execute_result",
          "data": {
            "text/plain": [
              "      index               event_time event_type  product_id  \\\n",
              "0  12710949  2019-10-16 03:23:01 UTC       view     1004856   \n",
              "1  21463275  2019-10-25 14:22:04 UTC       view    27000006   \n",
              "2   6762380  2019-10-09 11:42:19 UTC       view     1002544   \n",
              "3  12325960  2019-10-15 14:41:35 UTC       view     1307350   \n",
              "4    491263  2019-10-01 14:35:13 UTC       view     1307179   \n",
              "\n",
              "           category_id           category_code     brand   price    user_id  \\\n",
              "0  2053013555631882655  electronics.smartphone   samsung  131.64  560678325   \n",
              "1  2053013564674802599           sport.trainer  housefit  254.83  516048955   \n",
              "2  2053013555631882655  electronics.smartphone     apple  460.62  512863381   \n",
              "3  2053013558920217191      computers.notebook      acer  489.05  541456824   \n",
              "4  2053013558920217191      computers.notebook    lenovo  720.71  550038326   \n",
              "\n",
              "                           user_session category_lvl1 category_lvl2  \\\n",
              "0  6679f202-7fd2-49b9-b42d-36b770c7ef14   electronics    smartphone   \n",
              "1  82ca4e9e-dfda-4dcc-8ef8-d38cf5f6ead0         sport       trainer   \n",
              "2  b704b5fc-3fcd-41ad-b249-a74912444297   electronics    smartphone   \n",
              "3  3c3af379-e58c-46d1-98d3-dba766f3ad23     computers      notebook   \n",
              "4  dbd5bea4-58b9-4cb1-9b65-1d44c15419cc     computers      notebook   \n",
              "\n",
              "   event_date  last_purchase  \n",
              "0  2019-10-16           16.0  \n",
              "1  2019-10-25            7.0  \n",
              "2  2019-10-09           23.0  \n",
              "3  2019-10-15           17.0  \n",
              "4  2019-10-01           31.0  "
            ],
            "text/html": [
              "\n",
              "  <div id=\"df-96fc4e47-7ca7-4b65-84d0-53591553d67c\">\n",
              "    <div class=\"colab-df-container\">\n",
              "      <div>\n",
              "<style scoped>\n",
              "    .dataframe tbody tr th:only-of-type {\n",
              "        vertical-align: middle;\n",
              "    }\n",
              "\n",
              "    .dataframe tbody tr th {\n",
              "        vertical-align: top;\n",
              "    }\n",
              "\n",
              "    .dataframe thead th {\n",
              "        text-align: right;\n",
              "    }\n",
              "</style>\n",
              "<table border=\"1\" class=\"dataframe\">\n",
              "  <thead>\n",
              "    <tr style=\"text-align: right;\">\n",
              "      <th></th>\n",
              "      <th>index</th>\n",
              "      <th>event_time</th>\n",
              "      <th>event_type</th>\n",
              "      <th>product_id</th>\n",
              "      <th>category_id</th>\n",
              "      <th>category_code</th>\n",
              "      <th>brand</th>\n",
              "      <th>price</th>\n",
              "      <th>user_id</th>\n",
              "      <th>user_session</th>\n",
              "      <th>category_lvl1</th>\n",
              "      <th>category_lvl2</th>\n",
              "      <th>event_date</th>\n",
              "      <th>last_purchase</th>\n",
              "    </tr>\n",
              "  </thead>\n",
              "  <tbody>\n",
              "    <tr>\n",
              "      <th>0</th>\n",
              "      <td>12710949</td>\n",
              "      <td>2019-10-16 03:23:01 UTC</td>\n",
              "      <td>view</td>\n",
              "      <td>1004856</td>\n",
              "      <td>2053013555631882655</td>\n",
              "      <td>electronics.smartphone</td>\n",
              "      <td>samsung</td>\n",
              "      <td>131.64</td>\n",
              "      <td>560678325</td>\n",
              "      <td>6679f202-7fd2-49b9-b42d-36b770c7ef14</td>\n",
              "      <td>electronics</td>\n",
              "      <td>smartphone</td>\n",
              "      <td>2019-10-16</td>\n",
              "      <td>16.0</td>\n",
              "    </tr>\n",
              "    <tr>\n",
              "      <th>1</th>\n",
              "      <td>21463275</td>\n",
              "      <td>2019-10-25 14:22:04 UTC</td>\n",
              "      <td>view</td>\n",
              "      <td>27000006</td>\n",
              "      <td>2053013564674802599</td>\n",
              "      <td>sport.trainer</td>\n",
              "      <td>housefit</td>\n",
              "      <td>254.83</td>\n",
              "      <td>516048955</td>\n",
              "      <td>82ca4e9e-dfda-4dcc-8ef8-d38cf5f6ead0</td>\n",
              "      <td>sport</td>\n",
              "      <td>trainer</td>\n",
              "      <td>2019-10-25</td>\n",
              "      <td>7.0</td>\n",
              "    </tr>\n",
              "    <tr>\n",
              "      <th>2</th>\n",
              "      <td>6762380</td>\n",
              "      <td>2019-10-09 11:42:19 UTC</td>\n",
              "      <td>view</td>\n",
              "      <td>1002544</td>\n",
              "      <td>2053013555631882655</td>\n",
              "      <td>electronics.smartphone</td>\n",
              "      <td>apple</td>\n",
              "      <td>460.62</td>\n",
              "      <td>512863381</td>\n",
              "      <td>b704b5fc-3fcd-41ad-b249-a74912444297</td>\n",
              "      <td>electronics</td>\n",
              "      <td>smartphone</td>\n",
              "      <td>2019-10-09</td>\n",
              "      <td>23.0</td>\n",
              "    </tr>\n",
              "    <tr>\n",
              "      <th>3</th>\n",
              "      <td>12325960</td>\n",
              "      <td>2019-10-15 14:41:35 UTC</td>\n",
              "      <td>view</td>\n",
              "      <td>1307350</td>\n",
              "      <td>2053013558920217191</td>\n",
              "      <td>computers.notebook</td>\n",
              "      <td>acer</td>\n",
              "      <td>489.05</td>\n",
              "      <td>541456824</td>\n",
              "      <td>3c3af379-e58c-46d1-98d3-dba766f3ad23</td>\n",
              "      <td>computers</td>\n",
              "      <td>notebook</td>\n",
              "      <td>2019-10-15</td>\n",
              "      <td>17.0</td>\n",
              "    </tr>\n",
              "    <tr>\n",
              "      <th>4</th>\n",
              "      <td>491263</td>\n",
              "      <td>2019-10-01 14:35:13 UTC</td>\n",
              "      <td>view</td>\n",
              "      <td>1307179</td>\n",
              "      <td>2053013558920217191</td>\n",
              "      <td>computers.notebook</td>\n",
              "      <td>lenovo</td>\n",
              "      <td>720.71</td>\n",
              "      <td>550038326</td>\n",
              "      <td>dbd5bea4-58b9-4cb1-9b65-1d44c15419cc</td>\n",
              "      <td>computers</td>\n",
              "      <td>notebook</td>\n",
              "      <td>2019-10-01</td>\n",
              "      <td>31.0</td>\n",
              "    </tr>\n",
              "  </tbody>\n",
              "</table>\n",
              "</div>\n",
              "      <button class=\"colab-df-convert\" onclick=\"convertToInteractive('df-96fc4e47-7ca7-4b65-84d0-53591553d67c')\"\n",
              "              title=\"Convert this dataframe to an interactive table.\"\n",
              "              style=\"display:none;\">\n",
              "        \n",
              "  <svg xmlns=\"http://www.w3.org/2000/svg\" height=\"24px\"viewBox=\"0 0 24 24\"\n",
              "       width=\"24px\">\n",
              "    <path d=\"M0 0h24v24H0V0z\" fill=\"none\"/>\n",
              "    <path d=\"M18.56 5.44l.94 2.06.94-2.06 2.06-.94-2.06-.94-.94-2.06-.94 2.06-2.06.94zm-11 1L8.5 8.5l.94-2.06 2.06-.94-2.06-.94L8.5 2.5l-.94 2.06-2.06.94zm10 10l.94 2.06.94-2.06 2.06-.94-2.06-.94-.94-2.06-.94 2.06-2.06.94z\"/><path d=\"M17.41 7.96l-1.37-1.37c-.4-.4-.92-.59-1.43-.59-.52 0-1.04.2-1.43.59L10.3 9.45l-7.72 7.72c-.78.78-.78 2.05 0 2.83L4 21.41c.39.39.9.59 1.41.59.51 0 1.02-.2 1.41-.59l7.78-7.78 2.81-2.81c.8-.78.8-2.07 0-2.86zM5.41 20L4 18.59l7.72-7.72 1.47 1.35L5.41 20z\"/>\n",
              "  </svg>\n",
              "      </button>\n",
              "      \n",
              "  <style>\n",
              "    .colab-df-container {\n",
              "      display:flex;\n",
              "      flex-wrap:wrap;\n",
              "      gap: 12px;\n",
              "    }\n",
              "\n",
              "    .colab-df-convert {\n",
              "      background-color: #E8F0FE;\n",
              "      border: none;\n",
              "      border-radius: 50%;\n",
              "      cursor: pointer;\n",
              "      display: none;\n",
              "      fill: #1967D2;\n",
              "      height: 32px;\n",
              "      padding: 0 0 0 0;\n",
              "      width: 32px;\n",
              "    }\n",
              "\n",
              "    .colab-df-convert:hover {\n",
              "      background-color: #E2EBFA;\n",
              "      box-shadow: 0px 1px 2px rgba(60, 64, 67, 0.3), 0px 1px 3px 1px rgba(60, 64, 67, 0.15);\n",
              "      fill: #174EA6;\n",
              "    }\n",
              "\n",
              "    [theme=dark] .colab-df-convert {\n",
              "      background-color: #3B4455;\n",
              "      fill: #D2E3FC;\n",
              "    }\n",
              "\n",
              "    [theme=dark] .colab-df-convert:hover {\n",
              "      background-color: #434B5C;\n",
              "      box-shadow: 0px 1px 3px 1px rgba(0, 0, 0, 0.15);\n",
              "      filter: drop-shadow(0px 1px 2px rgba(0, 0, 0, 0.3));\n",
              "      fill: #FFFFFF;\n",
              "    }\n",
              "  </style>\n",
              "\n",
              "      <script>\n",
              "        const buttonEl =\n",
              "          document.querySelector('#df-96fc4e47-7ca7-4b65-84d0-53591553d67c button.colab-df-convert');\n",
              "        buttonEl.style.display =\n",
              "          google.colab.kernel.accessAllowed ? 'block' : 'none';\n",
              "\n",
              "        async function convertToInteractive(key) {\n",
              "          const element = document.querySelector('#df-96fc4e47-7ca7-4b65-84d0-53591553d67c');\n",
              "          const dataTable =\n",
              "            await google.colab.kernel.invokeFunction('convertToInteractive',\n",
              "                                                     [key], {});\n",
              "          if (!dataTable) return;\n",
              "\n",
              "          const docLinkHtml = 'Like what you see? Visit the ' +\n",
              "            '<a target=\"_blank\" href=https://colab.research.google.com/notebooks/data_table.ipynb>data table notebook</a>'\n",
              "            + ' to learn more about interactive tables.';\n",
              "          element.innerHTML = '';\n",
              "          dataTable['output_type'] = 'display_data';\n",
              "          await google.colab.output.renderOutput(dataTable, element);\n",
              "          const docLink = document.createElement('div');\n",
              "          docLink.innerHTML = docLinkHtml;\n",
              "          element.appendChild(docLink);\n",
              "        }\n",
              "      </script>\n",
              "    </div>\n",
              "  </div>\n",
              "  "
            ]
          },
          "metadata": {},
          "execution_count": 94
        }
      ]
    },
    {
      "cell_type": "markdown",
      "source": [
        "對日期進行特徵工程(取出當中重要的資訊 eg.星期幾、年、月、日...  這樣原本的datetime欄位就可以忽略了"
      ],
      "metadata": {
        "id": "e3SXIA9hULEN"
      }
    },
    {
      "cell_type": "code",
      "source": [
        "data['event_date'] = pd.to_datetime(data['event_date'])"
      ],
      "metadata": {
        "id": "eX3Sy9_f7kS4"
      },
      "execution_count": null,
      "outputs": []
    },
    {
      "cell_type": "code",
      "source": [
        "data['event_weekday'] = data['event_date'].apply(lambda s: s.weekday())"
      ],
      "metadata": {
        "id": "WwdKiMzp6y9o"
      },
      "execution_count": null,
      "outputs": []
    },
    {
      "cell_type": "code",
      "source": [
        "data['event_year'] = data['event_date'].apply(lambda s: s.year)"
      ],
      "metadata": {
        "id": "ZoRdzWFO7_FW"
      },
      "execution_count": null,
      "outputs": []
    },
    {
      "cell_type": "code",
      "source": [
        "data['event_month'] = data['event_date'].apply(lambda s: s.month)"
      ],
      "metadata": {
        "id": "x3wEi_9r8BwT"
      },
      "execution_count": null,
      "outputs": []
    },
    {
      "cell_type": "code",
      "source": [
        "data['event_day'] = data['event_date'].apply(lambda s: s.day)"
      ],
      "metadata": {
        "id": "R9UJ0yG17sD3"
      },
      "execution_count": null,
      "outputs": []
    },
    {
      "cell_type": "code",
      "source": [
        "data.info()"
      ],
      "metadata": {
        "colab": {
          "base_uri": "https://localhost:8080/"
        },
        "id": "c9bySMjZ7Cjh",
        "outputId": "f7d53e9e-2dc8-4405-f7b6-66c95ccf5467"
      },
      "execution_count": null,
      "outputs": [
        {
          "output_type": "stream",
          "name": "stdout",
          "text": [
            "<class 'pandas.core.frame.DataFrame'>\n",
            "RangeIndex: 266 entries, 0 to 265\n",
            "Data columns (total 18 columns):\n",
            " #   Column         Non-Null Count  Dtype         \n",
            "---  ------         --------------  -----         \n",
            " 0   index          266 non-null    int64         \n",
            " 1   event_time     266 non-null    object        \n",
            " 2   event_type     266 non-null    object        \n",
            " 3   product_id     266 non-null    int64         \n",
            " 4   category_id    266 non-null    int64         \n",
            " 5   category_code  266 non-null    object        \n",
            " 6   brand          266 non-null    object        \n",
            " 7   price          266 non-null    float64       \n",
            " 8   user_id        266 non-null    int64         \n",
            " 9   user_session   266 non-null    object        \n",
            " 10  category_lvl1  266 non-null    object        \n",
            " 11  category_lvl2  266 non-null    object        \n",
            " 12  event_date     266 non-null    datetime64[ns]\n",
            " 13  last_purchase  266 non-null    float64       \n",
            " 14  event_weekday  266 non-null    int64         \n",
            " 15  event_year     266 non-null    int64         \n",
            " 16  event_month    266 non-null    int64         \n",
            " 17  event_day      266 non-null    int64         \n",
            "dtypes: datetime64[ns](1), float64(2), int64(8), object(7)\n",
            "memory usage: 37.5+ KB\n"
          ]
        }
      ]
    },
    {
      "cell_type": "code",
      "source": [
        "data"
      ],
      "metadata": {
        "colab": {
          "base_uri": "https://localhost:8080/",
          "height": 991
        },
        "id": "3XGUN-tQ7GEl",
        "outputId": "e24c2dd8-b09e-47f4-d65a-cf2dd0bc4c5a"
      },
      "execution_count": null,
      "outputs": [
        {
          "output_type": "execute_result",
          "data": {
            "text/plain": [
              "        index               event_time event_type  product_id  \\\n",
              "0    12710949  2019-10-16 03:23:01 UTC       view     1004856   \n",
              "1    21463275  2019-10-25 14:22:04 UTC       view    27000006   \n",
              "2     6762380  2019-10-09 11:42:19 UTC       view     1002544   \n",
              "3    12325960  2019-10-15 14:41:35 UTC       view     1307350   \n",
              "4      491263  2019-10-01 14:35:13 UTC       view     1307179   \n",
              "..        ...                      ...        ...         ...   \n",
              "261  12675301  2019-10-16 02:01:30 UTC   purchase     3900815   \n",
              "262  11523678  2019-10-14 17:39:51 UTC       view    28715570   \n",
              "263   2667183  2019-10-04 10:56:14 UTC       view     1005121   \n",
              "264   8461543  2019-10-11 13:21:18 UTC       view     1004873   \n",
              "265   5911429  2019-10-08 10:10:00 UTC       view     1002528   \n",
              "\n",
              "             category_id                        category_code     brand  \\\n",
              "0    2053013555631882655               electronics.smartphone   samsung   \n",
              "1    2053013564674802599                        sport.trainer  housefit   \n",
              "2    2053013555631882655               electronics.smartphone     apple   \n",
              "3    2053013558920217191                   computers.notebook      acer   \n",
              "4    2053013558920217191                   computers.notebook    lenovo   \n",
              "..                   ...                                  ...       ...   \n",
              "261  2053013552326770905  appliances.environment.water_heater   ariston   \n",
              "262  2053013565362668491                   apparel.shoes.keds    adidas   \n",
              "263  2053013555631882655               electronics.smartphone     apple   \n",
              "264  2053013555631882655               electronics.smartphone   samsung   \n",
              "265  2053013555631882655               electronics.smartphone     apple   \n",
              "\n",
              "      price    user_id                          user_session category_lvl1  \\\n",
              "0    131.64  560678325  6679f202-7fd2-49b9-b42d-36b770c7ef14   electronics   \n",
              "1    254.83  516048955  82ca4e9e-dfda-4dcc-8ef8-d38cf5f6ead0         sport   \n",
              "2    460.62  512863381  b704b5fc-3fcd-41ad-b249-a74912444297   electronics   \n",
              "3    489.05  541456824  3c3af379-e58c-46d1-98d3-dba766f3ad23     computers   \n",
              "4    720.71  550038326  dbd5bea4-58b9-4cb1-9b65-1d44c15419cc     computers   \n",
              "..      ...        ...                                   ...           ...   \n",
              "261  126.77  560145399  5cd0565a-e8a0-4576-90f7-2d7a37a5b9b9    appliances   \n",
              "262   71.56  518671442  27974a21-6da6-4b92-a75f-368518339e90       apparel   \n",
              "263  975.57  546655461  6f431767-ce0d-477a-9c2b-613ea2ba6da7   electronics   \n",
              "264  378.83  520721861  6bba1694-cade-4002-b08c-41ef8a443679   electronics   \n",
              "265  591.78  558019487  fa2b204c-89c2-4f52-a27d-1064126901fc   electronics   \n",
              "\n",
              "    category_lvl2 event_date  last_purchase  event_weekday  event_year  \\\n",
              "0      smartphone 2019-10-16           16.0              2        2019   \n",
              "1         trainer 2019-10-25            7.0              4        2019   \n",
              "2      smartphone 2019-10-09           23.0              2        2019   \n",
              "3        notebook 2019-10-15           17.0              1        2019   \n",
              "4        notebook 2019-10-01           31.0              1        2019   \n",
              "..            ...        ...            ...            ...         ...   \n",
              "261   environment 2019-10-16           16.0              2        2019   \n",
              "262         shoes 2019-10-14           18.0              0        2019   \n",
              "263    smartphone 2019-10-04           28.0              4        2019   \n",
              "264    smartphone 2019-10-11           21.0              4        2019   \n",
              "265    smartphone 2019-10-08           24.0              1        2019   \n",
              "\n",
              "     event_month  event_day  \n",
              "0             10         16  \n",
              "1             10         25  \n",
              "2             10          9  \n",
              "3             10         15  \n",
              "4             10          1  \n",
              "..           ...        ...  \n",
              "261           10         16  \n",
              "262           10         14  \n",
              "263           10          4  \n",
              "264           10         11  \n",
              "265           10          8  \n",
              "\n",
              "[266 rows x 18 columns]"
            ],
            "text/html": [
              "\n",
              "  <div id=\"df-0b518411-8982-4633-942a-17104548fbd3\">\n",
              "    <div class=\"colab-df-container\">\n",
              "      <div>\n",
              "<style scoped>\n",
              "    .dataframe tbody tr th:only-of-type {\n",
              "        vertical-align: middle;\n",
              "    }\n",
              "\n",
              "    .dataframe tbody tr th {\n",
              "        vertical-align: top;\n",
              "    }\n",
              "\n",
              "    .dataframe thead th {\n",
              "        text-align: right;\n",
              "    }\n",
              "</style>\n",
              "<table border=\"1\" class=\"dataframe\">\n",
              "  <thead>\n",
              "    <tr style=\"text-align: right;\">\n",
              "      <th></th>\n",
              "      <th>index</th>\n",
              "      <th>event_time</th>\n",
              "      <th>event_type</th>\n",
              "      <th>product_id</th>\n",
              "      <th>category_id</th>\n",
              "      <th>category_code</th>\n",
              "      <th>brand</th>\n",
              "      <th>price</th>\n",
              "      <th>user_id</th>\n",
              "      <th>user_session</th>\n",
              "      <th>category_lvl1</th>\n",
              "      <th>category_lvl2</th>\n",
              "      <th>event_date</th>\n",
              "      <th>last_purchase</th>\n",
              "      <th>event_weekday</th>\n",
              "      <th>event_year</th>\n",
              "      <th>event_month</th>\n",
              "      <th>event_day</th>\n",
              "    </tr>\n",
              "  </thead>\n",
              "  <tbody>\n",
              "    <tr>\n",
              "      <th>0</th>\n",
              "      <td>12710949</td>\n",
              "      <td>2019-10-16 03:23:01 UTC</td>\n",
              "      <td>view</td>\n",
              "      <td>1004856</td>\n",
              "      <td>2053013555631882655</td>\n",
              "      <td>electronics.smartphone</td>\n",
              "      <td>samsung</td>\n",
              "      <td>131.64</td>\n",
              "      <td>560678325</td>\n",
              "      <td>6679f202-7fd2-49b9-b42d-36b770c7ef14</td>\n",
              "      <td>electronics</td>\n",
              "      <td>smartphone</td>\n",
              "      <td>2019-10-16</td>\n",
              "      <td>16.0</td>\n",
              "      <td>2</td>\n",
              "      <td>2019</td>\n",
              "      <td>10</td>\n",
              "      <td>16</td>\n",
              "    </tr>\n",
              "    <tr>\n",
              "      <th>1</th>\n",
              "      <td>21463275</td>\n",
              "      <td>2019-10-25 14:22:04 UTC</td>\n",
              "      <td>view</td>\n",
              "      <td>27000006</td>\n",
              "      <td>2053013564674802599</td>\n",
              "      <td>sport.trainer</td>\n",
              "      <td>housefit</td>\n",
              "      <td>254.83</td>\n",
              "      <td>516048955</td>\n",
              "      <td>82ca4e9e-dfda-4dcc-8ef8-d38cf5f6ead0</td>\n",
              "      <td>sport</td>\n",
              "      <td>trainer</td>\n",
              "      <td>2019-10-25</td>\n",
              "      <td>7.0</td>\n",
              "      <td>4</td>\n",
              "      <td>2019</td>\n",
              "      <td>10</td>\n",
              "      <td>25</td>\n",
              "    </tr>\n",
              "    <tr>\n",
              "      <th>2</th>\n",
              "      <td>6762380</td>\n",
              "      <td>2019-10-09 11:42:19 UTC</td>\n",
              "      <td>view</td>\n",
              "      <td>1002544</td>\n",
              "      <td>2053013555631882655</td>\n",
              "      <td>electronics.smartphone</td>\n",
              "      <td>apple</td>\n",
              "      <td>460.62</td>\n",
              "      <td>512863381</td>\n",
              "      <td>b704b5fc-3fcd-41ad-b249-a74912444297</td>\n",
              "      <td>electronics</td>\n",
              "      <td>smartphone</td>\n",
              "      <td>2019-10-09</td>\n",
              "      <td>23.0</td>\n",
              "      <td>2</td>\n",
              "      <td>2019</td>\n",
              "      <td>10</td>\n",
              "      <td>9</td>\n",
              "    </tr>\n",
              "    <tr>\n",
              "      <th>3</th>\n",
              "      <td>12325960</td>\n",
              "      <td>2019-10-15 14:41:35 UTC</td>\n",
              "      <td>view</td>\n",
              "      <td>1307350</td>\n",
              "      <td>2053013558920217191</td>\n",
              "      <td>computers.notebook</td>\n",
              "      <td>acer</td>\n",
              "      <td>489.05</td>\n",
              "      <td>541456824</td>\n",
              "      <td>3c3af379-e58c-46d1-98d3-dba766f3ad23</td>\n",
              "      <td>computers</td>\n",
              "      <td>notebook</td>\n",
              "      <td>2019-10-15</td>\n",
              "      <td>17.0</td>\n",
              "      <td>1</td>\n",
              "      <td>2019</td>\n",
              "      <td>10</td>\n",
              "      <td>15</td>\n",
              "    </tr>\n",
              "    <tr>\n",
              "      <th>4</th>\n",
              "      <td>491263</td>\n",
              "      <td>2019-10-01 14:35:13 UTC</td>\n",
              "      <td>view</td>\n",
              "      <td>1307179</td>\n",
              "      <td>2053013558920217191</td>\n",
              "      <td>computers.notebook</td>\n",
              "      <td>lenovo</td>\n",
              "      <td>720.71</td>\n",
              "      <td>550038326</td>\n",
              "      <td>dbd5bea4-58b9-4cb1-9b65-1d44c15419cc</td>\n",
              "      <td>computers</td>\n",
              "      <td>notebook</td>\n",
              "      <td>2019-10-01</td>\n",
              "      <td>31.0</td>\n",
              "      <td>1</td>\n",
              "      <td>2019</td>\n",
              "      <td>10</td>\n",
              "      <td>1</td>\n",
              "    </tr>\n",
              "    <tr>\n",
              "      <th>...</th>\n",
              "      <td>...</td>\n",
              "      <td>...</td>\n",
              "      <td>...</td>\n",
              "      <td>...</td>\n",
              "      <td>...</td>\n",
              "      <td>...</td>\n",
              "      <td>...</td>\n",
              "      <td>...</td>\n",
              "      <td>...</td>\n",
              "      <td>...</td>\n",
              "      <td>...</td>\n",
              "      <td>...</td>\n",
              "      <td>...</td>\n",
              "      <td>...</td>\n",
              "      <td>...</td>\n",
              "      <td>...</td>\n",
              "      <td>...</td>\n",
              "      <td>...</td>\n",
              "    </tr>\n",
              "    <tr>\n",
              "      <th>261</th>\n",
              "      <td>12675301</td>\n",
              "      <td>2019-10-16 02:01:30 UTC</td>\n",
              "      <td>purchase</td>\n",
              "      <td>3900815</td>\n",
              "      <td>2053013552326770905</td>\n",
              "      <td>appliances.environment.water_heater</td>\n",
              "      <td>ariston</td>\n",
              "      <td>126.77</td>\n",
              "      <td>560145399</td>\n",
              "      <td>5cd0565a-e8a0-4576-90f7-2d7a37a5b9b9</td>\n",
              "      <td>appliances</td>\n",
              "      <td>environment</td>\n",
              "      <td>2019-10-16</td>\n",
              "      <td>16.0</td>\n",
              "      <td>2</td>\n",
              "      <td>2019</td>\n",
              "      <td>10</td>\n",
              "      <td>16</td>\n",
              "    </tr>\n",
              "    <tr>\n",
              "      <th>262</th>\n",
              "      <td>11523678</td>\n",
              "      <td>2019-10-14 17:39:51 UTC</td>\n",
              "      <td>view</td>\n",
              "      <td>28715570</td>\n",
              "      <td>2053013565362668491</td>\n",
              "      <td>apparel.shoes.keds</td>\n",
              "      <td>adidas</td>\n",
              "      <td>71.56</td>\n",
              "      <td>518671442</td>\n",
              "      <td>27974a21-6da6-4b92-a75f-368518339e90</td>\n",
              "      <td>apparel</td>\n",
              "      <td>shoes</td>\n",
              "      <td>2019-10-14</td>\n",
              "      <td>18.0</td>\n",
              "      <td>0</td>\n",
              "      <td>2019</td>\n",
              "      <td>10</td>\n",
              "      <td>14</td>\n",
              "    </tr>\n",
              "    <tr>\n",
              "      <th>263</th>\n",
              "      <td>2667183</td>\n",
              "      <td>2019-10-04 10:56:14 UTC</td>\n",
              "      <td>view</td>\n",
              "      <td>1005121</td>\n",
              "      <td>2053013555631882655</td>\n",
              "      <td>electronics.smartphone</td>\n",
              "      <td>apple</td>\n",
              "      <td>975.57</td>\n",
              "      <td>546655461</td>\n",
              "      <td>6f431767-ce0d-477a-9c2b-613ea2ba6da7</td>\n",
              "      <td>electronics</td>\n",
              "      <td>smartphone</td>\n",
              "      <td>2019-10-04</td>\n",
              "      <td>28.0</td>\n",
              "      <td>4</td>\n",
              "      <td>2019</td>\n",
              "      <td>10</td>\n",
              "      <td>4</td>\n",
              "    </tr>\n",
              "    <tr>\n",
              "      <th>264</th>\n",
              "      <td>8461543</td>\n",
              "      <td>2019-10-11 13:21:18 UTC</td>\n",
              "      <td>view</td>\n",
              "      <td>1004873</td>\n",
              "      <td>2053013555631882655</td>\n",
              "      <td>electronics.smartphone</td>\n",
              "      <td>samsung</td>\n",
              "      <td>378.83</td>\n",
              "      <td>520721861</td>\n",
              "      <td>6bba1694-cade-4002-b08c-41ef8a443679</td>\n",
              "      <td>electronics</td>\n",
              "      <td>smartphone</td>\n",
              "      <td>2019-10-11</td>\n",
              "      <td>21.0</td>\n",
              "      <td>4</td>\n",
              "      <td>2019</td>\n",
              "      <td>10</td>\n",
              "      <td>11</td>\n",
              "    </tr>\n",
              "    <tr>\n",
              "      <th>265</th>\n",
              "      <td>5911429</td>\n",
              "      <td>2019-10-08 10:10:00 UTC</td>\n",
              "      <td>view</td>\n",
              "      <td>1002528</td>\n",
              "      <td>2053013555631882655</td>\n",
              "      <td>electronics.smartphone</td>\n",
              "      <td>apple</td>\n",
              "      <td>591.78</td>\n",
              "      <td>558019487</td>\n",
              "      <td>fa2b204c-89c2-4f52-a27d-1064126901fc</td>\n",
              "      <td>electronics</td>\n",
              "      <td>smartphone</td>\n",
              "      <td>2019-10-08</td>\n",
              "      <td>24.0</td>\n",
              "      <td>1</td>\n",
              "      <td>2019</td>\n",
              "      <td>10</td>\n",
              "      <td>8</td>\n",
              "    </tr>\n",
              "  </tbody>\n",
              "</table>\n",
              "<p>266 rows × 18 columns</p>\n",
              "</div>\n",
              "      <button class=\"colab-df-convert\" onclick=\"convertToInteractive('df-0b518411-8982-4633-942a-17104548fbd3')\"\n",
              "              title=\"Convert this dataframe to an interactive table.\"\n",
              "              style=\"display:none;\">\n",
              "        \n",
              "  <svg xmlns=\"http://www.w3.org/2000/svg\" height=\"24px\"viewBox=\"0 0 24 24\"\n",
              "       width=\"24px\">\n",
              "    <path d=\"M0 0h24v24H0V0z\" fill=\"none\"/>\n",
              "    <path d=\"M18.56 5.44l.94 2.06.94-2.06 2.06-.94-2.06-.94-.94-2.06-.94 2.06-2.06.94zm-11 1L8.5 8.5l.94-2.06 2.06-.94-2.06-.94L8.5 2.5l-.94 2.06-2.06.94zm10 10l.94 2.06.94-2.06 2.06-.94-2.06-.94-.94-2.06-.94 2.06-2.06.94z\"/><path d=\"M17.41 7.96l-1.37-1.37c-.4-.4-.92-.59-1.43-.59-.52 0-1.04.2-1.43.59L10.3 9.45l-7.72 7.72c-.78.78-.78 2.05 0 2.83L4 21.41c.39.39.9.59 1.41.59.51 0 1.02-.2 1.41-.59l7.78-7.78 2.81-2.81c.8-.78.8-2.07 0-2.86zM5.41 20L4 18.59l7.72-7.72 1.47 1.35L5.41 20z\"/>\n",
              "  </svg>\n",
              "      </button>\n",
              "      \n",
              "  <style>\n",
              "    .colab-df-container {\n",
              "      display:flex;\n",
              "      flex-wrap:wrap;\n",
              "      gap: 12px;\n",
              "    }\n",
              "\n",
              "    .colab-df-convert {\n",
              "      background-color: #E8F0FE;\n",
              "      border: none;\n",
              "      border-radius: 50%;\n",
              "      cursor: pointer;\n",
              "      display: none;\n",
              "      fill: #1967D2;\n",
              "      height: 32px;\n",
              "      padding: 0 0 0 0;\n",
              "      width: 32px;\n",
              "    }\n",
              "\n",
              "    .colab-df-convert:hover {\n",
              "      background-color: #E2EBFA;\n",
              "      box-shadow: 0px 1px 2px rgba(60, 64, 67, 0.3), 0px 1px 3px 1px rgba(60, 64, 67, 0.15);\n",
              "      fill: #174EA6;\n",
              "    }\n",
              "\n",
              "    [theme=dark] .colab-df-convert {\n",
              "      background-color: #3B4455;\n",
              "      fill: #D2E3FC;\n",
              "    }\n",
              "\n",
              "    [theme=dark] .colab-df-convert:hover {\n",
              "      background-color: #434B5C;\n",
              "      box-shadow: 0px 1px 3px 1px rgba(0, 0, 0, 0.15);\n",
              "      filter: drop-shadow(0px 1px 2px rgba(0, 0, 0, 0.3));\n",
              "      fill: #FFFFFF;\n",
              "    }\n",
              "  </style>\n",
              "\n",
              "      <script>\n",
              "        const buttonEl =\n",
              "          document.querySelector('#df-0b518411-8982-4633-942a-17104548fbd3 button.colab-df-convert');\n",
              "        buttonEl.style.display =\n",
              "          google.colab.kernel.accessAllowed ? 'block' : 'none';\n",
              "\n",
              "        async function convertToInteractive(key) {\n",
              "          const element = document.querySelector('#df-0b518411-8982-4633-942a-17104548fbd3');\n",
              "          const dataTable =\n",
              "            await google.colab.kernel.invokeFunction('convertToInteractive',\n",
              "                                                     [key], {});\n",
              "          if (!dataTable) return;\n",
              "\n",
              "          const docLinkHtml = 'Like what you see? Visit the ' +\n",
              "            '<a target=\"_blank\" href=https://colab.research.google.com/notebooks/data_table.ipynb>data table notebook</a>'\n",
              "            + ' to learn more about interactive tables.';\n",
              "          element.innerHTML = '';\n",
              "          dataTable['output_type'] = 'display_data';\n",
              "          await google.colab.output.renderOutput(dataTable, element);\n",
              "          const docLink = document.createElement('div');\n",
              "          docLink.innerHTML = docLinkHtml;\n",
              "          element.appendChild(docLink);\n",
              "        }\n",
              "      </script>\n",
              "    </div>\n",
              "  </div>\n",
              "  "
            ]
          },
          "metadata": {},
          "execution_count": 101
        }
      ]
    },
    {
      "cell_type": "code",
      "source": [],
      "metadata": {
        "id": "VW5G0DDw77bu"
      },
      "execution_count": null,
      "outputs": []
    }
  ]
}